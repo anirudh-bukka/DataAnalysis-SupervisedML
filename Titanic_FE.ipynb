{
  "cells": [
    {
      "cell_type": "markdown",
      "metadata": {
        "id": "view-in-github",
        "colab_type": "text"
      },
      "source": [
        "<a href=\"https://colab.research.google.com/github/anirudh-bukka/Netflix-Dataset-Analysis/blob/main/Titanic_FE.ipynb\" target=\"_parent\"><img src=\"https://colab.research.google.com/assets/colab-badge.svg\" alt=\"Open In Colab\"/></a>"
      ]
    },
    {
      "cell_type": "code",
      "execution_count": null,
      "id": "661df871",
      "metadata": {
        "id": "661df871"
      },
      "outputs": [],
      "source": [
        "import pandas as pd\n",
        "import seaborn as sns\n",
        "import matplotlib.pyplot as plt\n",
        "import numpy as np"
      ]
    },
    {
      "cell_type": "code",
      "execution_count": null,
      "id": "08aeb069",
      "metadata": {
        "id": "08aeb069"
      },
      "outputs": [],
      "source": [
        "df = pd.read_csv(r\"C:\\Users\\banirudh\\Desktop\\Material\\titanic.csv\")"
      ]
    },
    {
      "cell_type": "markdown",
      "id": "6b5059dc",
      "metadata": {
        "id": "6b5059dc"
      },
      "source": [
        "# Attributes"
      ]
    },
    {
      "cell_type": "code",
      "execution_count": null,
      "id": "64b3b7d4",
      "metadata": {
        "id": "64b3b7d4",
        "outputId": "aadd5cee-fc37-43d8-9efd-d595fb9a782d"
      },
      "outputs": [
        {
          "data": {
            "text/html": [
              "<div>\n",
              "<style scoped>\n",
              "    .dataframe tbody tr th:only-of-type {\n",
              "        vertical-align: middle;\n",
              "    }\n",
              "\n",
              "    .dataframe tbody tr th {\n",
              "        vertical-align: top;\n",
              "    }\n",
              "\n",
              "    .dataframe thead th {\n",
              "        text-align: right;\n",
              "    }\n",
              "</style>\n",
              "<table border=\"1\" class=\"dataframe\">\n",
              "  <thead>\n",
              "    <tr style=\"text-align: right;\">\n",
              "      <th></th>\n",
              "      <th>PassengerId</th>\n",
              "      <th>Survived</th>\n",
              "      <th>Pclass</th>\n",
              "      <th>Name</th>\n",
              "      <th>Sex</th>\n",
              "      <th>Age</th>\n",
              "      <th>SibSp</th>\n",
              "      <th>Parch</th>\n",
              "      <th>Ticket</th>\n",
              "      <th>Fare</th>\n",
              "      <th>Cabin</th>\n",
              "      <th>Embarked</th>\n",
              "    </tr>\n",
              "  </thead>\n",
              "  <tbody>\n",
              "    <tr>\n",
              "      <th>0</th>\n",
              "      <td>1</td>\n",
              "      <td>0</td>\n",
              "      <td>3</td>\n",
              "      <td>Braund, Mr. Owen Harris</td>\n",
              "      <td>male</td>\n",
              "      <td>22.0</td>\n",
              "      <td>1</td>\n",
              "      <td>0</td>\n",
              "      <td>A/5 21171</td>\n",
              "      <td>7.2500</td>\n",
              "      <td>NaN</td>\n",
              "      <td>S</td>\n",
              "    </tr>\n",
              "    <tr>\n",
              "      <th>1</th>\n",
              "      <td>2</td>\n",
              "      <td>1</td>\n",
              "      <td>1</td>\n",
              "      <td>Cumings, Mrs. John Bradley (Florence Briggs Th...</td>\n",
              "      <td>female</td>\n",
              "      <td>38.0</td>\n",
              "      <td>1</td>\n",
              "      <td>0</td>\n",
              "      <td>PC 17599</td>\n",
              "      <td>71.2833</td>\n",
              "      <td>C85</td>\n",
              "      <td>C</td>\n",
              "    </tr>\n",
              "    <tr>\n",
              "      <th>2</th>\n",
              "      <td>3</td>\n",
              "      <td>1</td>\n",
              "      <td>3</td>\n",
              "      <td>Heikkinen, Miss. Laina</td>\n",
              "      <td>female</td>\n",
              "      <td>26.0</td>\n",
              "      <td>0</td>\n",
              "      <td>0</td>\n",
              "      <td>STON/O2. 3101282</td>\n",
              "      <td>7.9250</td>\n",
              "      <td>NaN</td>\n",
              "      <td>S</td>\n",
              "    </tr>\n",
              "    <tr>\n",
              "      <th>3</th>\n",
              "      <td>4</td>\n",
              "      <td>1</td>\n",
              "      <td>1</td>\n",
              "      <td>Futrelle, Mrs. Jacques Heath (Lily May Peel)</td>\n",
              "      <td>female</td>\n",
              "      <td>35.0</td>\n",
              "      <td>1</td>\n",
              "      <td>0</td>\n",
              "      <td>113803</td>\n",
              "      <td>53.1000</td>\n",
              "      <td>C123</td>\n",
              "      <td>S</td>\n",
              "    </tr>\n",
              "    <tr>\n",
              "      <th>4</th>\n",
              "      <td>5</td>\n",
              "      <td>0</td>\n",
              "      <td>3</td>\n",
              "      <td>Allen, Mr. William Henry</td>\n",
              "      <td>male</td>\n",
              "      <td>35.0</td>\n",
              "      <td>0</td>\n",
              "      <td>0</td>\n",
              "      <td>373450</td>\n",
              "      <td>8.0500</td>\n",
              "      <td>NaN</td>\n",
              "      <td>S</td>\n",
              "    </tr>\n",
              "  </tbody>\n",
              "</table>\n",
              "</div>"
            ],
            "text/plain": [
              "   PassengerId  Survived  Pclass  \\\n",
              "0            1         0       3   \n",
              "1            2         1       1   \n",
              "2            3         1       3   \n",
              "3            4         1       1   \n",
              "4            5         0       3   \n",
              "\n",
              "                                                Name     Sex   Age  SibSp  \\\n",
              "0                            Braund, Mr. Owen Harris    male  22.0      1   \n",
              "1  Cumings, Mrs. John Bradley (Florence Briggs Th...  female  38.0      1   \n",
              "2                             Heikkinen, Miss. Laina  female  26.0      0   \n",
              "3       Futrelle, Mrs. Jacques Heath (Lily May Peel)  female  35.0      1   \n",
              "4                           Allen, Mr. William Henry    male  35.0      0   \n",
              "\n",
              "   Parch            Ticket     Fare Cabin Embarked  \n",
              "0      0         A/5 21171   7.2500   NaN        S  \n",
              "1      0          PC 17599  71.2833   C85        C  \n",
              "2      0  STON/O2. 3101282   7.9250   NaN        S  \n",
              "3      0            113803  53.1000  C123        S  \n",
              "4      0            373450   8.0500   NaN        S  "
            ]
          },
          "execution_count": 3,
          "metadata": {},
          "output_type": "execute_result"
        }
      ],
      "source": [
        "df.head()"
      ]
    },
    {
      "cell_type": "code",
      "execution_count": null,
      "id": "f780dff2",
      "metadata": {
        "id": "f780dff2",
        "outputId": "e0ae81a7-3af1-4aac-b122-11c06f6624a4"
      },
      "outputs": [
        {
          "data": {
            "text/plain": [
              "(891, 12)"
            ]
          },
          "execution_count": 4,
          "metadata": {},
          "output_type": "execute_result"
        }
      ],
      "source": [
        "df.shape"
      ]
    },
    {
      "cell_type": "code",
      "execution_count": null,
      "id": "5356a0eb",
      "metadata": {
        "id": "5356a0eb",
        "outputId": "7f38de1a-afc2-4174-f6be-aa52b0a81196"
      },
      "outputs": [
        {
          "name": "stdout",
          "output_type": "stream",
          "text": [
            "<class 'pandas.core.frame.DataFrame'>\n",
            "RangeIndex: 891 entries, 0 to 890\n",
            "Data columns (total 12 columns):\n",
            " #   Column       Non-Null Count  Dtype  \n",
            "---  ------       --------------  -----  \n",
            " 0   PassengerId  891 non-null    int64  \n",
            " 1   Survived     891 non-null    int64  \n",
            " 2   Pclass       891 non-null    int64  \n",
            " 3   Name         891 non-null    object \n",
            " 4   Sex          891 non-null    object \n",
            " 5   Age          714 non-null    float64\n",
            " 6   SibSp        891 non-null    int64  \n",
            " 7   Parch        891 non-null    int64  \n",
            " 8   Ticket       891 non-null    object \n",
            " 9   Fare         891 non-null    float64\n",
            " 10  Cabin        204 non-null    object \n",
            " 11  Embarked     889 non-null    object \n",
            "dtypes: float64(2), int64(5), object(5)\n",
            "memory usage: 83.7+ KB\n"
          ]
        }
      ],
      "source": [
        "df.info()"
      ]
    },
    {
      "cell_type": "code",
      "execution_count": null,
      "id": "a720580b",
      "metadata": {
        "id": "a720580b",
        "outputId": "d00fb7ef-5b45-4eeb-bb58-4dea4594b990"
      },
      "outputs": [
        {
          "data": {
            "text/plain": [
              "PassengerId      0\n",
              "Survived         0\n",
              "Pclass           0\n",
              "Name             0\n",
              "Sex              0\n",
              "Age            177\n",
              "SibSp            0\n",
              "Parch            0\n",
              "Ticket           0\n",
              "Fare             0\n",
              "Cabin          687\n",
              "Embarked         2\n",
              "dtype: int64"
            ]
          },
          "execution_count": 6,
          "metadata": {},
          "output_type": "execute_result"
        }
      ],
      "source": [
        "df.isnull().sum()"
      ]
    },
    {
      "cell_type": "code",
      "execution_count": null,
      "id": "018a7c4c",
      "metadata": {
        "id": "018a7c4c",
        "outputId": "568450dd-a6f5-4e39-fc82-e28744332a68"
      },
      "outputs": [
        {
          "name": "stdout",
          "output_type": "stream",
          "text": [
            "     PassengerId  Survived  Pclass  \\\n",
            "0              1         0       3   \n",
            "1              2         1       1   \n",
            "2              3         1       3   \n",
            "3              4         1       1   \n",
            "4              5         0       3   \n",
            "..           ...       ...     ...   \n",
            "886          887         0       2   \n",
            "887          888         1       1   \n",
            "888          889         0       3   \n",
            "889          890         1       1   \n",
            "890          891         0       3   \n",
            "\n",
            "                                                  Name     Sex   Age  SibSp  \\\n",
            "0                              Braund, Mr. Owen Harris    male  22.0      1   \n",
            "1    Cumings, Mrs. John Bradley (Florence Briggs Th...  female  38.0      1   \n",
            "2                               Heikkinen, Miss. Laina  female  26.0      0   \n",
            "3         Futrelle, Mrs. Jacques Heath (Lily May Peel)  female  35.0      1   \n",
            "4                             Allen, Mr. William Henry    male  35.0      0   \n",
            "..                                                 ...     ...   ...    ...   \n",
            "886                              Montvila, Rev. Juozas    male  27.0      0   \n",
            "887                       Graham, Miss. Margaret Edith  female  19.0      0   \n",
            "888           Johnston, Miss. Catherine Helen \"Carrie\"  female   NaN      1   \n",
            "889                              Behr, Mr. Karl Howell    male  26.0      0   \n",
            "890                                Dooley, Mr. Patrick    male  32.0      0   \n",
            "\n",
            "     Parch            Ticket     Fare Embarked  \n",
            "0        0         A/5 21171   7.2500        S  \n",
            "1        0          PC 17599  71.2833        C  \n",
            "2        0  STON/O2. 3101282   7.9250        S  \n",
            "3        0            113803  53.1000        S  \n",
            "4        0            373450   8.0500        S  \n",
            "..     ...               ...      ...      ...  \n",
            "886      0            211536  13.0000        S  \n",
            "887      0            112053  30.0000        S  \n",
            "888      2        W./C. 6607  23.4500        S  \n",
            "889      0            111369  30.0000        C  \n",
            "890      0            370376   7.7500        Q  \n",
            "\n",
            "[891 rows x 11 columns]\n"
          ]
        }
      ],
      "source": [
        "df = df.drop('Cabin', axis = 1)\n",
        "print(df)"
      ]
    },
    {
      "cell_type": "markdown",
      "id": "de0e12fc",
      "metadata": {
        "id": "de0e12fc"
      },
      "source": [
        "# Plots"
      ]
    },
    {
      "cell_type": "markdown",
      "id": "d668cdb8",
      "metadata": {
        "id": "d668cdb8"
      },
      "source": [
        "## Seaborn Plots"
      ]
    },
    {
      "cell_type": "code",
      "execution_count": null,
      "id": "bf9f058a",
      "metadata": {
        "id": "bf9f058a",
        "outputId": "c092ba85-0a27-4ac3-a66b-1c63fa83a7b7"
      },
      "outputs": [
        {
          "data": {
            "text/plain": [
              "<AxesSubplot:xlabel='Survived', ylabel='count'>"
            ]
          },
          "execution_count": 8,
          "metadata": {},
          "output_type": "execute_result"
        },
        {
          "data": {
            "image/png": "[encoded data removed]",
            "text/plain": [
              "<Figure size 432x288 with 1 Axes>"
            ]
          },
          "metadata": {
            "needs_background": "light"
          },
          "output_type": "display_data"
        }
      ],
      "source": [
        "sns.countplot(x = 'Survived', data = df)"
      ]
    },
    {
      "cell_type": "code",
      "execution_count": null,
      "id": "17cde1c4",
      "metadata": {
        "id": "17cde1c4",
        "outputId": "ad6dff82-4285-4288-d08f-866dd2da8c2f"
      },
      "outputs": [
        {
          "data": {
            "text/plain": [
              "<AxesSubplot:xlabel='Survived', ylabel='count'>"
            ]
          },
          "execution_count": 9,
          "metadata": {},
          "output_type": "execute_result"
        },
        {
          "data": {
            "image/png": "[encoded data removed]",
            "text/plain": [
              "<Figure size 432x288 with 1 Axes>"
            ]
          },
          "metadata": {
            "needs_background": "light"
          },
          "output_type": "display_data"
        }
      ],
      "source": [
        "sns.countplot(x = 'Survived', hue = 'Sex', data = df)"
      ]
    },
    {
      "cell_type": "code",
      "execution_count": null,
      "id": "cea4acd9",
      "metadata": {
        "id": "cea4acd9",
        "outputId": "a7aff3b5-365b-4694-a22e-ba60214d9ef5"
      },
      "outputs": [
        {
          "data": {
            "text/plain": [
              "<AxesSubplot:xlabel='Survived', ylabel='count'>"
            ]
          },
          "execution_count": 10,
          "metadata": {},
          "output_type": "execute_result"
        },
        {
          "data": {
            "image/png": "[encoded data removed]",
            "text/plain": [
              "<Figure size 432x288 with 1 Axes>"
            ]
          },
          "metadata": {
            "needs_background": "light"
          },
          "output_type": "display_data"
        }
      ],
      "source": [
        "sns.countplot(x = 'Survived', hue = 'Pclass', data = df)"
      ]
    },
    {
      "cell_type": "code",
      "execution_count": null,
      "id": "3090bc1f",
      "metadata": {
        "id": "3090bc1f",
        "outputId": "f8109148-2c33-479d-bdad-5140ab61c21b"
      },
      "outputs": [
        {
          "data": {
            "text/plain": [
              "<AxesSubplot:xlabel='SibSp', ylabel='count'>"
            ]
          },
          "execution_count": 11,
          "metadata": {},
          "output_type": "execute_result"
        },
        {
          "data": {
            "image/png": "[encoded data removed]",
            "text/plain": [
              "<Figure size 432x288 with 1 Axes>"
            ]
          },
          "metadata": {
            "needs_background": "light"
          },
          "output_type": "display_data"
        }
      ],
      "source": [
        "sns.countplot(x = 'SibSp', data = df)"
      ]
    },
    {
      "cell_type": "code",
      "execution_count": null,
      "id": "48d8fd43",
      "metadata": {
        "id": "48d8fd43",
        "outputId": "dad59401-1bb7-4f87-b93a-275eb88a917d"
      },
      "outputs": [
        {
          "data": {
            "text/plain": [
              "<AxesSubplot:xlabel='Survived', ylabel='count'>"
            ]
          },
          "execution_count": 12,
          "metadata": {},
          "output_type": "execute_result"
        },
        {
          "data": {
            "image/png": "[encoded data removed]",
            "text/plain": [
              "<Figure size 432x288 with 1 Axes>"
            ]
          },
          "metadata": {
            "needs_background": "light"
          },
          "output_type": "display_data"
        }
      ],
      "source": [
        "sns.countplot(x = 'Survived', hue = 'SibSp', data = df)"
      ]
    },
    {
      "cell_type": "code",
      "execution_count": null,
      "id": "b85c28da",
      "metadata": {
        "scrolled": false,
        "id": "b85c28da",
        "outputId": "c95aa303-14d0-4358-fd62-9c4f13c7038c"
      },
      "outputs": [
        {
          "data": {
            "text/html": [
              "<div>\n",
              "<style scoped>\n",
              "    .dataframe tbody tr th:only-of-type {\n",
              "        vertical-align: middle;\n",
              "    }\n",
              "\n",
              "    .dataframe tbody tr th {\n",
              "        vertical-align: top;\n",
              "    }\n",
              "\n",
              "    .dataframe thead th {\n",
              "        text-align: right;\n",
              "    }\n",
              "</style>\n",
              "<table border=\"1\" class=\"dataframe\">\n",
              "  <thead>\n",
              "    <tr style=\"text-align: right;\">\n",
              "      <th></th>\n",
              "      <th>PassengerId</th>\n",
              "      <th>Survived</th>\n",
              "      <th>Pclass</th>\n",
              "      <th>Name</th>\n",
              "      <th>Sex</th>\n",
              "      <th>Age</th>\n",
              "      <th>SibSp</th>\n",
              "      <th>Parch</th>\n",
              "      <th>Ticket</th>\n",
              "      <th>Fare</th>\n",
              "      <th>Embarked</th>\n",
              "    </tr>\n",
              "  </thead>\n",
              "  <tbody>\n",
              "    <tr>\n",
              "      <th>0</th>\n",
              "      <td>1</td>\n",
              "      <td>0</td>\n",
              "      <td>3</td>\n",
              "      <td>Braund, Mr. Owen Harris</td>\n",
              "      <td>male</td>\n",
              "      <td>22.0</td>\n",
              "      <td>1</td>\n",
              "      <td>0</td>\n",
              "      <td>A/5 21171</td>\n",
              "      <td>7.2500</td>\n",
              "      <td>S</td>\n",
              "    </tr>\n",
              "    <tr>\n",
              "      <th>1</th>\n",
              "      <td>2</td>\n",
              "      <td>1</td>\n",
              "      <td>1</td>\n",
              "      <td>Cumings, Mrs. John Bradley (Florence Briggs Th...</td>\n",
              "      <td>female</td>\n",
              "      <td>38.0</td>\n",
              "      <td>1</td>\n",
              "      <td>0</td>\n",
              "      <td>PC 17599</td>\n",
              "      <td>71.2833</td>\n",
              "      <td>C</td>\n",
              "    </tr>\n",
              "    <tr>\n",
              "      <th>2</th>\n",
              "      <td>3</td>\n",
              "      <td>1</td>\n",
              "      <td>3</td>\n",
              "      <td>Heikkinen, Miss. Laina</td>\n",
              "      <td>female</td>\n",
              "      <td>26.0</td>\n",
              "      <td>0</td>\n",
              "      <td>0</td>\n",
              "      <td>STON/O2. 3101282</td>\n",
              "      <td>7.9250</td>\n",
              "      <td>S</td>\n",
              "    </tr>\n",
              "    <tr>\n",
              "      <th>3</th>\n",
              "      <td>4</td>\n",
              "      <td>1</td>\n",
              "      <td>1</td>\n",
              "      <td>Futrelle, Mrs. Jacques Heath (Lily May Peel)</td>\n",
              "      <td>female</td>\n",
              "      <td>35.0</td>\n",
              "      <td>1</td>\n",
              "      <td>0</td>\n",
              "      <td>113803</td>\n",
              "      <td>53.1000</td>\n",
              "      <td>S</td>\n",
              "    </tr>\n",
              "    <tr>\n",
              "      <th>4</th>\n",
              "      <td>5</td>\n",
              "      <td>0</td>\n",
              "      <td>3</td>\n",
              "      <td>Allen, Mr. William Henry</td>\n",
              "      <td>male</td>\n",
              "      <td>35.0</td>\n",
              "      <td>0</td>\n",
              "      <td>0</td>\n",
              "      <td>373450</td>\n",
              "      <td>8.0500</td>\n",
              "      <td>S</td>\n",
              "    </tr>\n",
              "  </tbody>\n",
              "</table>\n",
              "</div>"
            ],
            "text/plain": [
              "   PassengerId  Survived  Pclass  \\\n",
              "0            1         0       3   \n",
              "1            2         1       1   \n",
              "2            3         1       3   \n",
              "3            4         1       1   \n",
              "4            5         0       3   \n",
              "\n",
              "                                                Name     Sex   Age  SibSp  \\\n",
              "0                            Braund, Mr. Owen Harris    male  22.0      1   \n",
              "1  Cumings, Mrs. John Bradley (Florence Briggs Th...  female  38.0      1   \n",
              "2                             Heikkinen, Miss. Laina  female  26.0      0   \n",
              "3       Futrelle, Mrs. Jacques Heath (Lily May Peel)  female  35.0      1   \n",
              "4                           Allen, Mr. William Henry    male  35.0      0   \n",
              "\n",
              "   Parch            Ticket     Fare Embarked  \n",
              "0      0         A/5 21171   7.2500        S  \n",
              "1      0          PC 17599  71.2833        C  \n",
              "2      0  STON/O2. 3101282   7.9250        S  \n",
              "3      0            113803  53.1000        S  \n",
              "4      0            373450   8.0500        S  "
            ]
          },
          "execution_count": 13,
          "metadata": {},
          "output_type": "execute_result"
        }
      ],
      "source": [
        "df.head()    "
      ]
    },
    {
      "cell_type": "markdown",
      "id": "d4140ea1",
      "metadata": {
        "id": "d4140ea1"
      },
      "source": [
        "## Pychart plots"
      ]
    },
    {
      "cell_type": "code",
      "execution_count": null,
      "id": "ad0c61b2",
      "metadata": {
        "id": "ad0c61b2"
      },
      "outputs": [],
      "source": [
        "# import pycharts"
      ]
    },
    {
      "cell_type": "markdown",
      "id": "2e0dfe5f",
      "metadata": {
        "id": "2e0dfe5f"
      },
      "source": [
        "# EDA"
      ]
    },
    {
      "cell_type": "markdown",
      "id": "38fbf643",
      "metadata": {
        "id": "38fbf643"
      },
      "source": [
        "## One-Hot encoding"
      ]
    },
    {
      "cell_type": "code",
      "execution_count": null,
      "id": "921710ce",
      "metadata": {
        "id": "921710ce",
        "outputId": "44c49209-c158-49ea-9e56-4253f38a14a4"
      },
      "outputs": [
        {
          "name": "stdout",
          "output_type": "stream",
          "text": [
            "     female  male\n",
            "0         0     1\n",
            "1         1     0\n",
            "2         1     0\n",
            "3         1     0\n",
            "4         0     1\n",
            "..      ...   ...\n",
            "886       0     1\n",
            "887       1     0\n",
            "888       1     0\n",
            "889       0     1\n",
            "890       0     1\n",
            "\n",
            "[891 rows x 2 columns]\n"
          ]
        }
      ],
      "source": [
        "sex = pd.get_dummies(df['Sex'])\n",
        "print(sex)"
      ]
    },
    {
      "cell_type": "code",
      "execution_count": null,
      "id": "f405be34",
      "metadata": {
        "id": "f405be34",
        "outputId": "10624107-b098-4b31-8f71-c0e0f6f1f4df"
      },
      "outputs": [
        {
          "name": "stdout",
          "output_type": "stream",
          "text": [
            "     male\n",
            "0       1\n",
            "1       0\n",
            "2       0\n",
            "3       0\n",
            "4       1\n",
            "..    ...\n",
            "886     1\n",
            "887     0\n",
            "888     0\n",
            "889     1\n",
            "890     1\n",
            "\n",
            "[891 rows x 1 columns]\n"
          ]
        }
      ],
      "source": [
        "Sex = pd.get_dummies(df['Sex'], drop_first = True)\n",
        "print(Sex)"
      ]
    },
    {
      "cell_type": "code",
      "execution_count": null,
      "id": "e1a2c880",
      "metadata": {
        "scrolled": true,
        "id": "e1a2c880",
        "outputId": "99427aee-a8e1-4ec1-cc5f-193534ef4959"
      },
      "outputs": [
        {
          "name": "stdout",
          "output_type": "stream",
          "text": [
            "     C  Q  S\n",
            "0    0  0  1\n",
            "1    1  0  0\n",
            "2    0  0  1\n",
            "3    0  0  1\n",
            "4    0  0  1\n",
            "..  .. .. ..\n",
            "886  0  0  1\n",
            "887  0  0  1\n",
            "888  0  0  1\n",
            "889  1  0  0\n",
            "890  0  1  0\n",
            "\n",
            "[891 rows x 3 columns]\n"
          ]
        }
      ],
      "source": [
        "Embarked = pd.get_dummies(df['Embarked'])\n",
        "print(Embarked)"
      ]
    },
    {
      "cell_type": "code",
      "execution_count": null,
      "id": "03ec54a7",
      "metadata": {
        "scrolled": true,
        "id": "03ec54a7",
        "outputId": "1682ab0f-d8a7-454b-8587-a7d49815d323"
      },
      "outputs": [
        {
          "name": "stdout",
          "output_type": "stream",
          "text": [
            "     from_Q  from_S\n",
            "0         0       1\n",
            "1         0       0\n",
            "2         0       1\n",
            "3         0       1\n",
            "4         0       1\n",
            "..      ...     ...\n",
            "886       0       1\n",
            "887       0       1\n",
            "888       0       1\n",
            "889       0       0\n",
            "890       1       0\n",
            "\n",
            "[891 rows x 2 columns]\n"
          ]
        }
      ],
      "source": [
        "Embarked = pd.get_dummies(df['Embarked'], drop_first = True, prefix = \"from\")\n",
        "print(Embarked)"
      ]
    },
    {
      "cell_type": "code",
      "execution_count": null,
      "id": "1cb7b633",
      "metadata": {
        "id": "1cb7b633",
        "outputId": "16caf592-4506-4209-ba38-02944e30bdcd"
      },
      "outputs": [
        {
          "name": "stdout",
          "output_type": "stream",
          "text": [
            "     class_2  class_3\n",
            "0          0        1\n",
            "1          0        0\n",
            "2          0        1\n",
            "3          0        0\n",
            "4          0        1\n",
            "..       ...      ...\n",
            "886        1        0\n",
            "887        0        0\n",
            "888        0        1\n",
            "889        0        0\n",
            "890        0        1\n",
            "\n",
            "[891 rows x 2 columns]\n"
          ]
        }
      ],
      "source": [
        "Pclass = pd.get_dummies(df['Pclass'], drop_first = True, prefix = \"class\")\n",
        "print(Pclass)"
      ]
    },
    {
      "cell_type": "code",
      "execution_count": null,
      "id": "a3ce077f",
      "metadata": {
        "id": "a3ce077f",
        "outputId": "5db3c781-ba0d-4307-cdb1-7b74d97f74e6"
      },
      "outputs": [
        {
          "name": "stdout",
          "output_type": "stream",
          "text": [
            "     PassengerId  Survived  Pclass  \\\n",
            "0              1         0       3   \n",
            "1              2         1       1   \n",
            "2              3         1       3   \n",
            "3              4         1       1   \n",
            "4              5         0       3   \n",
            "..           ...       ...     ...   \n",
            "886          887         0       2   \n",
            "887          888         1       1   \n",
            "888          889         0       3   \n",
            "889          890         1       1   \n",
            "890          891         0       3   \n",
            "\n",
            "                                                  Name     Sex   Age  SibSp  \\\n",
            "0                              Braund, Mr. Owen Harris    male  22.0      1   \n",
            "1    Cumings, Mrs. John Bradley (Florence Briggs Th...  female  38.0      1   \n",
            "2                               Heikkinen, Miss. Laina  female  26.0      0   \n",
            "3         Futrelle, Mrs. Jacques Heath (Lily May Peel)  female  35.0      1   \n",
            "4                             Allen, Mr. William Henry    male  35.0      0   \n",
            "..                                                 ...     ...   ...    ...   \n",
            "886                              Montvila, Rev. Juozas    male  27.0      0   \n",
            "887                       Graham, Miss. Margaret Edith  female  19.0      0   \n",
            "888           Johnston, Miss. Catherine Helen \"Carrie\"  female   NaN      1   \n",
            "889                              Behr, Mr. Karl Howell    male  26.0      0   \n",
            "890                                Dooley, Mr. Patrick    male  32.0      0   \n",
            "\n",
            "     Parch            Ticket     Fare Embarked  \n",
            "0        0         A/5 21171   7.2500        S  \n",
            "1        0          PC 17599  71.2833        C  \n",
            "2        0  STON/O2. 3101282   7.9250        S  \n",
            "3        0            113803  53.1000        S  \n",
            "4        0            373450   8.0500        S  \n",
            "..     ...               ...      ...      ...  \n",
            "886      0            211536  13.0000        S  \n",
            "887      0            112053  30.0000        S  \n",
            "888      2        W./C. 6607  23.4500        S  \n",
            "889      0            111369  30.0000        C  \n",
            "890      0            370376   7.7500        Q  \n",
            "\n",
            "[891 rows x 11 columns]\n"
          ]
        }
      ],
      "source": [
        "print(df)"
      ]
    },
    {
      "cell_type": "markdown",
      "id": "0757780a",
      "metadata": {
        "id": "0757780a"
      },
      "source": [
        "### Concatenating these new columns to the original dataset"
      ]
    },
    {
      "cell_type": "code",
      "execution_count": null,
      "id": "54ec2e3c",
      "metadata": {
        "id": "54ec2e3c",
        "outputId": "99008bd6-7e7f-4f37-c2cd-f25c73cdfd5f"
      },
      "outputs": [
        {
          "data": {
            "text/html": [
              "<div>\n",
              "<style scoped>\n",
              "    .dataframe tbody tr th:only-of-type {\n",
              "        vertical-align: middle;\n",
              "    }\n",
              "\n",
              "    .dataframe tbody tr th {\n",
              "        vertical-align: top;\n",
              "    }\n",
              "\n",
              "    .dataframe thead th {\n",
              "        text-align: right;\n",
              "    }\n",
              "</style>\n",
              "<table border=\"1\" class=\"dataframe\">\n",
              "  <thead>\n",
              "    <tr style=\"text-align: right;\">\n",
              "      <th></th>\n",
              "      <th>PassengerId</th>\n",
              "      <th>Survived</th>\n",
              "      <th>Pclass</th>\n",
              "      <th>Name</th>\n",
              "      <th>Sex</th>\n",
              "      <th>Age</th>\n",
              "      <th>SibSp</th>\n",
              "      <th>Parch</th>\n",
              "      <th>Ticket</th>\n",
              "      <th>Fare</th>\n",
              "      <th>Embarked</th>\n",
              "      <th>male</th>\n",
              "      <th>from_Q</th>\n",
              "      <th>from_S</th>\n",
              "      <th>class_2</th>\n",
              "      <th>class_3</th>\n",
              "    </tr>\n",
              "  </thead>\n",
              "  <tbody>\n",
              "    <tr>\n",
              "      <th>0</th>\n",
              "      <td>1</td>\n",
              "      <td>0</td>\n",
              "      <td>3</td>\n",
              "      <td>Braund, Mr. Owen Harris</td>\n",
              "      <td>male</td>\n",
              "      <td>22.0</td>\n",
              "      <td>1</td>\n",
              "      <td>0</td>\n",
              "      <td>A/5 21171</td>\n",
              "      <td>7.2500</td>\n",
              "      <td>S</td>\n",
              "      <td>1</td>\n",
              "      <td>0</td>\n",
              "      <td>1</td>\n",
              "      <td>0</td>\n",
              "      <td>1</td>\n",
              "    </tr>\n",
              "    <tr>\n",
              "      <th>1</th>\n",
              "      <td>2</td>\n",
              "      <td>1</td>\n",
              "      <td>1</td>\n",
              "      <td>Cumings, Mrs. John Bradley (Florence Briggs Th...</td>\n",
              "      <td>female</td>\n",
              "      <td>38.0</td>\n",
              "      <td>1</td>\n",
              "      <td>0</td>\n",
              "      <td>PC 17599</td>\n",
              "      <td>71.2833</td>\n",
              "      <td>C</td>\n",
              "      <td>0</td>\n",
              "      <td>0</td>\n",
              "      <td>0</td>\n",
              "      <td>0</td>\n",
              "      <td>0</td>\n",
              "    </tr>\n",
              "    <tr>\n",
              "      <th>2</th>\n",
              "      <td>3</td>\n",
              "      <td>1</td>\n",
              "      <td>3</td>\n",
              "      <td>Heikkinen, Miss. Laina</td>\n",
              "      <td>female</td>\n",
              "      <td>26.0</td>\n",
              "      <td>0</td>\n",
              "      <td>0</td>\n",
              "      <td>STON/O2. 3101282</td>\n",
              "      <td>7.9250</td>\n",
              "      <td>S</td>\n",
              "      <td>0</td>\n",
              "      <td>0</td>\n",
              "      <td>1</td>\n",
              "      <td>0</td>\n",
              "      <td>1</td>\n",
              "    </tr>\n",
              "    <tr>\n",
              "      <th>3</th>\n",
              "      <td>4</td>\n",
              "      <td>1</td>\n",
              "      <td>1</td>\n",
              "      <td>Futrelle, Mrs. Jacques Heath (Lily May Peel)</td>\n",
              "      <td>female</td>\n",
              "      <td>35.0</td>\n",
              "      <td>1</td>\n",
              "      <td>0</td>\n",
              "      <td>113803</td>\n",
              "      <td>53.1000</td>\n",
              "      <td>S</td>\n",
              "      <td>0</td>\n",
              "      <td>0</td>\n",
              "      <td>1</td>\n",
              "      <td>0</td>\n",
              "      <td>0</td>\n",
              "    </tr>\n",
              "    <tr>\n",
              "      <th>4</th>\n",
              "      <td>5</td>\n",
              "      <td>0</td>\n",
              "      <td>3</td>\n",
              "      <td>Allen, Mr. William Henry</td>\n",
              "      <td>male</td>\n",
              "      <td>35.0</td>\n",
              "      <td>0</td>\n",
              "      <td>0</td>\n",
              "      <td>373450</td>\n",
              "      <td>8.0500</td>\n",
              "      <td>S</td>\n",
              "      <td>1</td>\n",
              "      <td>0</td>\n",
              "      <td>1</td>\n",
              "      <td>0</td>\n",
              "      <td>1</td>\n",
              "    </tr>\n",
              "  </tbody>\n",
              "</table>\n",
              "</div>"
            ],
            "text/plain": [
              "   PassengerId  Survived  Pclass  \\\n",
              "0            1         0       3   \n",
              "1            2         1       1   \n",
              "2            3         1       3   \n",
              "3            4         1       1   \n",
              "4            5         0       3   \n",
              "\n",
              "                                                Name     Sex   Age  SibSp  \\\n",
              "0                            Braund, Mr. Owen Harris    male  22.0      1   \n",
              "1  Cumings, Mrs. John Bradley (Florence Briggs Th...  female  38.0      1   \n",
              "2                             Heikkinen, Miss. Laina  female  26.0      0   \n",
              "3       Futrelle, Mrs. Jacques Heath (Lily May Peel)  female  35.0      1   \n",
              "4                           Allen, Mr. William Henry    male  35.0      0   \n",
              "\n",
              "   Parch            Ticket     Fare Embarked  male  from_Q  from_S  class_2  \\\n",
              "0      0         A/5 21171   7.2500        S     1       0       1        0   \n",
              "1      0          PC 17599  71.2833        C     0       0       0        0   \n",
              "2      0  STON/O2. 3101282   7.9250        S     0       0       1        0   \n",
              "3      0            113803  53.1000        S     0       0       1        0   \n",
              "4      0            373450   8.0500        S     1       0       1        0   \n",
              "\n",
              "   class_3  \n",
              "0        1  \n",
              "1        0  \n",
              "2        1  \n",
              "3        0  \n",
              "4        1  "
            ]
          },
          "execution_count": 21,
          "metadata": {},
          "output_type": "execute_result"
        }
      ],
      "source": [
        "df = pd.concat([df, Sex, Embarked, Pclass], axis = 1)\n",
        "df.head()"
      ]
    },
    {
      "cell_type": "markdown",
      "id": "a549976a",
      "metadata": {
        "id": "a549976a"
      },
      "source": [
        "# Dropping columns\n",
        "\n",
        "`PassengerId`, `Name`, `Sex`, `Ticket`, `Embarked` are not necessary parameters for fitting any model."
      ]
    },
    {
      "cell_type": "code",
      "execution_count": null,
      "id": "1940e8df",
      "metadata": {
        "scrolled": false,
        "id": "1940e8df",
        "outputId": "fb99f526-6df8-44f0-f5ff-1b8cd157e7e3"
      },
      "outputs": [
        {
          "data": {
            "text/html": [
              "<div>\n",
              "<style scoped>\n",
              "    .dataframe tbody tr th:only-of-type {\n",
              "        vertical-align: middle;\n",
              "    }\n",
              "\n",
              "    .dataframe tbody tr th {\n",
              "        vertical-align: top;\n",
              "    }\n",
              "\n",
              "    .dataframe thead th {\n",
              "        text-align: right;\n",
              "    }\n",
              "</style>\n",
              "<table border=\"1\" class=\"dataframe\">\n",
              "  <thead>\n",
              "    <tr style=\"text-align: right;\">\n",
              "      <th></th>\n",
              "      <th>Survived</th>\n",
              "      <th>Pclass</th>\n",
              "      <th>Age</th>\n",
              "      <th>SibSp</th>\n",
              "      <th>Parch</th>\n",
              "      <th>Fare</th>\n",
              "      <th>male</th>\n",
              "      <th>from_Q</th>\n",
              "      <th>from_S</th>\n",
              "      <th>class_2</th>\n",
              "      <th>class_3</th>\n",
              "    </tr>\n",
              "  </thead>\n",
              "  <tbody>\n",
              "    <tr>\n",
              "      <th>0</th>\n",
              "      <td>0</td>\n",
              "      <td>3</td>\n",
              "      <td>22.0</td>\n",
              "      <td>1</td>\n",
              "      <td>0</td>\n",
              "      <td>7.2500</td>\n",
              "      <td>1</td>\n",
              "      <td>0</td>\n",
              "      <td>1</td>\n",
              "      <td>0</td>\n",
              "      <td>1</td>\n",
              "    </tr>\n",
              "    <tr>\n",
              "      <th>1</th>\n",
              "      <td>1</td>\n",
              "      <td>1</td>\n",
              "      <td>38.0</td>\n",
              "      <td>1</td>\n",
              "      <td>0</td>\n",
              "      <td>71.2833</td>\n",
              "      <td>0</td>\n",
              "      <td>0</td>\n",
              "      <td>0</td>\n",
              "      <td>0</td>\n",
              "      <td>0</td>\n",
              "    </tr>\n",
              "    <tr>\n",
              "      <th>2</th>\n",
              "      <td>1</td>\n",
              "      <td>3</td>\n",
              "      <td>26.0</td>\n",
              "      <td>0</td>\n",
              "      <td>0</td>\n",
              "      <td>7.9250</td>\n",
              "      <td>0</td>\n",
              "      <td>0</td>\n",
              "      <td>1</td>\n",
              "      <td>0</td>\n",
              "      <td>1</td>\n",
              "    </tr>\n",
              "    <tr>\n",
              "      <th>3</th>\n",
              "      <td>1</td>\n",
              "      <td>1</td>\n",
              "      <td>35.0</td>\n",
              "      <td>1</td>\n",
              "      <td>0</td>\n",
              "      <td>53.1000</td>\n",
              "      <td>0</td>\n",
              "      <td>0</td>\n",
              "      <td>1</td>\n",
              "      <td>0</td>\n",
              "      <td>0</td>\n",
              "    </tr>\n",
              "    <tr>\n",
              "      <th>4</th>\n",
              "      <td>0</td>\n",
              "      <td>3</td>\n",
              "      <td>35.0</td>\n",
              "      <td>0</td>\n",
              "      <td>0</td>\n",
              "      <td>8.0500</td>\n",
              "      <td>1</td>\n",
              "      <td>0</td>\n",
              "      <td>1</td>\n",
              "      <td>0</td>\n",
              "      <td>1</td>\n",
              "    </tr>\n",
              "  </tbody>\n",
              "</table>\n",
              "</div>"
            ],
            "text/plain": [
              "   Survived  Pclass   Age  SibSp  Parch     Fare  male  from_Q  from_S  \\\n",
              "0         0       3  22.0      1      0   7.2500     1       0       1   \n",
              "1         1       1  38.0      1      0  71.2833     0       0       0   \n",
              "2         1       3  26.0      0      0   7.9250     0       0       1   \n",
              "3         1       1  35.0      1      0  53.1000     0       0       1   \n",
              "4         0       3  35.0      0      0   8.0500     1       0       1   \n",
              "\n",
              "   class_2  class_3  \n",
              "0        0        1  \n",
              "1        0        0  \n",
              "2        0        1  \n",
              "3        0        0  \n",
              "4        0        1  "
            ]
          },
          "execution_count": 22,
          "metadata": {},
          "output_type": "execute_result"
        }
      ],
      "source": [
        "df = df.drop(['PassengerId', 'Name', 'Sex', 'Ticket', 'Embarked'], axis = 1)\n",
        "df.head()"
      ]
    },
    {
      "cell_type": "markdown",
      "id": "6efcb08b",
      "metadata": {
        "id": "6efcb08b"
      },
      "source": [
        "# Exploring The Data"
      ]
    },
    {
      "cell_type": "code",
      "execution_count": null,
      "id": "a8979a29",
      "metadata": {
        "scrolled": true,
        "id": "a8979a29",
        "outputId": "9e05046e-7208-4f3a-8f02-015ab97c0849"
      },
      "outputs": [
        {
          "data": {
            "text/plain": [
              "Survived    891\n",
              "Pclass      891\n",
              "Age         714\n",
              "SibSp       891\n",
              "Parch       891\n",
              "Fare        891\n",
              "male        891\n",
              "from_Q      891\n",
              "from_S      891\n",
              "class_2     891\n",
              "class_3     891\n",
              "dtype: int64"
            ]
          },
          "execution_count": 23,
          "metadata": {},
          "output_type": "execute_result"
        }
      ],
      "source": [
        "df.count()"
      ]
    },
    {
      "cell_type": "code",
      "execution_count": null,
      "id": "17478b29",
      "metadata": {
        "id": "17478b29",
        "outputId": "ae37e454-b85b-4b94-ba63-76a9807672ac"
      },
      "outputs": [
        {
          "name": "stdout",
          "output_type": "stream",
          "text": [
            "     Survived  Pclass   Age  SibSp  Parch  Fare  male  from_Q  from_S  \\\n",
            "630         1       1  80.0      0      0  30.0     1       0       1   \n",
            "\n",
            "     class_2  class_3  \n",
            "630        0        0  \n",
            "\n",
            "     Survived  Pclass   Age  SibSp  Parch    Fare  male  from_Q  from_S  \\\n",
            "803         1       3  0.42      0      1  8.5167     1       0       0   \n",
            "\n",
            "     class_2  class_3  \n",
            "803        0        1  \n"
          ]
        }
      ],
      "source": [
        "print(df.nlargest(1, 'Age'))\n",
        "print()\n",
        "print(df.nsmallest(1, 'Age'))"
      ]
    },
    {
      "cell_type": "code",
      "execution_count": null,
      "id": "b5ae34c3",
      "metadata": {
        "id": "b5ae34c3",
        "outputId": "f0e9b7ef-c288-4884-9193-fbd743ceb2e1"
      },
      "outputs": [
        {
          "data": {
            "text/plain": [
              "Survived     0.383838\n",
              "Pclass       2.308642\n",
              "Age         29.699118\n",
              "SibSp        0.523008\n",
              "Parch        0.381594\n",
              "Fare        32.204208\n",
              "male         0.647587\n",
              "from_Q       0.086420\n",
              "from_S       0.722783\n",
              "class_2      0.206510\n",
              "class_3      0.551066\n",
              "dtype: float64"
            ]
          },
          "execution_count": 25,
          "metadata": {},
          "output_type": "execute_result"
        }
      ],
      "source": [
        "df.mean()"
      ]
    },
    {
      "cell_type": "code",
      "execution_count": null,
      "id": "6eeced50",
      "metadata": {
        "id": "6eeced50",
        "outputId": "65b71198-fe59-4cc4-f90c-36a379449997"
      },
      "outputs": [
        {
          "data": {
            "text/plain": [
              "Survived     0.0000\n",
              "Pclass       3.0000\n",
              "Age         28.0000\n",
              "SibSp        0.0000\n",
              "Parch        0.0000\n",
              "Fare        14.4542\n",
              "male         1.0000\n",
              "from_Q       0.0000\n",
              "from_S       1.0000\n",
              "class_2      0.0000\n",
              "class_3      1.0000\n",
              "dtype: float64"
            ]
          },
          "execution_count": 26,
          "metadata": {},
          "output_type": "execute_result"
        }
      ],
      "source": [
        "df.median()"
      ]
    },
    {
      "cell_type": "code",
      "execution_count": null,
      "id": "7a957bf3",
      "metadata": {
        "id": "7a957bf3",
        "outputId": "61b8eebb-68f6-40f8-d8c3-dc3ec698a0cd"
      },
      "outputs": [
        {
          "data": {
            "text/html": [
              "<div>\n",
              "<style scoped>\n",
              "    .dataframe tbody tr th:only-of-type {\n",
              "        vertical-align: middle;\n",
              "    }\n",
              "\n",
              "    .dataframe tbody tr th {\n",
              "        vertical-align: top;\n",
              "    }\n",
              "\n",
              "    .dataframe thead th {\n",
              "        text-align: right;\n",
              "    }\n",
              "</style>\n",
              "<table border=\"1\" class=\"dataframe\">\n",
              "  <thead>\n",
              "    <tr style=\"text-align: right;\">\n",
              "      <th></th>\n",
              "      <th>Survived</th>\n",
              "      <th>Pclass</th>\n",
              "      <th>Age</th>\n",
              "      <th>SibSp</th>\n",
              "      <th>Parch</th>\n",
              "      <th>Fare</th>\n",
              "      <th>male</th>\n",
              "      <th>from_Q</th>\n",
              "      <th>from_S</th>\n",
              "      <th>class_2</th>\n",
              "      <th>class_3</th>\n",
              "    </tr>\n",
              "  </thead>\n",
              "  <tbody>\n",
              "    <tr>\n",
              "      <th>0</th>\n",
              "      <td>0</td>\n",
              "      <td>3</td>\n",
              "      <td>24.0</td>\n",
              "      <td>0</td>\n",
              "      <td>0</td>\n",
              "      <td>8.05</td>\n",
              "      <td>1</td>\n",
              "      <td>0</td>\n",
              "      <td>1</td>\n",
              "      <td>0</td>\n",
              "      <td>1</td>\n",
              "    </tr>\n",
              "  </tbody>\n",
              "</table>\n",
              "</div>"
            ],
            "text/plain": [
              "   Survived  Pclass   Age  SibSp  Parch  Fare  male  from_Q  from_S  class_2  \\\n",
              "0         0       3  24.0      0      0  8.05     1       0       1        0   \n",
              "\n",
              "   class_3  \n",
              "0        1  "
            ]
          },
          "execution_count": 27,
          "metadata": {},
          "output_type": "execute_result"
        }
      ],
      "source": [
        "df.mode()"
      ]
    },
    {
      "cell_type": "code",
      "execution_count": null,
      "id": "f21f71f7",
      "metadata": {
        "id": "f21f71f7",
        "outputId": "e18bae33-73ca-4392-b6dd-b6c0d1b4b179"
      },
      "outputs": [
        {
          "data": {
            "text/plain": [
              "Survived     0.486592\n",
              "Pclass       0.836071\n",
              "Age         14.526497\n",
              "SibSp        1.102743\n",
              "Parch        0.806057\n",
              "Fare        49.693429\n",
              "male         0.477990\n",
              "from_Q       0.281141\n",
              "from_S       0.447876\n",
              "class_2      0.405028\n",
              "class_3      0.497665\n",
              "dtype: float64"
            ]
          },
          "execution_count": 28,
          "metadata": {},
          "output_type": "execute_result"
        }
      ],
      "source": [
        "df.std()"
      ]
    },
    {
      "cell_type": "code",
      "execution_count": null,
      "id": "ad83f7b2",
      "metadata": {
        "scrolled": true,
        "id": "ad83f7b2",
        "outputId": "7d0b5164-5e7c-4eec-aaf0-eb467aee1710"
      },
      "outputs": [
        {
          "data": {
            "text/plain": [
              "Survived    0.00\n",
              "Pclass      1.00\n",
              "Age         0.42\n",
              "SibSp       0.00\n",
              "Parch       0.00\n",
              "Fare        0.00\n",
              "male        0.00\n",
              "from_Q      0.00\n",
              "from_S      0.00\n",
              "class_2     0.00\n",
              "class_3     0.00\n",
              "dtype: float64"
            ]
          },
          "execution_count": 29,
          "metadata": {},
          "output_type": "execute_result"
        }
      ],
      "source": [
        "df.min()"
      ]
    },
    {
      "cell_type": "markdown",
      "id": "015f43da",
      "metadata": {
        "id": "015f43da"
      },
      "source": [
        "### Skew\n",
        "In probability theory and statistics, skewness is a measure of the asymmetry of the probability distribution of a real-valued random variable about its mean."
      ]
    },
    {
      "cell_type": "code",
      "execution_count": null,
      "id": "3028cd8e",
      "metadata": {
        "id": "3028cd8e",
        "outputId": "18005975-a7ae-47ae-de4c-f9d22b381f96"
      },
      "outputs": [
        {
          "data": {
            "text/plain": [
              "Survived    0.478523\n",
              "Pclass     -0.630548\n",
              "Age         0.389108\n",
              "SibSp       3.695352\n",
              "Parch       2.749117\n",
              "Fare        4.787317\n",
              "male       -0.618921\n",
              "from_Q      2.948778\n",
              "from_S     -0.997083\n",
              "class_2     1.452497\n",
              "class_3    -0.205685\n",
              "dtype: float64"
            ]
          },
          "execution_count": 30,
          "metadata": {},
          "output_type": "execute_result"
        }
      ],
      "source": [
        "df.skew()"
      ]
    },
    {
      "cell_type": "markdown",
      "id": "86815502",
      "metadata": {
        "id": "86815502"
      },
      "source": [
        "### Quantile"
      ]
    },
    {
      "cell_type": "code",
      "execution_count": null,
      "id": "97c4f923",
      "metadata": {
        "id": "97c4f923",
        "outputId": "f7cf57da-2373-40aa-822b-3c0af6743296"
      },
      "outputs": [
        {
          "data": {
            "text/plain": [
              "Survived     0.0000\n",
              "Pclass       3.0000\n",
              "Age         28.0000\n",
              "SibSp        0.0000\n",
              "Parch        0.0000\n",
              "Fare        14.4542\n",
              "male         1.0000\n",
              "from_Q       0.0000\n",
              "from_S       1.0000\n",
              "class_2      0.0000\n",
              "class_3      1.0000\n",
              "Name: 0.5, dtype: float64"
            ]
          },
          "execution_count": 31,
          "metadata": {},
          "output_type": "execute_result"
        }
      ],
      "source": [
        "df.quantile()"
      ]
    },
    {
      "cell_type": "code",
      "execution_count": null,
      "id": "d90cd2c0",
      "metadata": {
        "id": "d90cd2c0",
        "outputId": "61933705-30c8-45c7-d16e-ace423b73705"
      },
      "outputs": [
        {
          "data": {
            "text/plain": [
              "Survived     1.0\n",
              "Pclass       3.0\n",
              "Age         38.0\n",
              "SibSp        1.0\n",
              "Parch        0.0\n",
              "Fare        31.0\n",
              "male         1.0\n",
              "from_Q       0.0\n",
              "from_S       1.0\n",
              "class_2      0.0\n",
              "class_3      1.0\n",
              "Name: 0.75, dtype: float64"
            ]
          },
          "execution_count": 32,
          "metadata": {},
          "output_type": "execute_result"
        }
      ],
      "source": [
        "df.quantile(0.75)"
      ]
    },
    {
      "cell_type": "code",
      "execution_count": null,
      "id": "ff875a31",
      "metadata": {
        "id": "ff875a31",
        "outputId": "06ce7344-9d76-4c5f-8b4b-da4d15ddd535"
      },
      "outputs": [
        {
          "data": {
            "text/plain": [
              "[RangeIndex(start=0, stop=891, step=1),\n",
              " Index(['Survived', 'Pclass', 'Age', 'SibSp', 'Parch', 'Fare', 'male', 'from_Q',\n",
              "        'from_S', 'class_2', 'class_3'],\n",
              "       dtype='object')]"
            ]
          },
          "execution_count": 33,
          "metadata": {},
          "output_type": "execute_result"
        }
      ],
      "source": [
        "df.axes"
      ]
    },
    {
      "cell_type": "code",
      "execution_count": null,
      "id": "b215a2b5",
      "metadata": {
        "id": "b215a2b5",
        "outputId": "606ee242-ad82-446e-8e15-6414c660e103"
      },
      "outputs": [
        {
          "data": {
            "text/plain": [
              "Survived      2\n",
              "Pclass        3\n",
              "Age          88\n",
              "SibSp         7\n",
              "Parch         7\n",
              "Fare        248\n",
              "male          2\n",
              "from_Q        2\n",
              "from_S        2\n",
              "class_2       2\n",
              "class_3       2\n",
              "dtype: int64"
            ]
          },
          "execution_count": 34,
          "metadata": {},
          "output_type": "execute_result"
        }
      ],
      "source": [
        "df.nunique()"
      ]
    },
    {
      "cell_type": "code",
      "execution_count": null,
      "id": "2b7ebe6f",
      "metadata": {
        "id": "2b7ebe6f",
        "outputId": "2b375936-79a7-436d-da46-cbd58bfc3641"
      },
      "outputs": [
        {
          "data": {
            "text/plain": [
              "3    491\n",
              "1    216\n",
              "2    184\n",
              "Name: Pclass, dtype: int64"
            ]
          },
          "execution_count": 35,
          "metadata": {},
          "output_type": "execute_result"
        }
      ],
      "source": [
        "df['Pclass'].value_counts()"
      ]
    },
    {
      "cell_type": "code",
      "execution_count": null,
      "id": "e77f44f6",
      "metadata": {
        "id": "e77f44f6",
        "outputId": "ad031301-5d2c-4e4d-b453-98f59fc34916"
      },
      "outputs": [
        {
          "data": {
            "text/plain": [
              "3    0.551066\n",
              "1    0.242424\n",
              "2    0.206510\n",
              "Name: Pclass, dtype: float64"
            ]
          },
          "execution_count": 36,
          "metadata": {},
          "output_type": "execute_result"
        }
      ],
      "source": [
        "df['Pclass'].value_counts(normalize = True)"
      ]
    },
    {
      "cell_type": "code",
      "execution_count": null,
      "id": "c257b9a3",
      "metadata": {
        "id": "c257b9a3",
        "outputId": "4873cb9f-051a-4e50-efad-e30a3a964615"
      },
      "outputs": [
        {
          "name": "stdout",
          "output_type": "stream",
          "text": [
            "0      11\n",
            "1      11\n",
            "2      11\n",
            "3      11\n",
            "4      11\n",
            "       ..\n",
            "886    11\n",
            "887    11\n",
            "888    10\n",
            "889    11\n",
            "890    11\n",
            "Length: 891, dtype: int64\n",
            "\n",
            "Survived    891\n",
            "Pclass      891\n",
            "Age         714\n",
            "SibSp       891\n",
            "Parch       891\n",
            "Fare        891\n",
            "male        891\n",
            "from_Q      891\n",
            "from_S      891\n",
            "class_2     891\n",
            "class_3     891\n",
            "dtype: int64\n"
          ]
        }
      ],
      "source": [
        "print(df.count(axis = 1))\n",
        "print()\n",
        "print(df.count(axis = 0))"
      ]
    },
    {
      "cell_type": "code",
      "execution_count": null,
      "id": "73bf4cfb",
      "metadata": {
        "id": "73bf4cfb",
        "outputId": "74a5b692-0fa9-47e5-b249-c970fde6a6d4"
      },
      "outputs": [
        {
          "data": {
            "text/html": [
              "<div>\n",
              "<style scoped>\n",
              "    .dataframe tbody tr th:only-of-type {\n",
              "        vertical-align: middle;\n",
              "    }\n",
              "\n",
              "    .dataframe tbody tr th {\n",
              "        vertical-align: top;\n",
              "    }\n",
              "\n",
              "    .dataframe thead th {\n",
              "        text-align: right;\n",
              "    }\n",
              "</style>\n",
              "<table border=\"1\" class=\"dataframe\">\n",
              "  <thead>\n",
              "    <tr style=\"text-align: right;\">\n",
              "      <th></th>\n",
              "      <th>Survived</th>\n",
              "      <th>Pclass</th>\n",
              "      <th>Age</th>\n",
              "      <th>SibSp</th>\n",
              "      <th>Parch</th>\n",
              "      <th>Fare</th>\n",
              "      <th>male</th>\n",
              "      <th>from_Q</th>\n",
              "      <th>from_S</th>\n",
              "      <th>class_2</th>\n",
              "      <th>class_3</th>\n",
              "    </tr>\n",
              "  </thead>\n",
              "  <tbody>\n",
              "    <tr>\n",
              "      <th>0</th>\n",
              "      <td>0</td>\n",
              "      <td>3</td>\n",
              "      <td>22.00</td>\n",
              "      <td>1</td>\n",
              "      <td>0</td>\n",
              "      <td>7.2500</td>\n",
              "      <td>1</td>\n",
              "      <td>0</td>\n",
              "      <td>1</td>\n",
              "      <td>0</td>\n",
              "      <td>1</td>\n",
              "    </tr>\n",
              "    <tr>\n",
              "      <th>1</th>\n",
              "      <td>1</td>\n",
              "      <td>4</td>\n",
              "      <td>60.00</td>\n",
              "      <td>2</td>\n",
              "      <td>0</td>\n",
              "      <td>78.5333</td>\n",
              "      <td>1</td>\n",
              "      <td>0</td>\n",
              "      <td>1</td>\n",
              "      <td>0</td>\n",
              "      <td>1</td>\n",
              "    </tr>\n",
              "    <tr>\n",
              "      <th>2</th>\n",
              "      <td>2</td>\n",
              "      <td>7</td>\n",
              "      <td>86.00</td>\n",
              "      <td>2</td>\n",
              "      <td>0</td>\n",
              "      <td>86.4583</td>\n",
              "      <td>1</td>\n",
              "      <td>0</td>\n",
              "      <td>2</td>\n",
              "      <td>0</td>\n",
              "      <td>2</td>\n",
              "    </tr>\n",
              "    <tr>\n",
              "      <th>3</th>\n",
              "      <td>3</td>\n",
              "      <td>8</td>\n",
              "      <td>121.00</td>\n",
              "      <td>3</td>\n",
              "      <td>0</td>\n",
              "      <td>139.5583</td>\n",
              "      <td>1</td>\n",
              "      <td>0</td>\n",
              "      <td>3</td>\n",
              "      <td>0</td>\n",
              "      <td>2</td>\n",
              "    </tr>\n",
              "    <tr>\n",
              "      <th>4</th>\n",
              "      <td>3</td>\n",
              "      <td>11</td>\n",
              "      <td>156.00</td>\n",
              "      <td>3</td>\n",
              "      <td>0</td>\n",
              "      <td>147.6083</td>\n",
              "      <td>2</td>\n",
              "      <td>0</td>\n",
              "      <td>4</td>\n",
              "      <td>0</td>\n",
              "      <td>3</td>\n",
              "    </tr>\n",
              "    <tr>\n",
              "      <th>...</th>\n",
              "      <td>...</td>\n",
              "      <td>...</td>\n",
              "      <td>...</td>\n",
              "      <td>...</td>\n",
              "      <td>...</td>\n",
              "      <td>...</td>\n",
              "      <td>...</td>\n",
              "      <td>...</td>\n",
              "      <td>...</td>\n",
              "      <td>...</td>\n",
              "      <td>...</td>\n",
              "    </tr>\n",
              "    <tr>\n",
              "      <th>886</th>\n",
              "      <td>340</td>\n",
              "      <td>2049</td>\n",
              "      <td>21128.17</td>\n",
              "      <td>465</td>\n",
              "      <td>338</td>\n",
              "      <td>28602.7493</td>\n",
              "      <td>575</td>\n",
              "      <td>76</td>\n",
              "      <td>642</td>\n",
              "      <td>184</td>\n",
              "      <td>489</td>\n",
              "    </tr>\n",
              "    <tr>\n",
              "      <th>887</th>\n",
              "      <td>341</td>\n",
              "      <td>2050</td>\n",
              "      <td>21147.17</td>\n",
              "      <td>465</td>\n",
              "      <td>338</td>\n",
              "      <td>28632.7493</td>\n",
              "      <td>575</td>\n",
              "      <td>76</td>\n",
              "      <td>643</td>\n",
              "      <td>184</td>\n",
              "      <td>489</td>\n",
              "    </tr>\n",
              "    <tr>\n",
              "      <th>888</th>\n",
              "      <td>341</td>\n",
              "      <td>2053</td>\n",
              "      <td>NaN</td>\n",
              "      <td>466</td>\n",
              "      <td>340</td>\n",
              "      <td>28656.1993</td>\n",
              "      <td>575</td>\n",
              "      <td>76</td>\n",
              "      <td>644</td>\n",
              "      <td>184</td>\n",
              "      <td>490</td>\n",
              "    </tr>\n",
              "    <tr>\n",
              "      <th>889</th>\n",
              "      <td>342</td>\n",
              "      <td>2054</td>\n",
              "      <td>21173.17</td>\n",
              "      <td>466</td>\n",
              "      <td>340</td>\n",
              "      <td>28686.1993</td>\n",
              "      <td>576</td>\n",
              "      <td>76</td>\n",
              "      <td>644</td>\n",
              "      <td>184</td>\n",
              "      <td>490</td>\n",
              "    </tr>\n",
              "    <tr>\n",
              "      <th>890</th>\n",
              "      <td>342</td>\n",
              "      <td>2057</td>\n",
              "      <td>21205.17</td>\n",
              "      <td>466</td>\n",
              "      <td>340</td>\n",
              "      <td>28693.9493</td>\n",
              "      <td>577</td>\n",
              "      <td>77</td>\n",
              "      <td>644</td>\n",
              "      <td>184</td>\n",
              "      <td>491</td>\n",
              "    </tr>\n",
              "  </tbody>\n",
              "</table>\n",
              "<p>891 rows × 11 columns</p>\n",
              "</div>"
            ],
            "text/plain": [
              "     Survived  Pclass       Age  SibSp  Parch        Fare  male  from_Q  \\\n",
              "0           0       3     22.00      1      0      7.2500     1       0   \n",
              "1           1       4     60.00      2      0     78.5333     1       0   \n",
              "2           2       7     86.00      2      0     86.4583     1       0   \n",
              "3           3       8    121.00      3      0    139.5583     1       0   \n",
              "4           3      11    156.00      3      0    147.6083     2       0   \n",
              "..        ...     ...       ...    ...    ...         ...   ...     ...   \n",
              "886       340    2049  21128.17    465    338  28602.7493   575      76   \n",
              "887       341    2050  21147.17    465    338  28632.7493   575      76   \n",
              "888       341    2053       NaN    466    340  28656.1993   575      76   \n",
              "889       342    2054  21173.17    466    340  28686.1993   576      76   \n",
              "890       342    2057  21205.17    466    340  28693.9493   577      77   \n",
              "\n",
              "     from_S  class_2  class_3  \n",
              "0         1        0        1  \n",
              "1         1        0        1  \n",
              "2         2        0        2  \n",
              "3         3        0        2  \n",
              "4         4        0        3  \n",
              "..      ...      ...      ...  \n",
              "886     642      184      489  \n",
              "887     643      184      489  \n",
              "888     644      184      490  \n",
              "889     644      184      490  \n",
              "890     644      184      491  \n",
              "\n",
              "[891 rows x 11 columns]"
            ]
          },
          "execution_count": 38,
          "metadata": {},
          "output_type": "execute_result"
        }
      ],
      "source": [
        "df.cumsum()"
      ]
    },
    {
      "cell_type": "code",
      "execution_count": null,
      "id": "11d88426",
      "metadata": {
        "id": "11d88426",
        "outputId": "cb21ad67-536c-4c3c-fd3f-5306d635f2c7"
      },
      "outputs": [
        {
          "data": {
            "text/html": [
              "<div>\n",
              "<style scoped>\n",
              "    .dataframe tbody tr th:only-of-type {\n",
              "        vertical-align: middle;\n",
              "    }\n",
              "\n",
              "    .dataframe tbody tr th {\n",
              "        vertical-align: top;\n",
              "    }\n",
              "\n",
              "    .dataframe thead th {\n",
              "        text-align: right;\n",
              "    }\n",
              "</style>\n",
              "<table border=\"1\" class=\"dataframe\">\n",
              "  <thead>\n",
              "    <tr style=\"text-align: right;\">\n",
              "      <th></th>\n",
              "      <th>Survived</th>\n",
              "      <th>Pclass</th>\n",
              "      <th>Age</th>\n",
              "      <th>SibSp</th>\n",
              "      <th>Parch</th>\n",
              "      <th>Fare</th>\n",
              "      <th>male</th>\n",
              "      <th>from_Q</th>\n",
              "      <th>from_S</th>\n",
              "      <th>class_2</th>\n",
              "      <th>class_3</th>\n",
              "    </tr>\n",
              "  </thead>\n",
              "  <tbody>\n",
              "    <tr>\n",
              "      <th>0</th>\n",
              "      <td>0.0</td>\n",
              "      <td>3.0</td>\n",
              "      <td>25.0</td>\n",
              "      <td>26.0</td>\n",
              "      <td>26.0</td>\n",
              "      <td>33.2500</td>\n",
              "      <td>34.2500</td>\n",
              "      <td>34.2500</td>\n",
              "      <td>35.2500</td>\n",
              "      <td>35.2500</td>\n",
              "      <td>36.2500</td>\n",
              "    </tr>\n",
              "    <tr>\n",
              "      <th>1</th>\n",
              "      <td>1.0</td>\n",
              "      <td>2.0</td>\n",
              "      <td>40.0</td>\n",
              "      <td>41.0</td>\n",
              "      <td>41.0</td>\n",
              "      <td>112.2833</td>\n",
              "      <td>112.2833</td>\n",
              "      <td>112.2833</td>\n",
              "      <td>112.2833</td>\n",
              "      <td>112.2833</td>\n",
              "      <td>112.2833</td>\n",
              "    </tr>\n",
              "    <tr>\n",
              "      <th>2</th>\n",
              "      <td>1.0</td>\n",
              "      <td>4.0</td>\n",
              "      <td>30.0</td>\n",
              "      <td>30.0</td>\n",
              "      <td>30.0</td>\n",
              "      <td>37.9250</td>\n",
              "      <td>37.9250</td>\n",
              "      <td>37.9250</td>\n",
              "      <td>38.9250</td>\n",
              "      <td>38.9250</td>\n",
              "      <td>39.9250</td>\n",
              "    </tr>\n",
              "    <tr>\n",
              "      <th>3</th>\n",
              "      <td>1.0</td>\n",
              "      <td>2.0</td>\n",
              "      <td>37.0</td>\n",
              "      <td>38.0</td>\n",
              "      <td>38.0</td>\n",
              "      <td>91.1000</td>\n",
              "      <td>91.1000</td>\n",
              "      <td>91.1000</td>\n",
              "      <td>92.1000</td>\n",
              "      <td>92.1000</td>\n",
              "      <td>92.1000</td>\n",
              "    </tr>\n",
              "    <tr>\n",
              "      <th>4</th>\n",
              "      <td>0.0</td>\n",
              "      <td>3.0</td>\n",
              "      <td>38.0</td>\n",
              "      <td>38.0</td>\n",
              "      <td>38.0</td>\n",
              "      <td>46.0500</td>\n",
              "      <td>47.0500</td>\n",
              "      <td>47.0500</td>\n",
              "      <td>48.0500</td>\n",
              "      <td>48.0500</td>\n",
              "      <td>49.0500</td>\n",
              "    </tr>\n",
              "    <tr>\n",
              "      <th>...</th>\n",
              "      <td>...</td>\n",
              "      <td>...</td>\n",
              "      <td>...</td>\n",
              "      <td>...</td>\n",
              "      <td>...</td>\n",
              "      <td>...</td>\n",
              "      <td>...</td>\n",
              "      <td>...</td>\n",
              "      <td>...</td>\n",
              "      <td>...</td>\n",
              "      <td>...</td>\n",
              "    </tr>\n",
              "    <tr>\n",
              "      <th>886</th>\n",
              "      <td>0.0</td>\n",
              "      <td>2.0</td>\n",
              "      <td>29.0</td>\n",
              "      <td>29.0</td>\n",
              "      <td>29.0</td>\n",
              "      <td>42.0000</td>\n",
              "      <td>43.0000</td>\n",
              "      <td>43.0000</td>\n",
              "      <td>44.0000</td>\n",
              "      <td>45.0000</td>\n",
              "      <td>45.0000</td>\n",
              "    </tr>\n",
              "    <tr>\n",
              "      <th>887</th>\n",
              "      <td>1.0</td>\n",
              "      <td>2.0</td>\n",
              "      <td>21.0</td>\n",
              "      <td>21.0</td>\n",
              "      <td>21.0</td>\n",
              "      <td>51.0000</td>\n",
              "      <td>51.0000</td>\n",
              "      <td>51.0000</td>\n",
              "      <td>52.0000</td>\n",
              "      <td>52.0000</td>\n",
              "      <td>52.0000</td>\n",
              "    </tr>\n",
              "    <tr>\n",
              "      <th>888</th>\n",
              "      <td>0.0</td>\n",
              "      <td>3.0</td>\n",
              "      <td>NaN</td>\n",
              "      <td>4.0</td>\n",
              "      <td>6.0</td>\n",
              "      <td>29.4500</td>\n",
              "      <td>29.4500</td>\n",
              "      <td>29.4500</td>\n",
              "      <td>30.4500</td>\n",
              "      <td>30.4500</td>\n",
              "      <td>31.4500</td>\n",
              "    </tr>\n",
              "    <tr>\n",
              "      <th>889</th>\n",
              "      <td>1.0</td>\n",
              "      <td>2.0</td>\n",
              "      <td>28.0</td>\n",
              "      <td>28.0</td>\n",
              "      <td>28.0</td>\n",
              "      <td>58.0000</td>\n",
              "      <td>59.0000</td>\n",
              "      <td>59.0000</td>\n",
              "      <td>59.0000</td>\n",
              "      <td>59.0000</td>\n",
              "      <td>59.0000</td>\n",
              "    </tr>\n",
              "    <tr>\n",
              "      <th>890</th>\n",
              "      <td>0.0</td>\n",
              "      <td>3.0</td>\n",
              "      <td>35.0</td>\n",
              "      <td>35.0</td>\n",
              "      <td>35.0</td>\n",
              "      <td>42.7500</td>\n",
              "      <td>43.7500</td>\n",
              "      <td>44.7500</td>\n",
              "      <td>44.7500</td>\n",
              "      <td>44.7500</td>\n",
              "      <td>45.7500</td>\n",
              "    </tr>\n",
              "  </tbody>\n",
              "</table>\n",
              "<p>891 rows × 11 columns</p>\n",
              "</div>"
            ],
            "text/plain": [
              "     Survived  Pclass   Age  SibSp  Parch      Fare      male    from_Q  \\\n",
              "0         0.0     3.0  25.0   26.0   26.0   33.2500   34.2500   34.2500   \n",
              "1         1.0     2.0  40.0   41.0   41.0  112.2833  112.2833  112.2833   \n",
              "2         1.0     4.0  30.0   30.0   30.0   37.9250   37.9250   37.9250   \n",
              "3         1.0     2.0  37.0   38.0   38.0   91.1000   91.1000   91.1000   \n",
              "4         0.0     3.0  38.0   38.0   38.0   46.0500   47.0500   47.0500   \n",
              "..        ...     ...   ...    ...    ...       ...       ...       ...   \n",
              "886       0.0     2.0  29.0   29.0   29.0   42.0000   43.0000   43.0000   \n",
              "887       1.0     2.0  21.0   21.0   21.0   51.0000   51.0000   51.0000   \n",
              "888       0.0     3.0   NaN    4.0    6.0   29.4500   29.4500   29.4500   \n",
              "889       1.0     2.0  28.0   28.0   28.0   58.0000   59.0000   59.0000   \n",
              "890       0.0     3.0  35.0   35.0   35.0   42.7500   43.7500   44.7500   \n",
              "\n",
              "       from_S   class_2   class_3  \n",
              "0     35.2500   35.2500   36.2500  \n",
              "1    112.2833  112.2833  112.2833  \n",
              "2     38.9250   38.9250   39.9250  \n",
              "3     92.1000   92.1000   92.1000  \n",
              "4     48.0500   48.0500   49.0500  \n",
              "..        ...       ...       ...  \n",
              "886   44.0000   45.0000   45.0000  \n",
              "887   52.0000   52.0000   52.0000  \n",
              "888   30.4500   30.4500   31.4500  \n",
              "889   59.0000   59.0000   59.0000  \n",
              "890   44.7500   44.7500   45.7500  \n",
              "\n",
              "[891 rows x 11 columns]"
            ]
          },
          "execution_count": 39,
          "metadata": {},
          "output_type": "execute_result"
        }
      ],
      "source": [
        "df.cumsum(1)"
      ]
    },
    {
      "cell_type": "code",
      "execution_count": null,
      "id": "95d1797a",
      "metadata": {
        "id": "95d1797a",
        "outputId": "ec0cc4e2-77b6-4825-d019-2e4fc350d934"
      },
      "outputs": [
        {
          "data": {
            "text/html": [
              "<div>\n",
              "<style scoped>\n",
              "    .dataframe tbody tr th:only-of-type {\n",
              "        vertical-align: middle;\n",
              "    }\n",
              "\n",
              "    .dataframe tbody tr th {\n",
              "        vertical-align: top;\n",
              "    }\n",
              "\n",
              "    .dataframe thead th {\n",
              "        text-align: right;\n",
              "    }\n",
              "</style>\n",
              "<table border=\"1\" class=\"dataframe\">\n",
              "  <thead>\n",
              "    <tr style=\"text-align: right;\">\n",
              "      <th></th>\n",
              "      <th>Survived</th>\n",
              "      <th>Pclass</th>\n",
              "      <th>Age</th>\n",
              "      <th>SibSp</th>\n",
              "      <th>Parch</th>\n",
              "      <th>Fare</th>\n",
              "      <th>male</th>\n",
              "      <th>from_Q</th>\n",
              "      <th>from_S</th>\n",
              "      <th>class_2</th>\n",
              "      <th>class_3</th>\n",
              "    </tr>\n",
              "  </thead>\n",
              "  <tbody>\n",
              "    <tr>\n",
              "      <th>0</th>\n",
              "      <td>0</td>\n",
              "      <td>3</td>\n",
              "      <td>22.0</td>\n",
              "      <td>1</td>\n",
              "      <td>0</td>\n",
              "      <td>7.250000e+00</td>\n",
              "      <td>1</td>\n",
              "      <td>0</td>\n",
              "      <td>1</td>\n",
              "      <td>0</td>\n",
              "      <td>1</td>\n",
              "    </tr>\n",
              "    <tr>\n",
              "      <th>1</th>\n",
              "      <td>0</td>\n",
              "      <td>3</td>\n",
              "      <td>836.0</td>\n",
              "      <td>1</td>\n",
              "      <td>0</td>\n",
              "      <td>5.168039e+02</td>\n",
              "      <td>0</td>\n",
              "      <td>0</td>\n",
              "      <td>0</td>\n",
              "      <td>0</td>\n",
              "      <td>0</td>\n",
              "    </tr>\n",
              "    <tr>\n",
              "      <th>2</th>\n",
              "      <td>0</td>\n",
              "      <td>9</td>\n",
              "      <td>21736.0</td>\n",
              "      <td>0</td>\n",
              "      <td>0</td>\n",
              "      <td>4.095671e+03</td>\n",
              "      <td>0</td>\n",
              "      <td>0</td>\n",
              "      <td>0</td>\n",
              "      <td>0</td>\n",
              "      <td>0</td>\n",
              "    </tr>\n",
              "    <tr>\n",
              "      <th>3</th>\n",
              "      <td>0</td>\n",
              "      <td>9</td>\n",
              "      <td>760760.0</td>\n",
              "      <td>0</td>\n",
              "      <td>0</td>\n",
              "      <td>2.174801e+05</td>\n",
              "      <td>0</td>\n",
              "      <td>0</td>\n",
              "      <td>0</td>\n",
              "      <td>0</td>\n",
              "      <td>0</td>\n",
              "    </tr>\n",
              "    <tr>\n",
              "      <th>4</th>\n",
              "      <td>0</td>\n",
              "      <td>27</td>\n",
              "      <td>26626600.0</td>\n",
              "      <td>0</td>\n",
              "      <td>0</td>\n",
              "      <td>1.750715e+06</td>\n",
              "      <td>0</td>\n",
              "      <td>0</td>\n",
              "      <td>0</td>\n",
              "      <td>0</td>\n",
              "      <td>0</td>\n",
              "    </tr>\n",
              "    <tr>\n",
              "      <th>...</th>\n",
              "      <td>...</td>\n",
              "      <td>...</td>\n",
              "      <td>...</td>\n",
              "      <td>...</td>\n",
              "      <td>...</td>\n",
              "      <td>...</td>\n",
              "      <td>...</td>\n",
              "      <td>...</td>\n",
              "      <td>...</td>\n",
              "      <td>...</td>\n",
              "      <td>...</td>\n",
              "    </tr>\n",
              "    <tr>\n",
              "      <th>886</th>\n",
              "      <td>0</td>\n",
              "      <td>0</td>\n",
              "      <td>inf</td>\n",
              "      <td>0</td>\n",
              "      <td>0</td>\n",
              "      <td>0.000000e+00</td>\n",
              "      <td>0</td>\n",
              "      <td>0</td>\n",
              "      <td>0</td>\n",
              "      <td>0</td>\n",
              "      <td>0</td>\n",
              "    </tr>\n",
              "    <tr>\n",
              "      <th>887</th>\n",
              "      <td>0</td>\n",
              "      <td>0</td>\n",
              "      <td>inf</td>\n",
              "      <td>0</td>\n",
              "      <td>0</td>\n",
              "      <td>0.000000e+00</td>\n",
              "      <td>0</td>\n",
              "      <td>0</td>\n",
              "      <td>0</td>\n",
              "      <td>0</td>\n",
              "      <td>0</td>\n",
              "    </tr>\n",
              "    <tr>\n",
              "      <th>888</th>\n",
              "      <td>0</td>\n",
              "      <td>0</td>\n",
              "      <td>NaN</td>\n",
              "      <td>0</td>\n",
              "      <td>0</td>\n",
              "      <td>0.000000e+00</td>\n",
              "      <td>0</td>\n",
              "      <td>0</td>\n",
              "      <td>0</td>\n",
              "      <td>0</td>\n",
              "      <td>0</td>\n",
              "    </tr>\n",
              "    <tr>\n",
              "      <th>889</th>\n",
              "      <td>0</td>\n",
              "      <td>0</td>\n",
              "      <td>inf</td>\n",
              "      <td>0</td>\n",
              "      <td>0</td>\n",
              "      <td>0.000000e+00</td>\n",
              "      <td>0</td>\n",
              "      <td>0</td>\n",
              "      <td>0</td>\n",
              "      <td>0</td>\n",
              "      <td>0</td>\n",
              "    </tr>\n",
              "    <tr>\n",
              "      <th>890</th>\n",
              "      <td>0</td>\n",
              "      <td>0</td>\n",
              "      <td>inf</td>\n",
              "      <td>0</td>\n",
              "      <td>0</td>\n",
              "      <td>0.000000e+00</td>\n",
              "      <td>0</td>\n",
              "      <td>0</td>\n",
              "      <td>0</td>\n",
              "      <td>0</td>\n",
              "      <td>0</td>\n",
              "    </tr>\n",
              "  </tbody>\n",
              "</table>\n",
              "<p>891 rows × 11 columns</p>\n",
              "</div>"
            ],
            "text/plain": [
              "     Survived  Pclass         Age  SibSp  Parch          Fare  male  from_Q  \\\n",
              "0           0       3        22.0      1      0  7.250000e+00     1       0   \n",
              "1           0       3       836.0      1      0  5.168039e+02     0       0   \n",
              "2           0       9     21736.0      0      0  4.095671e+03     0       0   \n",
              "3           0       9    760760.0      0      0  2.174801e+05     0       0   \n",
              "4           0      27  26626600.0      0      0  1.750715e+06     0       0   \n",
              "..        ...     ...         ...    ...    ...           ...   ...     ...   \n",
              "886         0       0         inf      0      0  0.000000e+00     0       0   \n",
              "887         0       0         inf      0      0  0.000000e+00     0       0   \n",
              "888         0       0         NaN      0      0  0.000000e+00     0       0   \n",
              "889         0       0         inf      0      0  0.000000e+00     0       0   \n",
              "890         0       0         inf      0      0  0.000000e+00     0       0   \n",
              "\n",
              "     from_S  class_2  class_3  \n",
              "0         1        0        1  \n",
              "1         0        0        0  \n",
              "2         0        0        0  \n",
              "3         0        0        0  \n",
              "4         0        0        0  \n",
              "..      ...      ...      ...  \n",
              "886       0        0        0  \n",
              "887       0        0        0  \n",
              "888       0        0        0  \n",
              "889       0        0        0  \n",
              "890       0        0        0  \n",
              "\n",
              "[891 rows x 11 columns]"
            ]
          },
          "execution_count": 40,
          "metadata": {},
          "output_type": "execute_result"
        }
      ],
      "source": [
        "df.cumprod()"
      ]
    },
    {
      "cell_type": "code",
      "execution_count": null,
      "id": "b023a9e7",
      "metadata": {
        "id": "b023a9e7",
        "outputId": "740577f7-cdd5-4c3f-db92-034c872099cf"
      },
      "outputs": [
        {
          "data": {
            "text/html": [
              "<div>\n",
              "<style scoped>\n",
              "    .dataframe tbody tr th:only-of-type {\n",
              "        vertical-align: middle;\n",
              "    }\n",
              "\n",
              "    .dataframe tbody tr th {\n",
              "        vertical-align: top;\n",
              "    }\n",
              "\n",
              "    .dataframe thead th {\n",
              "        text-align: right;\n",
              "    }\n",
              "</style>\n",
              "<table border=\"1\" class=\"dataframe\">\n",
              "  <thead>\n",
              "    <tr style=\"text-align: right;\">\n",
              "      <th></th>\n",
              "      <th>Survived</th>\n",
              "      <th>Pclass</th>\n",
              "      <th>Age</th>\n",
              "      <th>SibSp</th>\n",
              "      <th>Parch</th>\n",
              "      <th>Fare</th>\n",
              "      <th>male</th>\n",
              "      <th>from_Q</th>\n",
              "      <th>from_S</th>\n",
              "      <th>class_2</th>\n",
              "      <th>class_3</th>\n",
              "    </tr>\n",
              "  </thead>\n",
              "  <tbody>\n",
              "    <tr>\n",
              "      <th>0</th>\n",
              "      <td>0.0</td>\n",
              "      <td>0.0</td>\n",
              "      <td>0.0</td>\n",
              "      <td>0.0</td>\n",
              "      <td>0.0</td>\n",
              "      <td>0.0</td>\n",
              "      <td>0.0</td>\n",
              "      <td>0.0</td>\n",
              "      <td>0.0</td>\n",
              "      <td>0.0</td>\n",
              "      <td>0.0</td>\n",
              "    </tr>\n",
              "    <tr>\n",
              "      <th>1</th>\n",
              "      <td>1.0</td>\n",
              "      <td>1.0</td>\n",
              "      <td>38.0</td>\n",
              "      <td>38.0</td>\n",
              "      <td>0.0</td>\n",
              "      <td>0.0</td>\n",
              "      <td>0.0</td>\n",
              "      <td>0.0</td>\n",
              "      <td>0.0</td>\n",
              "      <td>0.0</td>\n",
              "      <td>0.0</td>\n",
              "    </tr>\n",
              "    <tr>\n",
              "      <th>2</th>\n",
              "      <td>1.0</td>\n",
              "      <td>3.0</td>\n",
              "      <td>78.0</td>\n",
              "      <td>0.0</td>\n",
              "      <td>0.0</td>\n",
              "      <td>0.0</td>\n",
              "      <td>0.0</td>\n",
              "      <td>0.0</td>\n",
              "      <td>0.0</td>\n",
              "      <td>0.0</td>\n",
              "      <td>0.0</td>\n",
              "    </tr>\n",
              "    <tr>\n",
              "      <th>3</th>\n",
              "      <td>1.0</td>\n",
              "      <td>1.0</td>\n",
              "      <td>35.0</td>\n",
              "      <td>35.0</td>\n",
              "      <td>0.0</td>\n",
              "      <td>0.0</td>\n",
              "      <td>0.0</td>\n",
              "      <td>0.0</td>\n",
              "      <td>0.0</td>\n",
              "      <td>0.0</td>\n",
              "      <td>0.0</td>\n",
              "    </tr>\n",
              "    <tr>\n",
              "      <th>4</th>\n",
              "      <td>0.0</td>\n",
              "      <td>0.0</td>\n",
              "      <td>0.0</td>\n",
              "      <td>0.0</td>\n",
              "      <td>0.0</td>\n",
              "      <td>0.0</td>\n",
              "      <td>0.0</td>\n",
              "      <td>0.0</td>\n",
              "      <td>0.0</td>\n",
              "      <td>0.0</td>\n",
              "      <td>0.0</td>\n",
              "    </tr>\n",
              "    <tr>\n",
              "      <th>...</th>\n",
              "      <td>...</td>\n",
              "      <td>...</td>\n",
              "      <td>...</td>\n",
              "      <td>...</td>\n",
              "      <td>...</td>\n",
              "      <td>...</td>\n",
              "      <td>...</td>\n",
              "      <td>...</td>\n",
              "      <td>...</td>\n",
              "      <td>...</td>\n",
              "      <td>...</td>\n",
              "    </tr>\n",
              "    <tr>\n",
              "      <th>886</th>\n",
              "      <td>0.0</td>\n",
              "      <td>0.0</td>\n",
              "      <td>0.0</td>\n",
              "      <td>0.0</td>\n",
              "      <td>0.0</td>\n",
              "      <td>0.0</td>\n",
              "      <td>0.0</td>\n",
              "      <td>0.0</td>\n",
              "      <td>0.0</td>\n",
              "      <td>0.0</td>\n",
              "      <td>0.0</td>\n",
              "    </tr>\n",
              "    <tr>\n",
              "      <th>887</th>\n",
              "      <td>1.0</td>\n",
              "      <td>1.0</td>\n",
              "      <td>19.0</td>\n",
              "      <td>0.0</td>\n",
              "      <td>0.0</td>\n",
              "      <td>0.0</td>\n",
              "      <td>0.0</td>\n",
              "      <td>0.0</td>\n",
              "      <td>0.0</td>\n",
              "      <td>0.0</td>\n",
              "      <td>0.0</td>\n",
              "    </tr>\n",
              "    <tr>\n",
              "      <th>888</th>\n",
              "      <td>0.0</td>\n",
              "      <td>0.0</td>\n",
              "      <td>NaN</td>\n",
              "      <td>0.0</td>\n",
              "      <td>0.0</td>\n",
              "      <td>0.0</td>\n",
              "      <td>0.0</td>\n",
              "      <td>0.0</td>\n",
              "      <td>0.0</td>\n",
              "      <td>0.0</td>\n",
              "      <td>0.0</td>\n",
              "    </tr>\n",
              "    <tr>\n",
              "      <th>889</th>\n",
              "      <td>1.0</td>\n",
              "      <td>1.0</td>\n",
              "      <td>26.0</td>\n",
              "      <td>0.0</td>\n",
              "      <td>0.0</td>\n",
              "      <td>0.0</td>\n",
              "      <td>0.0</td>\n",
              "      <td>0.0</td>\n",
              "      <td>0.0</td>\n",
              "      <td>0.0</td>\n",
              "      <td>0.0</td>\n",
              "    </tr>\n",
              "    <tr>\n",
              "      <th>890</th>\n",
              "      <td>0.0</td>\n",
              "      <td>0.0</td>\n",
              "      <td>0.0</td>\n",
              "      <td>0.0</td>\n",
              "      <td>0.0</td>\n",
              "      <td>0.0</td>\n",
              "      <td>0.0</td>\n",
              "      <td>0.0</td>\n",
              "      <td>0.0</td>\n",
              "      <td>0.0</td>\n",
              "      <td>0.0</td>\n",
              "    </tr>\n",
              "  </tbody>\n",
              "</table>\n",
              "<p>891 rows × 11 columns</p>\n",
              "</div>"
            ],
            "text/plain": [
              "     Survived  Pclass   Age  SibSp  Parch  Fare  male  from_Q  from_S  \\\n",
              "0         0.0     0.0   0.0    0.0    0.0   0.0   0.0     0.0     0.0   \n",
              "1         1.0     1.0  38.0   38.0    0.0   0.0   0.0     0.0     0.0   \n",
              "2         1.0     3.0  78.0    0.0    0.0   0.0   0.0     0.0     0.0   \n",
              "3         1.0     1.0  35.0   35.0    0.0   0.0   0.0     0.0     0.0   \n",
              "4         0.0     0.0   0.0    0.0    0.0   0.0   0.0     0.0     0.0   \n",
              "..        ...     ...   ...    ...    ...   ...   ...     ...     ...   \n",
              "886       0.0     0.0   0.0    0.0    0.0   0.0   0.0     0.0     0.0   \n",
              "887       1.0     1.0  19.0    0.0    0.0   0.0   0.0     0.0     0.0   \n",
              "888       0.0     0.0   NaN    0.0    0.0   0.0   0.0     0.0     0.0   \n",
              "889       1.0     1.0  26.0    0.0    0.0   0.0   0.0     0.0     0.0   \n",
              "890       0.0     0.0   0.0    0.0    0.0   0.0   0.0     0.0     0.0   \n",
              "\n",
              "     class_2  class_3  \n",
              "0        0.0      0.0  \n",
              "1        0.0      0.0  \n",
              "2        0.0      0.0  \n",
              "3        0.0      0.0  \n",
              "4        0.0      0.0  \n",
              "..       ...      ...  \n",
              "886      0.0      0.0  \n",
              "887      0.0      0.0  \n",
              "888      0.0      0.0  \n",
              "889      0.0      0.0  \n",
              "890      0.0      0.0  \n",
              "\n",
              "[891 rows x 11 columns]"
            ]
          },
          "execution_count": 41,
          "metadata": {},
          "output_type": "execute_result"
        }
      ],
      "source": [
        "df.cumprod(1)\n",
        "\n",
        "# Works on successive rows of each column"
      ]
    },
    {
      "cell_type": "code",
      "execution_count": null,
      "id": "99e6ea8c",
      "metadata": {
        "id": "99e6ea8c",
        "outputId": "0d32025a-0ac7-47ad-f206-95dc49eeb01a"
      },
      "outputs": [
        {
          "data": {
            "text/plain": [
              "Survived       0.236772\n",
              "Pclass         0.699015\n",
              "Age          211.019125\n",
              "SibSp          1.216043\n",
              "Parch          0.649728\n",
              "Fare        2469.436846\n",
              "male           0.228475\n",
              "from_Q         0.079040\n",
              "from_S         0.200593\n",
              "class_2        0.164047\n",
              "class_3        0.247670\n",
              "dtype: float64"
            ]
          },
          "execution_count": 42,
          "metadata": {},
          "output_type": "execute_result"
        }
      ],
      "source": [
        "df.var()"
      ]
    },
    {
      "cell_type": "code",
      "execution_count": null,
      "id": "f1aa9edb",
      "metadata": {
        "id": "f1aa9edb",
        "outputId": "68298a22-b3a9-4450-c1d6-2885d91dc43e"
      },
      "outputs": [
        {
          "data": {
            "text/plain": [
              "0       43.010227\n",
              "1      538.216891\n",
              "2       60.589602\n",
              "3      327.748182\n",
              "4      108.308409\n",
              "          ...    \n",
              "886     72.090909\n",
              "887    101.818182\n",
              "888     51.888028\n",
              "889    126.254545\n",
              "890     90.578409\n",
              "Length: 891, dtype: float64"
            ]
          },
          "execution_count": 43,
          "metadata": {},
          "output_type": "execute_result"
        }
      ],
      "source": [
        "df.var(axis = 1)"
      ]
    },
    {
      "cell_type": "code",
      "execution_count": null,
      "id": "9ca21b49",
      "metadata": {
        "id": "9ca21b49",
        "outputId": "defe72b1-428e-4c5d-dae0-81d7c65dcfa9"
      },
      "outputs": [
        {
          "data": {
            "text/html": [
              "<div>\n",
              "<style scoped>\n",
              "    .dataframe tbody tr th:only-of-type {\n",
              "        vertical-align: middle;\n",
              "    }\n",
              "\n",
              "    .dataframe tbody tr th {\n",
              "        vertical-align: top;\n",
              "    }\n",
              "\n",
              "    .dataframe thead th {\n",
              "        text-align: right;\n",
              "    }\n",
              "</style>\n",
              "<table border=\"1\" class=\"dataframe\">\n",
              "  <thead>\n",
              "    <tr style=\"text-align: right;\">\n",
              "      <th></th>\n",
              "      <th>Survived</th>\n",
              "      <th>Pclass</th>\n",
              "      <th>Age</th>\n",
              "      <th>SibSp</th>\n",
              "      <th>Parch</th>\n",
              "      <th>Fare</th>\n",
              "      <th>male</th>\n",
              "      <th>from_Q</th>\n",
              "      <th>from_S</th>\n",
              "      <th>class_2</th>\n",
              "      <th>class_3</th>\n",
              "    </tr>\n",
              "  </thead>\n",
              "  <tbody>\n",
              "    <tr>\n",
              "      <th>count</th>\n",
              "      <td>891.000000</td>\n",
              "      <td>891.000000</td>\n",
              "      <td>714.000000</td>\n",
              "      <td>891.000000</td>\n",
              "      <td>891.000000</td>\n",
              "      <td>891.000000</td>\n",
              "      <td>891.000000</td>\n",
              "      <td>891.000000</td>\n",
              "      <td>891.000000</td>\n",
              "      <td>891.000000</td>\n",
              "      <td>891.000000</td>\n",
              "    </tr>\n",
              "    <tr>\n",
              "      <th>mean</th>\n",
              "      <td>0.383838</td>\n",
              "      <td>2.308642</td>\n",
              "      <td>29.699118</td>\n",
              "      <td>0.523008</td>\n",
              "      <td>0.381594</td>\n",
              "      <td>32.204208</td>\n",
              "      <td>0.647587</td>\n",
              "      <td>0.086420</td>\n",
              "      <td>0.722783</td>\n",
              "      <td>0.206510</td>\n",
              "      <td>0.551066</td>\n",
              "    </tr>\n",
              "    <tr>\n",
              "      <th>std</th>\n",
              "      <td>0.486592</td>\n",
              "      <td>0.836071</td>\n",
              "      <td>14.526497</td>\n",
              "      <td>1.102743</td>\n",
              "      <td>0.806057</td>\n",
              "      <td>49.693429</td>\n",
              "      <td>0.477990</td>\n",
              "      <td>0.281141</td>\n",
              "      <td>0.447876</td>\n",
              "      <td>0.405028</td>\n",
              "      <td>0.497665</td>\n",
              "    </tr>\n",
              "    <tr>\n",
              "      <th>min</th>\n",
              "      <td>0.000000</td>\n",
              "      <td>1.000000</td>\n",
              "      <td>0.420000</td>\n",
              "      <td>0.000000</td>\n",
              "      <td>0.000000</td>\n",
              "      <td>0.000000</td>\n",
              "      <td>0.000000</td>\n",
              "      <td>0.000000</td>\n",
              "      <td>0.000000</td>\n",
              "      <td>0.000000</td>\n",
              "      <td>0.000000</td>\n",
              "    </tr>\n",
              "    <tr>\n",
              "      <th>25%</th>\n",
              "      <td>0.000000</td>\n",
              "      <td>2.000000</td>\n",
              "      <td>20.125000</td>\n",
              "      <td>0.000000</td>\n",
              "      <td>0.000000</td>\n",
              "      <td>7.910400</td>\n",
              "      <td>0.000000</td>\n",
              "      <td>0.000000</td>\n",
              "      <td>0.000000</td>\n",
              "      <td>0.000000</td>\n",
              "      <td>0.000000</td>\n",
              "    </tr>\n",
              "    <tr>\n",
              "      <th>50%</th>\n",
              "      <td>0.000000</td>\n",
              "      <td>3.000000</td>\n",
              "      <td>28.000000</td>\n",
              "      <td>0.000000</td>\n",
              "      <td>0.000000</td>\n",
              "      <td>14.454200</td>\n",
              "      <td>1.000000</td>\n",
              "      <td>0.000000</td>\n",
              "      <td>1.000000</td>\n",
              "      <td>0.000000</td>\n",
              "      <td>1.000000</td>\n",
              "    </tr>\n",
              "    <tr>\n",
              "      <th>75%</th>\n",
              "      <td>1.000000</td>\n",
              "      <td>3.000000</td>\n",
              "      <td>38.000000</td>\n",
              "      <td>1.000000</td>\n",
              "      <td>0.000000</td>\n",
              "      <td>31.000000</td>\n",
              "      <td>1.000000</td>\n",
              "      <td>0.000000</td>\n",
              "      <td>1.000000</td>\n",
              "      <td>0.000000</td>\n",
              "      <td>1.000000</td>\n",
              "    </tr>\n",
              "    <tr>\n",
              "      <th>max</th>\n",
              "      <td>1.000000</td>\n",
              "      <td>3.000000</td>\n",
              "      <td>80.000000</td>\n",
              "      <td>8.000000</td>\n",
              "      <td>6.000000</td>\n",
              "      <td>512.329200</td>\n",
              "      <td>1.000000</td>\n",
              "      <td>1.000000</td>\n",
              "      <td>1.000000</td>\n",
              "      <td>1.000000</td>\n",
              "      <td>1.000000</td>\n",
              "    </tr>\n",
              "  </tbody>\n",
              "</table>\n",
              "</div>"
            ],
            "text/plain": [
              "         Survived      Pclass         Age       SibSp       Parch        Fare  \\\n",
              "count  891.000000  891.000000  714.000000  891.000000  891.000000  891.000000   \n",
              "mean     0.383838    2.308642   29.699118    0.523008    0.381594   32.204208   \n",
              "std      0.486592    0.836071   14.526497    1.102743    0.806057   49.693429   \n",
              "min      0.000000    1.000000    0.420000    0.000000    0.000000    0.000000   \n",
              "25%      0.000000    2.000000   20.125000    0.000000    0.000000    7.910400   \n",
              "50%      0.000000    3.000000   28.000000    0.000000    0.000000   14.454200   \n",
              "75%      1.000000    3.000000   38.000000    1.000000    0.000000   31.000000   \n",
              "max      1.000000    3.000000   80.000000    8.000000    6.000000  512.329200   \n",
              "\n",
              "             male      from_Q      from_S     class_2     class_3  \n",
              "count  891.000000  891.000000  891.000000  891.000000  891.000000  \n",
              "mean     0.647587    0.086420    0.722783    0.206510    0.551066  \n",
              "std      0.477990    0.281141    0.447876    0.405028    0.497665  \n",
              "min      0.000000    0.000000    0.000000    0.000000    0.000000  \n",
              "25%      0.000000    0.000000    0.000000    0.000000    0.000000  \n",
              "50%      1.000000    0.000000    1.000000    0.000000    1.000000  \n",
              "75%      1.000000    0.000000    1.000000    0.000000    1.000000  \n",
              "max      1.000000    1.000000    1.000000    1.000000    1.000000  "
            ]
          },
          "execution_count": 44,
          "metadata": {},
          "output_type": "execute_result"
        }
      ],
      "source": [
        "df.describe()"
      ]
    },
    {
      "cell_type": "code",
      "execution_count": null,
      "id": "441dd708",
      "metadata": {
        "scrolled": true,
        "id": "441dd708",
        "outputId": "1ee0e70c-c886-4927-b7d7-623284a3be50"
      },
      "outputs": [
        {
          "data": {
            "text/html": [
              "<div>\n",
              "<style scoped>\n",
              "    .dataframe tbody tr th:only-of-type {\n",
              "        vertical-align: middle;\n",
              "    }\n",
              "\n",
              "    .dataframe tbody tr th {\n",
              "        vertical-align: top;\n",
              "    }\n",
              "\n",
              "    .dataframe thead th {\n",
              "        text-align: right;\n",
              "    }\n",
              "</style>\n",
              "<table border=\"1\" class=\"dataframe\">\n",
              "  <thead>\n",
              "    <tr style=\"text-align: right;\">\n",
              "      <th></th>\n",
              "      <th>Survived</th>\n",
              "      <th>Pclass</th>\n",
              "      <th>Age</th>\n",
              "      <th>SibSp</th>\n",
              "      <th>Parch</th>\n",
              "      <th>Fare</th>\n",
              "      <th>male</th>\n",
              "      <th>from_Q</th>\n",
              "      <th>from_S</th>\n",
              "      <th>class_2</th>\n",
              "      <th>class_3</th>\n",
              "    </tr>\n",
              "  </thead>\n",
              "  <tbody>\n",
              "    <tr>\n",
              "      <th>count</th>\n",
              "      <td>891.000000</td>\n",
              "      <td>891.000000</td>\n",
              "      <td>714.000000</td>\n",
              "      <td>891.000000</td>\n",
              "      <td>891.000000</td>\n",
              "      <td>891.000000</td>\n",
              "      <td>891.000000</td>\n",
              "      <td>891.000000</td>\n",
              "      <td>891.000000</td>\n",
              "      <td>891.000000</td>\n",
              "      <td>891.000000</td>\n",
              "    </tr>\n",
              "    <tr>\n",
              "      <th>mean</th>\n",
              "      <td>0.383838</td>\n",
              "      <td>2.308642</td>\n",
              "      <td>29.699118</td>\n",
              "      <td>0.523008</td>\n",
              "      <td>0.381594</td>\n",
              "      <td>32.204208</td>\n",
              "      <td>0.647587</td>\n",
              "      <td>0.086420</td>\n",
              "      <td>0.722783</td>\n",
              "      <td>0.206510</td>\n",
              "      <td>0.551066</td>\n",
              "    </tr>\n",
              "    <tr>\n",
              "      <th>std</th>\n",
              "      <td>0.486592</td>\n",
              "      <td>0.836071</td>\n",
              "      <td>14.526497</td>\n",
              "      <td>1.102743</td>\n",
              "      <td>0.806057</td>\n",
              "      <td>49.693429</td>\n",
              "      <td>0.477990</td>\n",
              "      <td>0.281141</td>\n",
              "      <td>0.447876</td>\n",
              "      <td>0.405028</td>\n",
              "      <td>0.497665</td>\n",
              "    </tr>\n",
              "    <tr>\n",
              "      <th>min</th>\n",
              "      <td>0.000000</td>\n",
              "      <td>1.000000</td>\n",
              "      <td>0.420000</td>\n",
              "      <td>0.000000</td>\n",
              "      <td>0.000000</td>\n",
              "      <td>0.000000</td>\n",
              "      <td>0.000000</td>\n",
              "      <td>0.000000</td>\n",
              "      <td>0.000000</td>\n",
              "      <td>0.000000</td>\n",
              "      <td>0.000000</td>\n",
              "    </tr>\n",
              "    <tr>\n",
              "      <th>25%</th>\n",
              "      <td>0.000000</td>\n",
              "      <td>2.000000</td>\n",
              "      <td>20.125000</td>\n",
              "      <td>0.000000</td>\n",
              "      <td>0.000000</td>\n",
              "      <td>7.910400</td>\n",
              "      <td>0.000000</td>\n",
              "      <td>0.000000</td>\n",
              "      <td>0.000000</td>\n",
              "      <td>0.000000</td>\n",
              "      <td>0.000000</td>\n",
              "    </tr>\n",
              "    <tr>\n",
              "      <th>50%</th>\n",
              "      <td>0.000000</td>\n",
              "      <td>3.000000</td>\n",
              "      <td>28.000000</td>\n",
              "      <td>0.000000</td>\n",
              "      <td>0.000000</td>\n",
              "      <td>14.454200</td>\n",
              "      <td>1.000000</td>\n",
              "      <td>0.000000</td>\n",
              "      <td>1.000000</td>\n",
              "      <td>0.000000</td>\n",
              "      <td>1.000000</td>\n",
              "    </tr>\n",
              "    <tr>\n",
              "      <th>75%</th>\n",
              "      <td>1.000000</td>\n",
              "      <td>3.000000</td>\n",
              "      <td>38.000000</td>\n",
              "      <td>1.000000</td>\n",
              "      <td>0.000000</td>\n",
              "      <td>31.000000</td>\n",
              "      <td>1.000000</td>\n",
              "      <td>0.000000</td>\n",
              "      <td>1.000000</td>\n",
              "      <td>0.000000</td>\n",
              "      <td>1.000000</td>\n",
              "    </tr>\n",
              "    <tr>\n",
              "      <th>max</th>\n",
              "      <td>1.000000</td>\n",
              "      <td>3.000000</td>\n",
              "      <td>80.000000</td>\n",
              "      <td>8.000000</td>\n",
              "      <td>6.000000</td>\n",
              "      <td>512.329200</td>\n",
              "      <td>1.000000</td>\n",
              "      <td>1.000000</td>\n",
              "      <td>1.000000</td>\n",
              "      <td>1.000000</td>\n",
              "      <td>1.000000</td>\n",
              "    </tr>\n",
              "  </tbody>\n",
              "</table>\n",
              "</div>"
            ],
            "text/plain": [
              "         Survived      Pclass         Age       SibSp       Parch        Fare  \\\n",
              "count  891.000000  891.000000  714.000000  891.000000  891.000000  891.000000   \n",
              "mean     0.383838    2.308642   29.699118    0.523008    0.381594   32.204208   \n",
              "std      0.486592    0.836071   14.526497    1.102743    0.806057   49.693429   \n",
              "min      0.000000    1.000000    0.420000    0.000000    0.000000    0.000000   \n",
              "25%      0.000000    2.000000   20.125000    0.000000    0.000000    7.910400   \n",
              "50%      0.000000    3.000000   28.000000    0.000000    0.000000   14.454200   \n",
              "75%      1.000000    3.000000   38.000000    1.000000    0.000000   31.000000   \n",
              "max      1.000000    3.000000   80.000000    8.000000    6.000000  512.329200   \n",
              "\n",
              "             male      from_Q      from_S     class_2     class_3  \n",
              "count  891.000000  891.000000  891.000000  891.000000  891.000000  \n",
              "mean     0.647587    0.086420    0.722783    0.206510    0.551066  \n",
              "std      0.477990    0.281141    0.447876    0.405028    0.497665  \n",
              "min      0.000000    0.000000    0.000000    0.000000    0.000000  \n",
              "25%      0.000000    0.000000    0.000000    0.000000    0.000000  \n",
              "50%      1.000000    0.000000    1.000000    0.000000    1.000000  \n",
              "75%      1.000000    0.000000    1.000000    0.000000    1.000000  \n",
              "max      1.000000    1.000000    1.000000    1.000000    1.000000  "
            ]
          },
          "execution_count": 45,
          "metadata": {},
          "output_type": "execute_result"
        }
      ],
      "source": [
        "df.describe(include = 'number')"
      ]
    },
    {
      "cell_type": "code",
      "execution_count": null,
      "id": "8ddf1b5f",
      "metadata": {
        "id": "8ddf1b5f"
      },
      "outputs": [],
      "source": [
        "# df.describe(include = 'object')"
      ]
    },
    {
      "cell_type": "code",
      "execution_count": null,
      "id": "77f5e83f",
      "metadata": {
        "id": "77f5e83f",
        "outputId": "f64fafe9-545d-466f-c9c8-be21588728dd"
      },
      "outputs": [
        {
          "data": {
            "text/html": [
              "<div>\n",
              "<style scoped>\n",
              "    .dataframe tbody tr th:only-of-type {\n",
              "        vertical-align: middle;\n",
              "    }\n",
              "\n",
              "    .dataframe tbody tr th {\n",
              "        vertical-align: top;\n",
              "    }\n",
              "\n",
              "    .dataframe thead th {\n",
              "        text-align: right;\n",
              "    }\n",
              "</style>\n",
              "<table border=\"1\" class=\"dataframe\">\n",
              "  <thead>\n",
              "    <tr style=\"text-align: right;\">\n",
              "      <th></th>\n",
              "      <th>Survived</th>\n",
              "      <th>Pclass</th>\n",
              "      <th>Age</th>\n",
              "      <th>SibSp</th>\n",
              "      <th>Parch</th>\n",
              "      <th>Fare</th>\n",
              "      <th>male</th>\n",
              "      <th>from_Q</th>\n",
              "      <th>from_S</th>\n",
              "      <th>class_2</th>\n",
              "      <th>class_3</th>\n",
              "    </tr>\n",
              "  </thead>\n",
              "  <tbody>\n",
              "    <tr>\n",
              "      <th>count</th>\n",
              "      <td>891.000000</td>\n",
              "      <td>891.000000</td>\n",
              "      <td>714.000000</td>\n",
              "      <td>891.000000</td>\n",
              "      <td>891.000000</td>\n",
              "      <td>891.000000</td>\n",
              "      <td>891.000000</td>\n",
              "      <td>891.000000</td>\n",
              "      <td>891.000000</td>\n",
              "      <td>891.000000</td>\n",
              "      <td>891.000000</td>\n",
              "    </tr>\n",
              "    <tr>\n",
              "      <th>mean</th>\n",
              "      <td>0.383838</td>\n",
              "      <td>2.308642</td>\n",
              "      <td>29.699118</td>\n",
              "      <td>0.523008</td>\n",
              "      <td>0.381594</td>\n",
              "      <td>32.204208</td>\n",
              "      <td>0.647587</td>\n",
              "      <td>0.086420</td>\n",
              "      <td>0.722783</td>\n",
              "      <td>0.206510</td>\n",
              "      <td>0.551066</td>\n",
              "    </tr>\n",
              "    <tr>\n",
              "      <th>std</th>\n",
              "      <td>0.486592</td>\n",
              "      <td>0.836071</td>\n",
              "      <td>14.526497</td>\n",
              "      <td>1.102743</td>\n",
              "      <td>0.806057</td>\n",
              "      <td>49.693429</td>\n",
              "      <td>0.477990</td>\n",
              "      <td>0.281141</td>\n",
              "      <td>0.447876</td>\n",
              "      <td>0.405028</td>\n",
              "      <td>0.497665</td>\n",
              "    </tr>\n",
              "    <tr>\n",
              "      <th>min</th>\n",
              "      <td>0.000000</td>\n",
              "      <td>1.000000</td>\n",
              "      <td>0.420000</td>\n",
              "      <td>0.000000</td>\n",
              "      <td>0.000000</td>\n",
              "      <td>0.000000</td>\n",
              "      <td>0.000000</td>\n",
              "      <td>0.000000</td>\n",
              "      <td>0.000000</td>\n",
              "      <td>0.000000</td>\n",
              "      <td>0.000000</td>\n",
              "    </tr>\n",
              "    <tr>\n",
              "      <th>25%</th>\n",
              "      <td>0.000000</td>\n",
              "      <td>2.000000</td>\n",
              "      <td>20.125000</td>\n",
              "      <td>0.000000</td>\n",
              "      <td>0.000000</td>\n",
              "      <td>7.910400</td>\n",
              "      <td>0.000000</td>\n",
              "      <td>0.000000</td>\n",
              "      <td>0.000000</td>\n",
              "      <td>0.000000</td>\n",
              "      <td>0.000000</td>\n",
              "    </tr>\n",
              "    <tr>\n",
              "      <th>50%</th>\n",
              "      <td>0.000000</td>\n",
              "      <td>3.000000</td>\n",
              "      <td>28.000000</td>\n",
              "      <td>0.000000</td>\n",
              "      <td>0.000000</td>\n",
              "      <td>14.454200</td>\n",
              "      <td>1.000000</td>\n",
              "      <td>0.000000</td>\n",
              "      <td>1.000000</td>\n",
              "      <td>0.000000</td>\n",
              "      <td>1.000000</td>\n",
              "    </tr>\n",
              "    <tr>\n",
              "      <th>75%</th>\n",
              "      <td>1.000000</td>\n",
              "      <td>3.000000</td>\n",
              "      <td>38.000000</td>\n",
              "      <td>1.000000</td>\n",
              "      <td>0.000000</td>\n",
              "      <td>31.000000</td>\n",
              "      <td>1.000000</td>\n",
              "      <td>0.000000</td>\n",
              "      <td>1.000000</td>\n",
              "      <td>0.000000</td>\n",
              "      <td>1.000000</td>\n",
              "    </tr>\n",
              "    <tr>\n",
              "      <th>max</th>\n",
              "      <td>1.000000</td>\n",
              "      <td>3.000000</td>\n",
              "      <td>80.000000</td>\n",
              "      <td>8.000000</td>\n",
              "      <td>6.000000</td>\n",
              "      <td>512.329200</td>\n",
              "      <td>1.000000</td>\n",
              "      <td>1.000000</td>\n",
              "      <td>1.000000</td>\n",
              "      <td>1.000000</td>\n",
              "      <td>1.000000</td>\n",
              "    </tr>\n",
              "  </tbody>\n",
              "</table>\n",
              "</div>"
            ],
            "text/plain": [
              "         Survived      Pclass         Age       SibSp       Parch        Fare  \\\n",
              "count  891.000000  891.000000  714.000000  891.000000  891.000000  891.000000   \n",
              "mean     0.383838    2.308642   29.699118    0.523008    0.381594   32.204208   \n",
              "std      0.486592    0.836071   14.526497    1.102743    0.806057   49.693429   \n",
              "min      0.000000    1.000000    0.420000    0.000000    0.000000    0.000000   \n",
              "25%      0.000000    2.000000   20.125000    0.000000    0.000000    7.910400   \n",
              "50%      0.000000    3.000000   28.000000    0.000000    0.000000   14.454200   \n",
              "75%      1.000000    3.000000   38.000000    1.000000    0.000000   31.000000   \n",
              "max      1.000000    3.000000   80.000000    8.000000    6.000000  512.329200   \n",
              "\n",
              "             male      from_Q      from_S     class_2     class_3  \n",
              "count  891.000000  891.000000  891.000000  891.000000  891.000000  \n",
              "mean     0.647587    0.086420    0.722783    0.206510    0.551066  \n",
              "std      0.477990    0.281141    0.447876    0.405028    0.497665  \n",
              "min      0.000000    0.000000    0.000000    0.000000    0.000000  \n",
              "25%      0.000000    0.000000    0.000000    0.000000    0.000000  \n",
              "50%      1.000000    0.000000    1.000000    0.000000    1.000000  \n",
              "75%      1.000000    0.000000    1.000000    0.000000    1.000000  \n",
              "max      1.000000    1.000000    1.000000    1.000000    1.000000  "
            ]
          },
          "execution_count": 47,
          "metadata": {},
          "output_type": "execute_result"
        }
      ],
      "source": [
        "df.describe(include = 'all')"
      ]
    },
    {
      "cell_type": "code",
      "execution_count": null,
      "id": "91fce820",
      "metadata": {
        "id": "91fce820",
        "outputId": "6315b0c5-50de-4536-f9f2-042c3bf3764a"
      },
      "outputs": [
        {
          "data": {
            "text/html": [
              "<div>\n",
              "<style scoped>\n",
              "    .dataframe tbody tr th:only-of-type {\n",
              "        vertical-align: middle;\n",
              "    }\n",
              "\n",
              "    .dataframe tbody tr th {\n",
              "        vertical-align: top;\n",
              "    }\n",
              "\n",
              "    .dataframe thead th {\n",
              "        text-align: right;\n",
              "    }\n",
              "</style>\n",
              "<table border=\"1\" class=\"dataframe\">\n",
              "  <thead>\n",
              "    <tr style=\"text-align: right;\">\n",
              "      <th></th>\n",
              "      <th>Age</th>\n",
              "      <th>SibSp</th>\n",
              "      <th>Parch</th>\n",
              "      <th>Fare</th>\n",
              "      <th>male</th>\n",
              "    </tr>\n",
              "  </thead>\n",
              "  <tbody>\n",
              "    <tr>\n",
              "      <th>min</th>\n",
              "      <td>0.420</td>\n",
              "      <td>0.0</td>\n",
              "      <td>0.0</td>\n",
              "      <td>0.0000</td>\n",
              "      <td>0.0</td>\n",
              "    </tr>\n",
              "    <tr>\n",
              "      <th>25%</th>\n",
              "      <td>20.125</td>\n",
              "      <td>0.0</td>\n",
              "      <td>0.0</td>\n",
              "      <td>7.9104</td>\n",
              "      <td>0.0</td>\n",
              "    </tr>\n",
              "    <tr>\n",
              "      <th>50%</th>\n",
              "      <td>28.000</td>\n",
              "      <td>0.0</td>\n",
              "      <td>0.0</td>\n",
              "      <td>14.4542</td>\n",
              "      <td>1.0</td>\n",
              "    </tr>\n",
              "    <tr>\n",
              "      <th>75%</th>\n",
              "      <td>38.000</td>\n",
              "      <td>1.0</td>\n",
              "      <td>0.0</td>\n",
              "      <td>31.0000</td>\n",
              "      <td>1.0</td>\n",
              "    </tr>\n",
              "    <tr>\n",
              "      <th>max</th>\n",
              "      <td>80.000</td>\n",
              "      <td>8.0</td>\n",
              "      <td>6.0</td>\n",
              "      <td>512.3292</td>\n",
              "      <td>1.0</td>\n",
              "    </tr>\n",
              "  </tbody>\n",
              "</table>\n",
              "</div>"
            ],
            "text/plain": [
              "        Age  SibSp  Parch      Fare  male\n",
              "min   0.420    0.0    0.0    0.0000   0.0\n",
              "25%  20.125    0.0    0.0    7.9104   0.0\n",
              "50%  28.000    0.0    0.0   14.4542   1.0\n",
              "75%  38.000    1.0    0.0   31.0000   1.0\n",
              "max  80.000    8.0    6.0  512.3292   1.0"
            ]
          },
          "execution_count": 48,
          "metadata": {},
          "output_type": "execute_result"
        }
      ],
      "source": [
        "df.describe().loc['min' : 'max', 'Age':'male']"
      ]
    },
    {
      "cell_type": "markdown",
      "id": "86351f7b",
      "metadata": {
        "id": "86351f7b"
      },
      "source": [
        "## Corelation - `.corr()`\n",
        "\n",
        " Correlation is used to summarize the strength and direction of the linear association between two quantitative variables."
      ]
    },
    {
      "cell_type": "code",
      "execution_count": null,
      "id": "4b693205",
      "metadata": {
        "id": "4b693205",
        "outputId": "e482415b-d27d-4453-b171-74686f54f9df"
      },
      "outputs": [
        {
          "data": {
            "text/html": [
              "<div>\n",
              "<style scoped>\n",
              "    .dataframe tbody tr th:only-of-type {\n",
              "        vertical-align: middle;\n",
              "    }\n",
              "\n",
              "    .dataframe tbody tr th {\n",
              "        vertical-align: top;\n",
              "    }\n",
              "\n",
              "    .dataframe thead th {\n",
              "        text-align: right;\n",
              "    }\n",
              "</style>\n",
              "<table border=\"1\" class=\"dataframe\">\n",
              "  <thead>\n",
              "    <tr style=\"text-align: right;\">\n",
              "      <th></th>\n",
              "      <th>Survived</th>\n",
              "      <th>Pclass</th>\n",
              "      <th>Age</th>\n",
              "      <th>SibSp</th>\n",
              "      <th>Parch</th>\n",
              "      <th>Fare</th>\n",
              "      <th>male</th>\n",
              "      <th>from_Q</th>\n",
              "      <th>from_S</th>\n",
              "      <th>class_2</th>\n",
              "      <th>class_3</th>\n",
              "    </tr>\n",
              "  </thead>\n",
              "  <tbody>\n",
              "    <tr>\n",
              "      <th>Survived</th>\n",
              "      <td>1.000000</td>\n",
              "      <td>-0.338481</td>\n",
              "      <td>-0.077221</td>\n",
              "      <td>-0.035322</td>\n",
              "      <td>0.081629</td>\n",
              "      <td>0.257307</td>\n",
              "      <td>-0.543351</td>\n",
              "      <td>0.003650</td>\n",
              "      <td>-0.155660</td>\n",
              "      <td>0.093349</td>\n",
              "      <td>-0.322308</td>\n",
              "    </tr>\n",
              "    <tr>\n",
              "      <th>Pclass</th>\n",
              "      <td>-0.338481</td>\n",
              "      <td>1.000000</td>\n",
              "      <td>-0.369226</td>\n",
              "      <td>0.083081</td>\n",
              "      <td>0.018443</td>\n",
              "      <td>-0.549500</td>\n",
              "      <td>0.131900</td>\n",
              "      <td>0.221009</td>\n",
              "      <td>0.081720</td>\n",
              "      <td>-0.188432</td>\n",
              "      <td>0.916673</td>\n",
              "    </tr>\n",
              "    <tr>\n",
              "      <th>Age</th>\n",
              "      <td>-0.077221</td>\n",
              "      <td>-0.369226</td>\n",
              "      <td>1.000000</td>\n",
              "      <td>-0.308247</td>\n",
              "      <td>-0.189119</td>\n",
              "      <td>0.096067</td>\n",
              "      <td>0.093254</td>\n",
              "      <td>-0.022405</td>\n",
              "      <td>-0.032523</td>\n",
              "      <td>0.006954</td>\n",
              "      <td>-0.312271</td>\n",
              "    </tr>\n",
              "    <tr>\n",
              "      <th>SibSp</th>\n",
              "      <td>-0.035322</td>\n",
              "      <td>0.083081</td>\n",
              "      <td>-0.308247</td>\n",
              "      <td>1.000000</td>\n",
              "      <td>0.414838</td>\n",
              "      <td>0.159651</td>\n",
              "      <td>-0.114631</td>\n",
              "      <td>-0.026354</td>\n",
              "      <td>0.070941</td>\n",
              "      <td>-0.055932</td>\n",
              "      <td>0.092548</td>\n",
              "    </tr>\n",
              "    <tr>\n",
              "      <th>Parch</th>\n",
              "      <td>0.081629</td>\n",
              "      <td>0.018443</td>\n",
              "      <td>-0.189119</td>\n",
              "      <td>0.414838</td>\n",
              "      <td>1.000000</td>\n",
              "      <td>0.216225</td>\n",
              "      <td>-0.245489</td>\n",
              "      <td>-0.081228</td>\n",
              "      <td>0.063036</td>\n",
              "      <td>-0.000734</td>\n",
              "      <td>0.015790</td>\n",
              "    </tr>\n",
              "    <tr>\n",
              "      <th>Fare</th>\n",
              "      <td>0.257307</td>\n",
              "      <td>-0.549500</td>\n",
              "      <td>0.096067</td>\n",
              "      <td>0.159651</td>\n",
              "      <td>0.216225</td>\n",
              "      <td>1.000000</td>\n",
              "      <td>-0.182333</td>\n",
              "      <td>-0.117216</td>\n",
              "      <td>-0.166603</td>\n",
              "      <td>-0.118557</td>\n",
              "      <td>-0.413333</td>\n",
              "    </tr>\n",
              "    <tr>\n",
              "      <th>male</th>\n",
              "      <td>-0.543351</td>\n",
              "      <td>0.131900</td>\n",
              "      <td>0.093254</td>\n",
              "      <td>-0.114631</td>\n",
              "      <td>-0.245489</td>\n",
              "      <td>-0.182333</td>\n",
              "      <td>1.000000</td>\n",
              "      <td>-0.074115</td>\n",
              "      <td>0.125722</td>\n",
              "      <td>-0.064746</td>\n",
              "      <td>0.137143</td>\n",
              "    </tr>\n",
              "    <tr>\n",
              "      <th>from_Q</th>\n",
              "      <td>0.003650</td>\n",
              "      <td>0.221009</td>\n",
              "      <td>-0.022405</td>\n",
              "      <td>-0.026354</td>\n",
              "      <td>-0.081228</td>\n",
              "      <td>-0.117216</td>\n",
              "      <td>-0.074115</td>\n",
              "      <td>1.000000</td>\n",
              "      <td>-0.496624</td>\n",
              "      <td>-0.127301</td>\n",
              "      <td>0.237449</td>\n",
              "    </tr>\n",
              "    <tr>\n",
              "      <th>from_S</th>\n",
              "      <td>-0.155660</td>\n",
              "      <td>0.081720</td>\n",
              "      <td>-0.032523</td>\n",
              "      <td>0.070941</td>\n",
              "      <td>0.063036</td>\n",
              "      <td>-0.166603</td>\n",
              "      <td>0.125722</td>\n",
              "      <td>-0.496624</td>\n",
              "      <td>1.000000</td>\n",
              "      <td>0.192061</td>\n",
              "      <td>-0.009511</td>\n",
              "    </tr>\n",
              "    <tr>\n",
              "      <th>class_2</th>\n",
              "      <td>0.093349</td>\n",
              "      <td>-0.188432</td>\n",
              "      <td>0.006954</td>\n",
              "      <td>-0.055932</td>\n",
              "      <td>-0.000734</td>\n",
              "      <td>-0.118557</td>\n",
              "      <td>-0.064746</td>\n",
              "      <td>-0.127301</td>\n",
              "      <td>0.192061</td>\n",
              "      <td>1.000000</td>\n",
              "      <td>-0.565210</td>\n",
              "    </tr>\n",
              "    <tr>\n",
              "      <th>class_3</th>\n",
              "      <td>-0.322308</td>\n",
              "      <td>0.916673</td>\n",
              "      <td>-0.312271</td>\n",
              "      <td>0.092548</td>\n",
              "      <td>0.015790</td>\n",
              "      <td>-0.413333</td>\n",
              "      <td>0.137143</td>\n",
              "      <td>0.237449</td>\n",
              "      <td>-0.009511</td>\n",
              "      <td>-0.565210</td>\n",
              "      <td>1.000000</td>\n",
              "    </tr>\n",
              "  </tbody>\n",
              "</table>\n",
              "</div>"
            ],
            "text/plain": [
              "          Survived    Pclass       Age     SibSp     Parch      Fare  \\\n",
              "Survived  1.000000 -0.338481 -0.077221 -0.035322  0.081629  0.257307   \n",
              "Pclass   -0.338481  1.000000 -0.369226  0.083081  0.018443 -0.549500   \n",
              "Age      -0.077221 -0.369226  1.000000 -0.308247 -0.189119  0.096067   \n",
              "SibSp    -0.035322  0.083081 -0.308247  1.000000  0.414838  0.159651   \n",
              "Parch     0.081629  0.018443 -0.189119  0.414838  1.000000  0.216225   \n",
              "Fare      0.257307 -0.549500  0.096067  0.159651  0.216225  1.000000   \n",
              "male     -0.543351  0.131900  0.093254 -0.114631 -0.245489 -0.182333   \n",
              "from_Q    0.003650  0.221009 -0.022405 -0.026354 -0.081228 -0.117216   \n",
              "from_S   -0.155660  0.081720 -0.032523  0.070941  0.063036 -0.166603   \n",
              "class_2   0.093349 -0.188432  0.006954 -0.055932 -0.000734 -0.118557   \n",
              "class_3  -0.322308  0.916673 -0.312271  0.092548  0.015790 -0.413333   \n",
              "\n",
              "              male    from_Q    from_S   class_2   class_3  \n",
              "Survived -0.543351  0.003650 -0.155660  0.093349 -0.322308  \n",
              "Pclass    0.131900  0.221009  0.081720 -0.188432  0.916673  \n",
              "Age       0.093254 -0.022405 -0.032523  0.006954 -0.312271  \n",
              "SibSp    -0.114631 -0.026354  0.070941 -0.055932  0.092548  \n",
              "Parch    -0.245489 -0.081228  0.063036 -0.000734  0.015790  \n",
              "Fare     -0.182333 -0.117216 -0.166603 -0.118557 -0.413333  \n",
              "male      1.000000 -0.074115  0.125722 -0.064746  0.137143  \n",
              "from_Q   -0.074115  1.000000 -0.496624 -0.127301  0.237449  \n",
              "from_S    0.125722 -0.496624  1.000000  0.192061 -0.009511  \n",
              "class_2  -0.064746 -0.127301  0.192061  1.000000 -0.565210  \n",
              "class_3   0.137143  0.237449 -0.009511 -0.565210  1.000000  "
            ]
          },
          "execution_count": 49,
          "metadata": {},
          "output_type": "execute_result"
        }
      ],
      "source": [
        "df.corr()"
      ]
    },
    {
      "cell_type": "markdown",
      "id": "d15c125f",
      "metadata": {
        "id": "d15c125f"
      },
      "source": [
        "# Fitting Models"
      ]
    },
    {
      "cell_type": "code",
      "execution_count": null,
      "id": "cb20ee88",
      "metadata": {
        "id": "cb20ee88"
      },
      "outputs": [],
      "source": [
        "from sklearn.model_selection import train_test_split"
      ]
    },
    {
      "cell_type": "markdown",
      "id": "aacbdb89",
      "metadata": {
        "id": "aacbdb89"
      },
      "source": [
        "**First verify that null values are absent**"
      ]
    },
    {
      "cell_type": "code",
      "execution_count": null,
      "id": "33e5f2d6",
      "metadata": {
        "id": "33e5f2d6",
        "outputId": "c654e9ba-e8c4-4039-f802-3ba6de9c8d8e"
      },
      "outputs": [
        {
          "data": {
            "text/plain": [
              "Survived      0\n",
              "Pclass        0\n",
              "Age         177\n",
              "SibSp         0\n",
              "Parch         0\n",
              "Fare          0\n",
              "male          0\n",
              "from_Q        0\n",
              "from_S        0\n",
              "class_2       0\n",
              "class_3       0\n",
              "dtype: int64"
            ]
          },
          "execution_count": 51,
          "metadata": {},
          "output_type": "execute_result"
        }
      ],
      "source": [
        "df.isnull().sum()"
      ]
    },
    {
      "cell_type": "code",
      "execution_count": null,
      "id": "0a1f833a",
      "metadata": {
        "id": "0a1f833a"
      },
      "outputs": [],
      "source": [
        "df = df.dropna(subset = \"Age\")"
      ]
    },
    {
      "cell_type": "code",
      "execution_count": null,
      "id": "7fee097f",
      "metadata": {
        "scrolled": true,
        "id": "7fee097f",
        "outputId": "b25371bd-5bd6-4a75-e5b6-8b95d23cab80"
      },
      "outputs": [
        {
          "data": {
            "text/plain": [
              "Survived    0\n",
              "Pclass      0\n",
              "Age         0\n",
              "SibSp       0\n",
              "Parch       0\n",
              "Fare        0\n",
              "male        0\n",
              "from_Q      0\n",
              "from_S      0\n",
              "class_2     0\n",
              "class_3     0\n",
              "dtype: int64"
            ]
          },
          "execution_count": 53,
          "metadata": {},
          "output_type": "execute_result"
        }
      ],
      "source": [
        "df.isnull().sum()"
      ]
    },
    {
      "cell_type": "markdown",
      "id": "d15690ff",
      "metadata": {
        "id": "d15690ff"
      },
      "source": [
        "**Now subset the target variable and independent variables.**"
      ]
    },
    {
      "cell_type": "code",
      "execution_count": null,
      "id": "21a54107",
      "metadata": {
        "id": "21a54107"
      },
      "outputs": [],
      "source": [
        "y = df['Survived']\n",
        "X = df.drop('Survived', axis = 1)\n",
        "\n",
        "X_train, X_test, y_train, y_test = train_test_split(X, y, test_size = 0.3, random_state = 1)"
      ]
    },
    {
      "cell_type": "markdown",
      "id": "9b891a2a",
      "metadata": {
        "id": "9b891a2a"
      },
      "source": [
        "### Logistic Regression"
      ]
    },
    {
      "cell_type": "code",
      "execution_count": null,
      "id": "24bb035a",
      "metadata": {
        "id": "24bb035a"
      },
      "outputs": [],
      "source": [
        "from sklearn.linear_model import LogisticRegression"
      ]
    },
    {
      "cell_type": "code",
      "execution_count": null,
      "id": "8000c692",
      "metadata": {
        "id": "8000c692"
      },
      "outputs": [],
      "source": [
        "logreg = LogisticRegression()"
      ]
    },
    {
      "cell_type": "code",
      "execution_count": null,
      "id": "478c8fee",
      "metadata": {
        "scrolled": true,
        "id": "478c8fee",
        "outputId": "cfa94406-23b8-4c95-95c7-db1004846c03"
      },
      "outputs": [
        {
          "name": "stderr",
          "output_type": "stream",
          "text": [
            "C:\\Users\\banirudh\\Anaconda3\\lib\\site-packages\\sklearn\\linear_model\\_logistic.py:814: ConvergenceWarning: lbfgs failed to converge (status=1):\n",
            "STOP: TOTAL NO. of ITERATIONS REACHED LIMIT.\n",
            "\n",
            "Increase the number of iterations (max_iter) or scale the data as shown in:\n",
            "    https://scikit-learn.org/stable/modules/preprocessing.html\n",
            "Please also refer to the documentation for alternative solver options:\n",
            "    https://scikit-learn.org/stable/modules/linear_model.html#logistic-regression\n",
            "  n_iter_i = _check_optimize_result(\n"
          ]
        }
      ],
      "source": [
        "logreg = logreg.fit(X_train, y_train)"
      ]
    },
    {
      "cell_type": "code",
      "execution_count": null,
      "id": "b472ad03",
      "metadata": {
        "id": "b472ad03",
        "outputId": "65da9726-d010-4c05-d5ee-05ffdc80857d"
      },
      "outputs": [
        {
          "name": "stdout",
          "output_type": "stream",
          "text": [
            "     Pclass   Age  SibSp  Parch      Fare  male  from_Q  from_S  class_2  \\\n",
            "641       1  24.0      0      0   69.3000     0       0       0        0   \n",
            "433       3  17.0      0      0    7.1250     1       0       1        0   \n",
            "202       3  34.0      0      0    6.4958     1       0       1        0   \n",
            "585       1  18.0      0      2   79.6500     0       0       1        0   \n",
            "544       1  50.0      1      0  106.4250     1       0       0        0   \n",
            "..      ...   ...    ...    ...       ...   ...     ...     ...      ...   \n",
            "179       3  36.0      0      0    0.0000     1       0       1        0   \n",
            "808       2  39.0      0      0   13.0000     1       0       1        1   \n",
            "93        3  26.0      1      2   20.5750     1       0       1        0   \n",
            "291       1  19.0      1      0   91.0792     0       0       0        0   \n",
            "51        3  21.0      0      0    7.8000     1       0       1        0   \n",
            "\n",
            "     class_3  \n",
            "641        0  \n",
            "433        1  \n",
            "202        1  \n",
            "585        0  \n",
            "544        0  \n",
            "..       ...  \n",
            "179        1  \n",
            "808        0  \n",
            "93         1  \n",
            "291        0  \n",
            "51         1  \n",
            "\n",
            "[499 rows x 10 columns]\n"
          ]
        }
      ],
      "source": [
        "print(X_train)"
      ]
    },
    {
      "cell_type": "code",
      "execution_count": null,
      "id": "2fa23015",
      "metadata": {
        "scrolled": true,
        "id": "2fa23015",
        "outputId": "1a93fd55-5e5a-40e0-f688-ce5229a1afad"
      },
      "outputs": [
        {
          "name": "stdout",
          "output_type": "stream",
          "text": [
            "     Pclass   Age  SibSp  Parch      Fare  male  from_Q  from_S  class_2  \\\n",
            "689       1  15.0      0      1  211.3375     0       0       1        0   \n",
            "278       3   7.0      4      1   29.1250     1       1       0        0   \n",
            "506       2  33.0      0      2   26.0000     0       0       1        1   \n",
            "9         2  14.0      1      0   30.0708     0       0       0        1   \n",
            "494       3  21.0      0      0    8.0500     1       0       1        0   \n",
            "..      ...   ...    ...    ...       ...   ...     ...     ...      ...   \n",
            "333       3  16.0      2      0   18.0000     1       0       1        0   \n",
            "383       1  35.0      1      0   52.0000     0       0       1        0   \n",
            "396       3  31.0      0      0    7.8542     0       0       1        0   \n",
            "279       3  35.0      1      1   20.2500     0       0       1        0   \n",
            "700       1  18.0      1      0  227.5250     0       0       0        0   \n",
            "\n",
            "     class_3  \n",
            "689        0  \n",
            "278        1  \n",
            "506        0  \n",
            "9          0  \n",
            "494        1  \n",
            "..       ...  \n",
            "333        1  \n",
            "383        0  \n",
            "396        1  \n",
            "279        1  \n",
            "700        0  \n",
            "\n",
            "[215 rows x 10 columns]\n"
          ]
        }
      ],
      "source": [
        "print(X_test)"
      ]
    },
    {
      "cell_type": "code",
      "execution_count": null,
      "id": "e3276a54",
      "metadata": {
        "id": "e3276a54",
        "outputId": "0113e1b1-fa84-4178-b52e-ddbff18ee10c"
      },
      "outputs": [
        {
          "name": "stdout",
          "output_type": "stream",
          "text": [
            "641    1\n",
            "433    0\n",
            "202    0\n",
            "585    1\n",
            "544    0\n",
            "      ..\n",
            "179    0\n",
            "808    0\n",
            "93     0\n",
            "291    1\n",
            "51     0\n",
            "Name: Survived, Length: 499, dtype: int64\n"
          ]
        }
      ],
      "source": [
        "print(y_train)"
      ]
    },
    {
      "cell_type": "code",
      "execution_count": null,
      "id": "81ed385a",
      "metadata": {
        "id": "81ed385a",
        "outputId": "1b6ca72b-5414-4ea1-a7a4-618dd49ad11d"
      },
      "outputs": [
        {
          "name": "stdout",
          "output_type": "stream",
          "text": [
            "689    1\n",
            "278    0\n",
            "506    1\n",
            "9      1\n",
            "494    0\n",
            "      ..\n",
            "333    0\n",
            "383    1\n",
            "396    0\n",
            "279    1\n",
            "700    1\n",
            "Name: Survived, Length: 215, dtype: int64\n"
          ]
        }
      ],
      "source": [
        "print(y_test)"
      ]
    },
    {
      "cell_type": "code",
      "execution_count": null,
      "id": "2b8b4ab5",
      "metadata": {
        "id": "2b8b4ab5",
        "outputId": "02d9f334-4d98-4ca4-99f0-53bcaa59ddd4"
      },
      "outputs": [
        {
          "data": {
            "text/plain": [
              "array([1, 0, 1, 1, 0, 0, 1, 0, 0, 0, 0, 0, 0, 0, 0, 0, 0, 0, 0, 0, 0, 0,\n",
              "       0, 0, 0, 0, 0, 1, 1, 0, 1, 0, 0, 0, 1, 0, 0, 1, 0, 0, 1, 0, 0, 0,\n",
              "       1, 0, 0, 0, 1, 0, 1, 0, 0, 0, 0, 1, 1, 1, 0, 1, 0, 0, 0, 0, 0, 0,\n",
              "       0, 0, 0, 0, 0, 0, 0, 1, 1, 0, 1, 0, 0, 1, 1, 1, 0, 1, 1, 0, 0, 0,\n",
              "       0, 1, 1, 0, 0, 0, 1, 0, 0, 1, 0, 0, 0, 0, 0, 0, 1, 1, 0, 1, 1, 0,\n",
              "       1, 1, 0, 1, 1, 0, 0, 0, 1, 1, 0, 1, 0, 0, 0, 0, 1, 0, 1, 0, 0, 0,\n",
              "       0, 1, 1, 0, 1, 0, 1, 1, 0, 1, 0, 1, 0, 0, 0, 0, 0, 0, 0, 0, 0, 0,\n",
              "       0, 0, 0, 0, 0, 0, 0, 0, 1, 0, 0, 1, 1, 1, 1, 1, 0, 0, 1, 0, 1, 0,\n",
              "       1, 1, 1, 1, 1, 0, 1, 1, 0, 0, 0, 1, 0, 0, 0, 0, 1, 1, 0, 1, 0, 0,\n",
              "       0, 0, 1, 0, 0, 0, 0, 1, 1, 1, 0, 1, 0, 1, 1, 1, 1], dtype=int64)"
            ]
          },
          "execution_count": 62,
          "metadata": {},
          "output_type": "execute_result"
        }
      ],
      "source": [
        "y_pred = logreg.predict(X_test)\n",
        "y_pred"
      ]
    },
    {
      "cell_type": "code",
      "execution_count": null,
      "id": "b14ce1cb",
      "metadata": {
        "id": "b14ce1cb"
      },
      "outputs": [],
      "source": [
        "from sklearn.metrics import confusion_matrix, accuracy_score\n",
        "conf_mat = confusion_matrix(y_test, y_pred)"
      ]
    },
    {
      "cell_type": "code",
      "execution_count": null,
      "id": "f50bfc5d",
      "metadata": {
        "id": "f50bfc5d",
        "outputId": "10745f33-a3c0-4808-8b2a-8d0cede10233"
      },
      "outputs": [
        {
          "data": {
            "text/plain": [
              "array([[112,  22],\n",
              "       [ 26,  55]], dtype=int64)"
            ]
          },
          "execution_count": 64,
          "metadata": {},
          "output_type": "execute_result"
        }
      ],
      "source": [
        "conf_mat"
      ]
    },
    {
      "cell_type": "code",
      "execution_count": null,
      "id": "2ed06c61",
      "metadata": {
        "id": "2ed06c61"
      },
      "outputs": [],
      "source": [
        "accuracy = accuracy_score(y_test, y_pred)"
      ]
    },
    {
      "cell_type": "code",
      "execution_count": null,
      "id": "5e170c63",
      "metadata": {
        "id": "5e170c63",
        "outputId": "d657e616-501c-45c4-f5ad-2587a1c512ce"
      },
      "outputs": [
        {
          "data": {
            "text/plain": [
              "0.7767441860465116"
            ]
          },
          "execution_count": 66,
          "metadata": {},
          "output_type": "execute_result"
        }
      ],
      "source": [
        "accuracy"
      ]
    },
    {
      "cell_type": "markdown",
      "id": "0bfe23bd",
      "metadata": {
        "id": "0bfe23bd"
      },
      "source": [
        "## Plot AUC-ROC curve"
      ]
    },
    {
      "cell_type": "code",
      "execution_count": null,
      "id": "fe8eafb5",
      "metadata": {
        "id": "fe8eafb5"
      },
      "outputs": [],
      "source": [
        "from sklearn.metrics import roc_curve"
      ]
    },
    {
      "cell_type": "code",
      "execution_count": null,
      "id": "8a3ca31d",
      "metadata": {
        "id": "8a3ca31d",
        "outputId": "c4cc2109-c0b2-411f-ae73-e614a7644581"
      },
      "outputs": [
        {
          "data": {
            "text/plain": [
              "array([0.9733977 , 0.04266095, 0.78693993, 0.85325005, 0.15348724,\n",
              "       0.1927328 , 0.84152705, 0.30559528, 0.20929427, 0.3071754 ,\n",
              "       0.29396142, 0.14958419, 0.06959738, 0.14476873, 0.1075827 ,\n",
              "       0.20066892, 0.10255251, 0.14875791, 0.11387267, 0.06922456,\n",
              "       0.16257273, 0.04357725, 0.05786409, 0.27720925, 0.12104031,\n",
              "       0.13353967, 0.06681955, 0.56941267, 0.59930054, 0.31454203,\n",
              "       0.9163615 , 0.26364205, 0.48392978, 0.10707035, 0.94006123,\n",
              "       0.15926767, 0.08616655, 0.94902818, 0.46666746, 0.05141479,\n",
              "       0.61849659, 0.12559678, 0.16824847, 0.12846198, 0.92305885,\n",
              "       0.11759512, 0.07154137, 0.28493488, 0.78693903, 0.39714948,\n",
              "       0.54012394, 0.36927697, 0.11048656, 0.07596747, 0.12523846,\n",
              "       0.58613133, 0.93047253, 0.94479332, 0.4171584 , 0.64148867,\n",
              "       0.13245206, 0.09749857, 0.11058181, 0.13608887, 0.12523846,\n",
              "       0.47585198, 0.40882186, 0.12613297, 0.47860231, 0.06474325,\n",
              "       0.23916872, 0.14901161, 0.114313  , 0.88317638, 0.65544625,\n",
              "       0.49411696, 0.60755078, 0.07841689, 0.05750487, 0.85427285,\n",
              "       0.54900131, 0.70797081, 0.30293609, 0.95020354, 0.95379368,\n",
              "       0.11777701, 0.38965422, 0.13239418, 0.20557559, 0.69274778,\n",
              "       0.74492555, 0.13363186, 0.41961246, 0.43029783, 0.79296366,\n",
              "       0.33275951, 0.07336157, 0.63927794, 0.1116512 , 0.23158531,\n",
              "       0.09173856, 0.40988779, 0.11841548, 0.39355372, 0.93409103,\n",
              "       0.73478982, 0.08892051, 0.84459645, 0.53387677, 0.13677755,\n",
              "       0.80167612, 0.55018715, 0.22622092, 0.66457382, 0.82281629,\n",
              "       0.46220752, 0.2268789 , 0.16268355, 0.94656667, 0.82152259,\n",
              "       0.14944621, 0.90846394, 0.10710616, 0.1534369 , 0.39114056,\n",
              "       0.26508806, 0.94567168, 0.15875082, 0.90633055, 0.19289858,\n",
              "       0.12666802, 0.14371611, 0.14055679, 0.78777287, 0.54703977,\n",
              "       0.28139092, 0.65415282, 0.1916294 , 0.89599222, 0.50570546,\n",
              "       0.30552845, 0.94437748, 0.13608887, 0.6672006 , 0.09118   ,\n",
              "       0.21412474, 0.12469464, 0.4798252 , 0.13639745, 0.02844438,\n",
              "       0.30726533, 0.24024643, 0.16257273, 0.1039061 , 0.43183402,\n",
              "       0.3109937 , 0.15792799, 0.14371771, 0.25018873, 0.06798193,\n",
              "       0.0919368 , 0.15800873, 0.6340348 , 0.13239713, 0.40780548,\n",
              "       0.78743787, 0.78942531, 0.67920111, 0.95401548, 0.52956303,\n",
              "       0.2441077 , 0.14889191, 0.8165891 , 0.4652341 , 0.65483925,\n",
              "       0.06324886, 0.55593555, 0.93966538, 0.50917853, 0.54793933,\n",
              "       0.67620583, 0.29199253, 0.83621747, 0.9479097 , 0.25708318,\n",
              "       0.37419044, 0.05871415, 0.92187251, 0.15849396, 0.23916872,\n",
              "       0.07676286, 0.12151937, 0.69532509, 0.81256579, 0.20900403,\n",
              "       0.82630358, 0.14209009, 0.47515803, 0.16257273, 0.11087723,\n",
              "       0.74156289, 0.36686592, 0.2739158 , 0.11565884, 0.1534369 ,\n",
              "       0.70708379, 0.52825819, 0.59252436, 0.08321586, 0.68056233,\n",
              "       0.1147342 , 0.90001984, 0.60693776, 0.50434841, 0.9639417 ])"
            ]
          },
          "execution_count": 68,
          "metadata": {},
          "output_type": "execute_result"
        }
      ],
      "source": [
        "y_pred_prob = logreg.predict_proba(X_test)[:, 1]\n",
        "y_pred_prob"
      ]
    },
    {
      "cell_type": "code",
      "execution_count": null,
      "id": "d409c151",
      "metadata": {
        "id": "d409c151",
        "outputId": "0bf238b5-e662-493a-f4fd-104c8b9b4395"
      },
      "outputs": [
        {
          "data": {
            "image/png": "[encoded data removed]",
            "text/plain": [
              "<Figure size 432x288 with 1 Axes>"
            ]
          },
          "metadata": {
            "needs_background": "light"
          },
          "output_type": "display_data"
        }
      ],
      "source": [
        "fpr, tpr, thresholds = roc_curve(y_test, y_pred_prob)\n",
        "\n",
        "plt.plot([0,1], [0,1], 'k--')\n",
        "plt.plot(fpr, tpr, label = \"Logistic Regression\")\n",
        "plt.xlabel(\"False Positive Rate\")\n",
        "plt.ylabel(\"True Positive Rate\")\n",
        "plt.title(\"ROC Curve\")\n",
        "plt.show()"
      ]
    },
    {
      "cell_type": "markdown",
      "id": "81a78645",
      "metadata": {
        "id": "81a78645"
      },
      "source": [
        "# Decision Tree"
      ]
    },
    {
      "cell_type": "code",
      "execution_count": null,
      "id": "1211fc3d",
      "metadata": {
        "id": "1211fc3d"
      },
      "outputs": [],
      "source": [
        "from sklearn import tree\n",
        "model = tree.DecisionTreeClassifier()"
      ]
    },
    {
      "cell_type": "code",
      "execution_count": null,
      "id": "b08f2e8e",
      "metadata": {
        "id": "b08f2e8e",
        "outputId": "110a8b07-0559-4c53-b8fd-a96326a14da1"
      },
      "outputs": [
        {
          "data": {
            "text/plain": [
              "DecisionTreeClassifier()"
            ]
          },
          "execution_count": 71,
          "metadata": {},
          "output_type": "execute_result"
        }
      ],
      "source": [
        "model"
      ]
    },
    {
      "cell_type": "code",
      "execution_count": null,
      "id": "2e2a8c53",
      "metadata": {
        "id": "2e2a8c53",
        "outputId": "76922baf-9cfe-4f0d-d64e-62caaf7fe140"
      },
      "outputs": [
        {
          "data": {
            "text/plain": [
              "DecisionTreeClassifier()"
            ]
          },
          "execution_count": 72,
          "metadata": {},
          "output_type": "execute_result"
        }
      ],
      "source": [
        "model.fit(X_train, y_train)"
      ]
    },
    {
      "cell_type": "code",
      "execution_count": null,
      "id": "2c857b1e",
      "metadata": {
        "id": "2c857b1e",
        "outputId": "0c50df89-35ef-4570-b241-c791e6a81709"
      },
      "outputs": [
        {
          "data": {
            "text/plain": [
              "array([1, 0, 1, 1, 0, 1, 1, 0, 0, 0, 0, 0, 0, 0, 1, 1, 0, 0, 0, 0, 0, 0,\n",
              "       0, 0, 0, 0, 0, 0, 1, 0, 1, 0, 1, 0, 1, 0, 0, 1, 1, 0, 0, 0, 0, 0,\n",
              "       1, 0, 0, 0, 1, 1, 0, 0, 0, 0, 1, 0, 1, 1, 1, 0, 0, 0, 0, 0, 1, 1,\n",
              "       1, 1, 1, 1, 1, 0, 0, 1, 1, 1, 0, 0, 1, 1, 1, 1, 0, 1, 1, 0, 0, 0,\n",
              "       0, 1, 1, 0, 1, 0, 1, 0, 0, 1, 0, 0, 0, 0, 0, 0, 1, 1, 1, 1, 1, 0,\n",
              "       1, 0, 0, 1, 1, 1, 1, 0, 1, 1, 0, 1, 0, 0, 0, 0, 1, 0, 1, 1, 0, 0,\n",
              "       0, 1, 1, 0, 0, 0, 1, 0, 0, 1, 0, 0, 0, 0, 0, 0, 0, 0, 1, 0, 0, 0,\n",
              "       0, 0, 0, 0, 0, 0, 0, 0, 0, 0, 0, 0, 1, 0, 1, 1, 0, 0, 1, 0, 1, 0,\n",
              "       0, 1, 1, 0, 1, 0, 1, 1, 0, 1, 0, 1, 0, 1, 1, 1, 1, 1, 0, 1, 1, 1,\n",
              "       0, 0, 1, 0, 0, 0, 0, 1, 1, 1, 0, 1, 0, 1, 0, 0, 1], dtype=int64)"
            ]
          },
          "execution_count": 73,
          "metadata": {},
          "output_type": "execute_result"
        }
      ],
      "source": [
        "y_predict = model.predict(X_test)\n",
        "y_predict"
      ]
    },
    {
      "cell_type": "code",
      "execution_count": null,
      "id": "527024e8",
      "metadata": {
        "id": "527024e8"
      },
      "outputs": [],
      "source": [
        "from sklearn.metrics import accuracy_score"
      ]
    },
    {
      "cell_type": "code",
      "execution_count": null,
      "id": "d03e3988",
      "metadata": {
        "id": "d03e3988",
        "outputId": "b332fe78-fcf1-49e8-ef51-037b29ad2178"
      },
      "outputs": [
        {
          "data": {
            "text/plain": [
              "0.7767441860465116"
            ]
          },
          "execution_count": 75,
          "metadata": {},
          "output_type": "execute_result"
        }
      ],
      "source": [
        "accuracy_score(y_test, y_predict)"
      ]
    },
    {
      "cell_type": "code",
      "execution_count": null,
      "id": "3a8bbcb7",
      "metadata": {
        "id": "3a8bbcb7",
        "outputId": "d0f73fc1-ec67-4060-d55a-b532a9ce99ff"
      },
      "outputs": [
        {
          "data": {
            "text/plain": [
              "[Text(0.39683176877470355, 0.9722222222222222, 'X[5] <= 0.5\\ngini = 0.487\\nsamples = 499\\nvalue = [290, 209]'),\n",
              " Text(0.20454545454545456, 0.9166666666666666, 'X[0] <= 2.5\\ngini = 0.352\\nsamples = 184\\nvalue = [42, 142]'),\n",
              " Text(0.09288537549407115, 0.8611111111111112, 'X[1] <= 2.5\\ngini = 0.114\\nsamples = 115\\nvalue = [7, 108]'),\n",
              " Text(0.07707509881422925, 0.8055555555555556, 'X[3] <= 1.5\\ngini = 0.5\\nsamples = 2\\nvalue = [1, 1]'),\n",
              " Text(0.0691699604743083, 0.75, 'gini = 0.0\\nsamples = 1\\nvalue = [0, 1]'),\n",
              " Text(0.08498023715415019, 0.75, 'gini = 0.0\\nsamples = 1\\nvalue = [1, 0]'),\n",
              " Text(0.10869565217391304, 0.8055555555555556, 'X[4] <= 28.856\\ngini = 0.101\\nsamples = 113\\nvalue = [6, 107]'),\n",
              " Text(0.1007905138339921, 0.75, 'X[4] <= 28.231\\ngini = 0.208\\nsamples = 51\\nvalue = [6, 45]'),\n",
              " Text(0.09288537549407115, 0.6944444444444444, 'X[1] <= 56.0\\ngini = 0.18\\nsamples = 50\\nvalue = [5, 45]'),\n",
              " Text(0.06719367588932806, 0.6388888888888888, 'X[1] <= 27.5\\ngini = 0.153\\nsamples = 48\\nvalue = [4, 44]'),\n",
              " Text(0.039525691699604744, 0.5833333333333334, 'X[1] <= 25.0\\ngini = 0.255\\nsamples = 20\\nvalue = [3, 17]'),\n",
              " Text(0.023715415019762844, 0.5277777777777778, 'X[4] <= 13.75\\ngini = 0.117\\nsamples = 16\\nvalue = [1, 15]'),\n",
              " Text(0.015810276679841896, 0.4722222222222222, 'X[1] <= 21.0\\ngini = 0.32\\nsamples = 5\\nvalue = [1, 4]'),\n",
              " Text(0.007905138339920948, 0.4166666666666667, 'gini = 0.0\\nsamples = 3\\nvalue = [0, 3]'),\n",
              " Text(0.023715415019762844, 0.4166666666666667, 'gini = 0.5\\nsamples = 2\\nvalue = [1, 1]'),\n",
              " Text(0.03162055335968379, 0.4722222222222222, 'gini = 0.0\\nsamples = 11\\nvalue = [0, 11]'),\n",
              " Text(0.05533596837944664, 0.5277777777777778, 'X[4] <= 17.429\\ngini = 0.5\\nsamples = 4\\nvalue = [2, 2]'),\n",
              " Text(0.04743083003952569, 0.4722222222222222, 'gini = 0.0\\nsamples = 2\\nvalue = [0, 2]'),\n",
              " Text(0.06324110671936758, 0.4722222222222222, 'gini = 0.0\\nsamples = 2\\nvalue = [2, 0]'),\n",
              " Text(0.09486166007905138, 0.5833333333333334, 'X[4] <= 13.25\\ngini = 0.069\\nsamples = 28\\nvalue = [1, 27]'),\n",
              " Text(0.08695652173913043, 0.5277777777777778, 'X[1] <= 37.0\\ngini = 0.165\\nsamples = 11\\nvalue = [1, 10]'),\n",
              " Text(0.07905138339920949, 0.4722222222222222, 'gini = 0.0\\nsamples = 7\\nvalue = [0, 7]'),\n",
              " Text(0.09486166007905138, 0.4722222222222222, 'X[1] <= 39.0\\ngini = 0.375\\nsamples = 4\\nvalue = [1, 3]'),\n",
              " Text(0.08695652173913043, 0.4166666666666667, 'gini = 0.0\\nsamples = 1\\nvalue = [1, 0]'),\n",
              " Text(0.10276679841897234, 0.4166666666666667, 'gini = 0.0\\nsamples = 3\\nvalue = [0, 3]'),\n",
              " Text(0.10276679841897234, 0.5277777777777778, 'gini = 0.0\\nsamples = 17\\nvalue = [0, 17]'),\n",
              " Text(0.11857707509881422, 0.6388888888888888, 'X[0] <= 1.5\\ngini = 0.5\\nsamples = 2\\nvalue = [1, 1]'),\n",
              " Text(0.11067193675889328, 0.5833333333333334, 'gini = 0.0\\nsamples = 1\\nvalue = [0, 1]'),\n",
              " Text(0.12648221343873517, 0.5833333333333334, 'gini = 0.0\\nsamples = 1\\nvalue = [1, 0]'),\n",
              " Text(0.10869565217391304, 0.6944444444444444, 'gini = 0.0\\nsamples = 1\\nvalue = [1, 0]'),\n",
              " Text(0.116600790513834, 0.75, 'gini = 0.0\\nsamples = 62\\nvalue = [0, 62]'),\n",
              " Text(0.31620553359683795, 0.8611111111111112, 'X[4] <= 20.8\\ngini = 0.5\\nsamples = 69\\nvalue = [35, 34]'),\n",
              " Text(0.2766798418972332, 0.8055555555555556, 'X[1] <= 27.5\\ngini = 0.487\\nsamples = 55\\nvalue = [23, 32]'),\n",
              " Text(0.22924901185770752, 0.75, 'X[3] <= 0.5\\ngini = 0.444\\nsamples = 42\\nvalue = [14, 28]'),\n",
              " Text(0.18181818181818182, 0.6944444444444444, 'X[4] <= 7.89\\ngini = 0.49\\nsamples = 28\\nvalue = [12, 16]'),\n",
              " Text(0.15019762845849802, 0.6388888888888888, 'X[4] <= 6.987\\ngini = 0.32\\nsamples = 15\\nvalue = [3, 12]'),\n",
              " Text(0.1422924901185771, 0.5833333333333334, 'gini = 0.0\\nsamples = 1\\nvalue = [1, 0]'),\n",
              " Text(0.15810276679841898, 0.5833333333333334, 'X[1] <= 24.0\\ngini = 0.245\\nsamples = 14\\nvalue = [2, 12]'),\n",
              " Text(0.1422924901185771, 0.5277777777777778, 'X[6] <= 0.5\\ngini = 0.153\\nsamples = 12\\nvalue = [1, 11]'),\n",
              " Text(0.13438735177865613, 0.4722222222222222, 'gini = 0.0\\nsamples = 9\\nvalue = [0, 9]'),\n",
              " Text(0.15019762845849802, 0.4722222222222222, 'X[1] <= 18.5\\ngini = 0.444\\nsamples = 3\\nvalue = [1, 2]'),\n",
              " Text(0.1422924901185771, 0.4166666666666667, 'gini = 0.0\\nsamples = 2\\nvalue = [0, 2]'),\n",
              " Text(0.15810276679841898, 0.4166666666666667, 'gini = 0.0\\nsamples = 1\\nvalue = [1, 0]'),\n",
              " Text(0.17391304347826086, 0.5277777777777778, 'X[4] <= 7.815\\ngini = 0.5\\nsamples = 2\\nvalue = [1, 1]'),\n",
              " Text(0.16600790513833993, 0.4722222222222222, 'gini = 0.0\\nsamples = 1\\nvalue = [1, 0]'),\n",
              " Text(0.18181818181818182, 0.4722222222222222, 'gini = 0.0\\nsamples = 1\\nvalue = [0, 1]'),\n",
              " Text(0.2134387351778656, 0.6388888888888888, 'X[1] <= 14.25\\ngini = 0.426\\nsamples = 13\\nvalue = [9, 4]'),\n",
              " Text(0.20553359683794467, 0.5833333333333334, 'gini = 0.0\\nsamples = 1\\nvalue = [0, 1]'),\n",
              " Text(0.22134387351778656, 0.5833333333333334, 'X[1] <= 23.5\\ngini = 0.375\\nsamples = 12\\nvalue = [9, 3]'),\n",
              " Text(0.20553359683794467, 0.5277777777777778, 'X[1] <= 19.0\\ngini = 0.245\\nsamples = 7\\nvalue = [6, 1]'),\n",
              " Text(0.1976284584980237, 0.4722222222222222, 'X[7] <= 0.5\\ngini = 0.444\\nsamples = 3\\nvalue = [2, 1]'),\n",
              " Text(0.18972332015810275, 0.4166666666666667, 'gini = 0.0\\nsamples = 2\\nvalue = [2, 0]'),\n",
              " Text(0.20553359683794467, 0.4166666666666667, 'gini = 0.0\\nsamples = 1\\nvalue = [0, 1]'),\n",
              " Text(0.2134387351778656, 0.4722222222222222, 'gini = 0.0\\nsamples = 4\\nvalue = [4, 0]'),\n",
              " Text(0.23715415019762845, 0.5277777777777778, 'X[4] <= 15.975\\ngini = 0.48\\nsamples = 5\\nvalue = [3, 2]'),\n",
              " Text(0.22924901185770752, 0.4722222222222222, 'X[4] <= 12.35\\ngini = 0.5\\nsamples = 4\\nvalue = [2, 2]'),\n",
              " Text(0.22134387351778656, 0.4166666666666667, 'X[1] <= 25.5\\ngini = 0.444\\nsamples = 3\\nvalue = [2, 1]'),\n",
              " Text(0.2134387351778656, 0.3611111111111111, 'gini = 0.0\\nsamples = 2\\nvalue = [2, 0]'),\n",
              " Text(0.22924901185770752, 0.3611111111111111, 'gini = 0.0\\nsamples = 1\\nvalue = [0, 1]'),\n",
              " Text(0.23715415019762845, 0.4166666666666667, 'gini = 0.0\\nsamples = 1\\nvalue = [0, 1]'),\n",
              " Text(0.2450592885375494, 0.4722222222222222, 'gini = 0.0\\nsamples = 1\\nvalue = [1, 0]'),\n",
              " Text(0.2766798418972332, 0.6944444444444444, 'X[1] <= 13.0\\ngini = 0.245\\nsamples = 14\\nvalue = [2, 12]'),\n",
              " Text(0.26877470355731226, 0.6388888888888888, 'X[1] <= 6.5\\ngini = 0.375\\nsamples = 8\\nvalue = [2, 6]'),\n",
              " Text(0.2608695652173913, 0.5833333333333334, 'X[4] <= 10.798\\ngini = 0.245\\nsamples = 7\\nvalue = [1, 6]'),\n",
              " Text(0.25296442687747034, 0.5277777777777778, 'gini = 0.0\\nsamples = 1\\nvalue = [1, 0]'),\n",
              " Text(0.26877470355731226, 0.5277777777777778, 'gini = 0.0\\nsamples = 6\\nvalue = [0, 6]'),\n",
              " Text(0.2766798418972332, 0.5833333333333334, 'gini = 0.0\\nsamples = 1\\nvalue = [1, 0]'),\n",
              " Text(0.2845849802371542, 0.6388888888888888, 'gini = 0.0\\nsamples = 6\\nvalue = [0, 6]'),\n",
              " Text(0.3241106719367589, 0.75, 'X[4] <= 14.85\\ngini = 0.426\\nsamples = 13\\nvalue = [9, 4]'),\n",
              " Text(0.308300395256917, 0.6944444444444444, 'X[1] <= 54.0\\ngini = 0.219\\nsamples = 8\\nvalue = [7, 1]'),\n",
              " Text(0.30039525691699603, 0.6388888888888888, 'gini = 0.0\\nsamples = 7\\nvalue = [7, 0]'),\n",
              " Text(0.31620553359683795, 0.6388888888888888, 'gini = 0.0\\nsamples = 1\\nvalue = [0, 1]'),\n",
              " Text(0.33992094861660077, 0.6944444444444444, 'X[1] <= 31.5\\ngini = 0.48\\nsamples = 5\\nvalue = [2, 3]'),\n",
              " Text(0.33201581027667987, 0.6388888888888888, 'gini = 0.0\\nsamples = 2\\nvalue = [0, 2]'),\n",
              " Text(0.34782608695652173, 0.6388888888888888, 'X[3] <= 0.5\\ngini = 0.444\\nsamples = 3\\nvalue = [2, 1]'),\n",
              " Text(0.33992094861660077, 0.5833333333333334, 'gini = 0.0\\nsamples = 1\\nvalue = [0, 1]'),\n",
              " Text(0.3557312252964427, 0.5833333333333334, 'gini = 0.0\\nsamples = 2\\nvalue = [2, 0]'),\n",
              " Text(0.3557312252964427, 0.8055555555555556, 'X[4] <= 31.331\\ngini = 0.245\\nsamples = 14\\nvalue = [12, 2]'),\n",
              " Text(0.34782608695652173, 0.75, 'gini = 0.0\\nsamples = 8\\nvalue = [8, 0]'),\n",
              " Text(0.36363636363636365, 0.75, 'X[4] <= 32.881\\ngini = 0.444\\nsamples = 6\\nvalue = [4, 2]'),\n",
              " Text(0.3557312252964427, 0.6944444444444444, 'gini = 0.0\\nsamples = 2\\nvalue = [0, 2]'),\n",
              " Text(0.3715415019762846, 0.6944444444444444, 'gini = 0.0\\nsamples = 4\\nvalue = [4, 0]'),\n",
              " Text(0.5891180830039525, 0.9166666666666666, 'X[0] <= 1.5\\ngini = 0.335\\nsamples = 315\\nvalue = [248, 67]'),\n",
              " Text(0.4407114624505929, 0.8611111111111112, 'X[1] <= 36.5\\ngini = 0.481\\nsamples = 72\\nvalue = [43, 29]'),\n",
              " Text(0.38735177865612647, 0.8055555555555556, 'X[4] <= 37.812\\ngini = 0.471\\nsamples = 29\\nvalue = [11, 18]'),\n",
              " Text(0.3794466403162055, 0.75, 'gini = 0.0\\nsamples = 6\\nvalue = [0, 6]'),\n",
              " Text(0.3952569169960474, 0.75, 'X[1] <= 17.5\\ngini = 0.499\\nsamples = 23\\nvalue = [11, 12]'),\n",
              " Text(0.38735177865612647, 0.6944444444444444, 'gini = 0.0\\nsamples = 4\\nvalue = [0, 4]'),\n",
              " Text(0.4031620553359684, 0.6944444444444444, 'X[1] <= 22.5\\ngini = 0.488\\nsamples = 19\\nvalue = [11, 8]'),\n",
              " Text(0.3952569169960474, 0.6388888888888888, 'gini = 0.0\\nsamples = 4\\nvalue = [4, 0]'),\n",
              " Text(0.41106719367588934, 0.6388888888888888, 'X[4] <= 50.1\\ngini = 0.498\\nsamples = 15\\nvalue = [7, 8]'),\n",
              " Text(0.4031620553359684, 0.5833333333333334, 'gini = 0.0\\nsamples = 2\\nvalue = [2, 0]'),\n",
              " Text(0.4189723320158103, 0.5833333333333334, 'X[4] <= 64.979\\ngini = 0.473\\nsamples = 13\\nvalue = [5, 8]'),\n",
              " Text(0.41106719367588934, 0.5277777777777778, 'gini = 0.0\\nsamples = 4\\nvalue = [0, 4]'),\n",
              " Text(0.4268774703557312, 0.5277777777777778, 'X[4] <= 379.925\\ngini = 0.494\\nsamples = 9\\nvalue = [5, 4]'),\n",
              " Text(0.4189723320158103, 0.4722222222222222, 'X[4] <= 165.75\\ngini = 0.408\\nsamples = 7\\nvalue = [5, 2]'),\n",
              " Text(0.41106719367588934, 0.4166666666666667, 'X[1] <= 27.5\\ngini = 0.48\\nsamples = 5\\nvalue = [3, 2]'),\n",
              " Text(0.4031620553359684, 0.3611111111111111, 'gini = 0.0\\nsamples = 1\\nvalue = [0, 1]'),\n",
              " Text(0.4189723320158103, 0.3611111111111111, 'X[3] <= 1.0\\ngini = 0.375\\nsamples = 4\\nvalue = [3, 1]'),\n",
              " Text(0.41106719367588934, 0.3055555555555556, 'gini = 0.0\\nsamples = 3\\nvalue = [3, 0]'),\n",
              " Text(0.4268774703557312, 0.3055555555555556, 'gini = 0.0\\nsamples = 1\\nvalue = [0, 1]'),\n",
              " Text(0.4268774703557312, 0.4166666666666667, 'gini = 0.0\\nsamples = 2\\nvalue = [2, 0]'),\n",
              " Text(0.43478260869565216, 0.4722222222222222, 'gini = 0.0\\nsamples = 2\\nvalue = [0, 2]'),\n",
              " Text(0.49407114624505927, 0.8055555555555556, 'X[1] <= 75.5\\ngini = 0.381\\nsamples = 43\\nvalue = [32, 11]'),\n",
              " Text(0.48616600790513836, 0.75, 'X[2] <= 0.5\\ngini = 0.363\\nsamples = 42\\nvalue = [32, 10]'),\n",
              " Text(0.466403162055336, 0.6944444444444444, 'X[4] <= 32.25\\ngini = 0.26\\nsamples = 26\\nvalue = [22, 4]'),\n",
              " Text(0.45849802371541504, 0.6388888888888888, 'X[4] <= 30.848\\ngini = 0.408\\nsamples = 14\\nvalue = [10, 4]'),\n",
              " Text(0.4505928853754941, 0.5833333333333334, 'X[1] <= 41.0\\ngini = 0.355\\nsamples = 13\\nvalue = [10, 3]'),\n",
              " Text(0.4426877470355731, 0.5277777777777778, 'gini = 0.0\\nsamples = 5\\nvalue = [5, 0]'),\n",
              " Text(0.45849802371541504, 0.5277777777777778, 'X[1] <= 53.5\\ngini = 0.469\\nsamples = 8\\nvalue = [5, 3]'),\n",
              " Text(0.4505928853754941, 0.4722222222222222, 'X[1] <= 48.25\\ngini = 0.48\\nsamples = 5\\nvalue = [2, 3]'),\n",
              " Text(0.4426877470355731, 0.4166666666666667, 'X[4] <= 26.419\\ngini = 0.444\\nsamples = 3\\nvalue = [2, 1]'),\n",
              " Text(0.43478260869565216, 0.3611111111111111, 'gini = 0.0\\nsamples = 1\\nvalue = [0, 1]'),\n",
              " Text(0.4505928853754941, 0.3611111111111111, 'gini = 0.0\\nsamples = 2\\nvalue = [2, 0]'),\n",
              " Text(0.45849802371541504, 0.4166666666666667, 'gini = 0.0\\nsamples = 2\\nvalue = [0, 2]'),\n",
              " Text(0.466403162055336, 0.4722222222222222, 'gini = 0.0\\nsamples = 3\\nvalue = [3, 0]'),\n",
              " Text(0.466403162055336, 0.5833333333333334, 'gini = 0.0\\nsamples = 1\\nvalue = [0, 1]'),\n",
              " Text(0.4743083003952569, 0.6388888888888888, 'gini = 0.0\\nsamples = 12\\nvalue = [12, 0]'),\n",
              " Text(0.5059288537549407, 0.6944444444444444, 'X[4] <= 52.827\\ngini = 0.469\\nsamples = 16\\nvalue = [10, 6]'),\n",
              " Text(0.4901185770750988, 0.6388888888888888, 'X[4] <= 52.277\\ngini = 0.375\\nsamples = 4\\nvalue = [1, 3]'),\n",
              " Text(0.48221343873517786, 0.5833333333333334, 'X[1] <= 45.0\\ngini = 0.5\\nsamples = 2\\nvalue = [1, 1]'),\n",
              " Text(0.4743083003952569, 0.5277777777777778, 'gini = 0.0\\nsamples = 1\\nvalue = [1, 0]'),\n",
              " Text(0.4901185770750988, 0.5277777777777778, 'gini = 0.0\\nsamples = 1\\nvalue = [0, 1]'),\n",
              " Text(0.4980237154150198, 0.5833333333333334, 'gini = 0.0\\nsamples = 2\\nvalue = [0, 2]'),\n",
              " Text(0.5217391304347826, 0.6388888888888888, 'X[4] <= 73.865\\ngini = 0.375\\nsamples = 12\\nvalue = [9, 3]'),\n",
              " Text(0.5138339920948617, 0.5833333333333334, 'gini = 0.0\\nsamples = 4\\nvalue = [4, 0]'),\n",
              " Text(0.5296442687747036, 0.5833333333333334, 'X[4] <= 79.425\\ngini = 0.469\\nsamples = 8\\nvalue = [5, 3]'),\n",
              " Text(0.5217391304347826, 0.5277777777777778, 'gini = 0.0\\nsamples = 2\\nvalue = [0, 2]'),\n",
              " Text(0.5375494071146245, 0.5277777777777778, 'X[2] <= 1.5\\ngini = 0.278\\nsamples = 6\\nvalue = [5, 1]'),\n",
              " Text(0.5296442687747036, 0.4722222222222222, 'gini = 0.0\\nsamples = 4\\nvalue = [4, 0]'),\n",
              " Text(0.5454545454545454, 0.4722222222222222, 'X[4] <= 111.825\\ngini = 0.5\\nsamples = 2\\nvalue = [1, 1]'),\n",
              " Text(0.5375494071146245, 0.4166666666666667, 'gini = 0.0\\nsamples = 1\\nvalue = [1, 0]'),\n",
              " Text(0.5533596837944664, 0.4166666666666667, 'gini = 0.0\\nsamples = 1\\nvalue = [0, 1]'),\n",
              " Text(0.5019762845849802, 0.75, 'gini = 0.0\\nsamples = 1\\nvalue = [0, 1]'),\n",
              " Text(0.7375247035573123, 0.8611111111111112, 'X[1] <= 9.5\\ngini = 0.264\\nsamples = 243\\nvalue = [205, 38]'),\n",
              " Text(0.5721343873517787, 0.8055555555555556, 'X[2] <= 2.5\\ngini = 0.494\\nsamples = 18\\nvalue = [8, 10]'),\n",
              " Text(0.5642292490118577, 0.75, 'gini = 0.0\\nsamples = 9\\nvalue = [0, 9]'),\n",
              " Text(0.5800395256916996, 0.75, 'X[3] <= 1.5\\ngini = 0.198\\nsamples = 9\\nvalue = [8, 1]'),\n",
              " Text(0.5721343873517787, 0.6944444444444444, 'gini = 0.0\\nsamples = 5\\nvalue = [5, 0]'),\n",
              " Text(0.5879446640316206, 0.6944444444444444, 'X[1] <= 3.5\\ngini = 0.375\\nsamples = 4\\nvalue = [3, 1]'),\n",
              " Text(0.5800395256916996, 0.6388888888888888, 'X[4] <= 39.144\\ngini = 0.5\\nsamples = 2\\nvalue = [1, 1]'),\n",
              " Text(0.5721343873517787, 0.5833333333333334, 'gini = 0.0\\nsamples = 1\\nvalue = [0, 1]'),\n",
              " Text(0.5879446640316206, 0.5833333333333334, 'gini = 0.0\\nsamples = 1\\nvalue = [1, 0]'),\n",
              " Text(0.5958498023715415, 0.6388888888888888, 'gini = 0.0\\nsamples = 2\\nvalue = [2, 0]'),\n",
              " Text(0.9029150197628458, 0.8055555555555556, 'X[4] <= 51.698\\ngini = 0.218\\nsamples = 225\\nvalue = [197, 28]'),\n",
              " Text(0.8216403162055336, 0.75, 'X[4] <= 13.25\\ngini = 0.208\\nsamples = 220\\nvalue = [194, 26]'),\n",
              " Text(0.682806324110672, 0.6944444444444444, 'X[1] <= 13.5\\ngini = 0.241\\nsamples = 171\\nvalue = [147, 24]'),\n",
              " Text(0.674901185770751, 0.6388888888888888, 'gini = 0.0\\nsamples = 1\\nvalue = [0, 1]'),\n",
              " Text(0.6907114624505929, 0.6388888888888888, 'X[4] <= 7.91\\ngini = 0.234\\nsamples = 170\\nvalue = [147, 23]'),\n",
              " Text(0.6037549407114624, 0.5833333333333334, 'X[1] <= 32.5\\ngini = 0.171\\nsamples = 85\\nvalue = [77, 8]'),\n",
              " Text(0.5958498023715415, 0.5277777777777778, 'X[1] <= 19.5\\ngini = 0.222\\nsamples = 63\\nvalue = [55, 8]'),\n",
              " Text(0.5879446640316206, 0.4722222222222222, 'gini = 0.0\\nsamples = 11\\nvalue = [11, 0]'),\n",
              " Text(0.6037549407114624, 0.4722222222222222, 'X[4] <= 7.01\\ngini = 0.26\\nsamples = 52\\nvalue = [44, 8]'),\n",
              " Text(0.5691699604743083, 0.4166666666666667, 'X[4] <= 5.494\\ngini = 0.5\\nsamples = 2\\nvalue = [1, 1]'),\n",
              " Text(0.5612648221343873, 0.3611111111111111, 'gini = 0.0\\nsamples = 1\\nvalue = [1, 0]'),\n",
              " Text(0.5770750988142292, 0.3611111111111111, 'gini = 0.0\\nsamples = 1\\nvalue = [0, 1]'),\n",
              " Text(0.6383399209486166, 0.4166666666666667, 'X[7] <= 0.5\\ngini = 0.241\\nsamples = 50\\nvalue = [43, 7]'),\n",
              " Text(0.5928853754940712, 0.3611111111111111, 'X[4] <= 7.823\\ngini = 0.397\\nsamples = 11\\nvalue = [8, 3]'),\n",
              " Text(0.5849802371541502, 0.3055555555555556, 'X[1] <= 20.5\\ngini = 0.32\\nsamples = 10\\nvalue = [8, 2]'),\n",
              " Text(0.5770750988142292, 0.25, 'gini = 0.0\\nsamples = 1\\nvalue = [0, 1]'),\n",
              " Text(0.5928853754940712, 0.25, 'X[4] <= 7.742\\ngini = 0.198\\nsamples = 9\\nvalue = [8, 1]'),\n",
              " Text(0.5849802371541502, 0.19444444444444445, 'gini = 0.0\\nsamples = 6\\nvalue = [6, 0]'),\n",
              " Text(0.6007905138339921, 0.19444444444444445, 'X[1] <= 30.0\\ngini = 0.444\\nsamples = 3\\nvalue = [2, 1]'),\n",
              " Text(0.5928853754940712, 0.1388888888888889, 'gini = 0.0\\nsamples = 1\\nvalue = [0, 1]'),\n",
              " Text(0.6086956521739131, 0.1388888888888889, 'gini = 0.0\\nsamples = 2\\nvalue = [2, 0]'),\n",
              " Text(0.6007905138339921, 0.3055555555555556, 'gini = 0.0\\nsamples = 1\\nvalue = [0, 1]'),\n",
              " Text(0.6837944664031621, 0.3611111111111111, 'X[1] <= 31.5\\ngini = 0.184\\nsamples = 39\\nvalue = [35, 4]'),\n",
              " Text(0.6679841897233202, 0.3055555555555556, 'X[4] <= 7.798\\ngini = 0.149\\nsamples = 37\\nvalue = [34, 3]'),\n",
              " Text(0.6600790513833992, 0.25, 'X[2] <= 0.5\\ngini = 0.227\\nsamples = 23\\nvalue = [20, 3]'),\n",
              " Text(0.6403162055335968, 0.19444444444444445, 'X[4] <= 7.196\\ngini = 0.18\\nsamples = 20\\nvalue = [18, 2]'),\n",
              " Text(0.6245059288537549, 0.1388888888888889, 'X[4] <= 7.133\\ngini = 0.375\\nsamples = 4\\nvalue = [3, 1]'),\n",
              " Text(0.616600790513834, 0.08333333333333333, 'gini = 0.0\\nsamples = 3\\nvalue = [3, 0]'),\n",
              " Text(0.6324110671936759, 0.08333333333333333, 'gini = 0.0\\nsamples = 1\\nvalue = [0, 1]'),\n",
              " Text(0.6561264822134387, 0.1388888888888889, 'X[4] <= 7.785\\ngini = 0.117\\nsamples = 16\\nvalue = [15, 1]'),\n",
              " Text(0.6482213438735178, 0.08333333333333333, 'gini = 0.0\\nsamples = 12\\nvalue = [12, 0]'),\n",
              " Text(0.6640316205533597, 0.08333333333333333, 'X[1] <= 21.5\\ngini = 0.375\\nsamples = 4\\nvalue = [3, 1]'),\n",
              " Text(0.6561264822134387, 0.027777777777777776, 'gini = 0.0\\nsamples = 1\\nvalue = [0, 1]'),\n",
              " Text(0.6719367588932806, 0.027777777777777776, 'gini = 0.0\\nsamples = 3\\nvalue = [3, 0]'),\n",
              " Text(0.6798418972332015, 0.19444444444444445, 'X[1] <= 27.0\\ngini = 0.444\\nsamples = 3\\nvalue = [2, 1]'),\n",
              " Text(0.6719367588932806, 0.1388888888888889, 'gini = 0.5\\nsamples = 2\\nvalue = [1, 1]'),\n",
              " Text(0.6877470355731226, 0.1388888888888889, 'gini = 0.0\\nsamples = 1\\nvalue = [1, 0]'),\n",
              " Text(0.6758893280632411, 0.25, 'gini = 0.0\\nsamples = 14\\nvalue = [14, 0]'),\n",
              " Text(0.6996047430830039, 0.3055555555555556, 'X[4] <= 7.875\\ngini = 0.5\\nsamples = 2\\nvalue = [1, 1]'),\n",
              " Text(0.691699604743083, 0.25, 'gini = 0.0\\nsamples = 1\\nvalue = [0, 1]'),\n",
              " Text(0.7075098814229249, 0.25, 'gini = 0.0\\nsamples = 1\\nvalue = [1, 0]'),\n",
              " Text(0.6116600790513834, 0.5277777777777778, 'gini = 0.0\\nsamples = 22\\nvalue = [22, 0]'),\n",
              " Text(0.7776679841897233, 0.5833333333333334, 'X[4] <= 7.988\\ngini = 0.291\\nsamples = 85\\nvalue = [70, 15]'),\n",
              " Text(0.7233201581027668, 0.5277777777777778, 'X[1] <= 35.5\\ngini = 0.49\\nsamples = 7\\nvalue = [3, 4]'),\n",
              " Text(0.7154150197628458, 0.4722222222222222, 'X[2] <= 0.5\\ngini = 0.48\\nsamples = 5\\nvalue = [3, 2]'),\n",
              " Text(0.7075098814229249, 0.4166666666666667, 'X[1] <= 26.0\\ngini = 0.375\\nsamples = 4\\nvalue = [3, 1]'),\n",
              " Text(0.6996047430830039, 0.3611111111111111, 'gini = 0.0\\nsamples = 1\\nvalue = [1, 0]'),\n",
              " Text(0.7154150197628458, 0.3611111111111111, 'gini = 0.444\\nsamples = 3\\nvalue = [2, 1]'),\n",
              " Text(0.7233201581027668, 0.4166666666666667, 'gini = 0.0\\nsamples = 1\\nvalue = [0, 1]'),\n",
              " Text(0.7312252964426877, 0.4722222222222222, 'gini = 0.0\\nsamples = 2\\nvalue = [0, 2]'),\n",
              " Text(0.8320158102766798, 0.5277777777777778, 'X[1] <= 40.5\\ngini = 0.242\\nsamples = 78\\nvalue = [67, 11]'),\n",
              " Text(0.782608695652174, 0.4722222222222222, 'X[1] <= 19.5\\ngini = 0.216\\nsamples = 65\\nvalue = [57, 8]'),\n",
              " Text(0.7470355731225297, 0.4166666666666667, 'X[4] <= 8.175\\ngini = 0.332\\nsamples = 19\\nvalue = [15, 4]'),\n",
              " Text(0.7312252964426877, 0.3611111111111111, 'X[1] <= 17.0\\ngini = 0.48\\nsamples = 5\\nvalue = [2, 3]'),\n",
              " Text(0.7233201581027668, 0.3055555555555556, 'gini = 0.5\\nsamples = 2\\nvalue = [1, 1]'),\n",
              " Text(0.7391304347826086, 0.3055555555555556, 'X[1] <= 18.5\\ngini = 0.444\\nsamples = 3\\nvalue = [1, 2]'),\n",
              " Text(0.7312252964426877, 0.25, 'gini = 0.0\\nsamples = 1\\nvalue = [0, 1]'),\n",
              " Text(0.7470355731225297, 0.25, 'gini = 0.5\\nsamples = 2\\nvalue = [1, 1]'),\n",
              " Text(0.7628458498023716, 0.3611111111111111, 'X[1] <= 18.5\\ngini = 0.133\\nsamples = 14\\nvalue = [13, 1]'),\n",
              " Text(0.7549407114624506, 0.3055555555555556, 'gini = 0.0\\nsamples = 10\\nvalue = [10, 0]'),\n",
              " Text(0.7707509881422925, 0.3055555555555556, 'X[4] <= 10.335\\ngini = 0.375\\nsamples = 4\\nvalue = [3, 1]'),\n",
              " Text(0.7628458498023716, 0.25, 'gini = 0.0\\nsamples = 1\\nvalue = [1, 0]'),\n",
              " Text(0.7786561264822134, 0.25, 'X[4] <= 11.75\\ngini = 0.444\\nsamples = 3\\nvalue = [2, 1]'),\n",
              " Text(0.7707509881422925, 0.19444444444444445, 'gini = 0.5\\nsamples = 2\\nvalue = [1, 1]'),\n",
              " Text(0.7865612648221344, 0.19444444444444445, 'gini = 0.0\\nsamples = 1\\nvalue = [1, 0]'),\n",
              " Text(0.8181818181818182, 0.4166666666666667, 'X[1] <= 26.5\\ngini = 0.159\\nsamples = 46\\nvalue = [42, 4]'),\n",
              " Text(0.8102766798418972, 0.3611111111111111, 'gini = 0.0\\nsamples = 20\\nvalue = [20, 0]'),\n",
              " Text(0.8260869565217391, 0.3611111111111111, 'X[4] <= 8.658\\ngini = 0.26\\nsamples = 26\\nvalue = [22, 4]'),\n",
              " Text(0.8181818181818182, 0.3055555555555556, 'gini = 0.0\\nsamples = 6\\nvalue = [6, 0]'),\n",
              " Text(0.83399209486166, 0.3055555555555556, 'X[9] <= 0.5\\ngini = 0.32\\nsamples = 20\\nvalue = [16, 4]'),\n",
              " Text(0.8102766798418972, 0.25, 'X[1] <= 30.5\\ngini = 0.219\\nsamples = 16\\nvalue = [14, 2]'),\n",
              " Text(0.8023715415019763, 0.19444444444444445, 'gini = 0.0\\nsamples = 8\\nvalue = [8, 0]'),\n",
              " Text(0.8181818181818182, 0.19444444444444445, 'X[4] <= 12.938\\ngini = 0.375\\nsamples = 8\\nvalue = [6, 2]'),\n",
              " Text(0.8102766798418972, 0.1388888888888889, 'gini = 0.0\\nsamples = 5\\nvalue = [5, 0]'),\n",
              " Text(0.8260869565217391, 0.1388888888888889, 'X[1] <= 36.5\\ngini = 0.444\\nsamples = 3\\nvalue = [1, 2]'),\n",
              " Text(0.8181818181818182, 0.08333333333333333, 'gini = 0.0\\nsamples = 2\\nvalue = [0, 2]'),\n",
              " Text(0.83399209486166, 0.08333333333333333, 'gini = 0.0\\nsamples = 1\\nvalue = [1, 0]'),\n",
              " Text(0.857707509881423, 0.25, 'X[4] <= 9.492\\ngini = 0.5\\nsamples = 4\\nvalue = [2, 2]'),\n",
              " Text(0.849802371541502, 0.19444444444444445, 'X[1] <= 28.0\\ngini = 0.444\\nsamples = 3\\nvalue = [2, 1]'),\n",
              " Text(0.841897233201581, 0.1388888888888889, 'gini = 0.0\\nsamples = 1\\nvalue = [0, 1]'),\n",
              " Text(0.857707509881423, 0.1388888888888889, 'gini = 0.0\\nsamples = 2\\nvalue = [2, 0]'),\n",
              " Text(0.8656126482213439, 0.19444444444444445, 'gini = 0.0\\nsamples = 1\\nvalue = [0, 1]'),\n",
              " Text(0.8814229249011858, 0.4722222222222222, 'X[1] <= 46.5\\ngini = 0.355\\nsamples = 13\\nvalue = [10, 3]'),\n",
              " Text(0.8656126482213439, 0.4166666666666667, 'X[4] <= 10.831\\ngini = 0.48\\nsamples = 5\\nvalue = [3, 2]'),\n",
              " Text(0.857707509881423, 0.3611111111111111, 'X[1] <= 44.5\\ngini = 0.375\\nsamples = 4\\nvalue = [3, 1]'),\n",
              " Text(0.849802371541502, 0.3055555555555556, 'gini = 0.0\\nsamples = 3\\nvalue = [3, 0]'),\n",
              " Text(0.8656126482213439, 0.3055555555555556, 'gini = 0.0\\nsamples = 1\\nvalue = [0, 1]'),\n",
              " Text(0.8735177865612648, 0.3611111111111111, 'gini = 0.0\\nsamples = 1\\nvalue = [0, 1]'),\n",
              " Text(0.8972332015810277, 0.4166666666666667, 'X[1] <= 58.75\\ngini = 0.219\\nsamples = 8\\nvalue = [7, 1]'),\n",
              " Text(0.8893280632411067, 0.3611111111111111, 'gini = 0.0\\nsamples = 5\\nvalue = [5, 0]'),\n",
              " Text(0.9051383399209486, 0.3611111111111111, 'X[1] <= 64.0\\ngini = 0.444\\nsamples = 3\\nvalue = [2, 1]'),\n",
              " Text(0.8972332015810277, 0.3055555555555556, 'gini = 0.0\\nsamples = 1\\nvalue = [0, 1]'),\n",
              " Text(0.9130434782608695, 0.3055555555555556, 'gini = 0.0\\nsamples = 2\\nvalue = [2, 0]'),\n",
              " Text(0.9604743083003953, 0.6944444444444444, 'X[1] <= 32.25\\ngini = 0.078\\nsamples = 49\\nvalue = [47, 2]'),\n",
              " Text(0.9525691699604744, 0.6388888888888888, 'X[1] <= 31.5\\ngini = 0.147\\nsamples = 25\\nvalue = [23, 2]'),\n",
              " Text(0.9367588932806324, 0.5833333333333334, 'X[2] <= 0.5\\ngini = 0.083\\nsamples = 23\\nvalue = [22, 1]'),\n",
              " Text(0.9288537549407114, 0.5277777777777778, 'X[7] <= 0.5\\ngini = 0.245\\nsamples = 7\\nvalue = [6, 1]'),\n",
              " Text(0.9209486166007905, 0.4722222222222222, 'X[1] <= 18.5\\ngini = 0.5\\nsamples = 2\\nvalue = [1, 1]'),\n",
              " Text(0.9130434782608695, 0.4166666666666667, 'gini = 0.0\\nsamples = 1\\nvalue = [1, 0]'),\n",
              " Text(0.9288537549407114, 0.4166666666666667, 'gini = 0.0\\nsamples = 1\\nvalue = [0, 1]'),\n",
              " Text(0.9367588932806324, 0.4722222222222222, 'gini = 0.0\\nsamples = 5\\nvalue = [5, 0]'),\n",
              " Text(0.9446640316205533, 0.5277777777777778, 'gini = 0.0\\nsamples = 16\\nvalue = [16, 0]'),\n",
              " Text(0.9683794466403162, 0.5833333333333334, 'X[4] <= 20.925\\ngini = 0.5\\nsamples = 2\\nvalue = [1, 1]'),\n",
              " Text(0.9604743083003953, 0.5277777777777778, 'gini = 0.0\\nsamples = 1\\nvalue = [1, 0]'),\n",
              " Text(0.9762845849802372, 0.5277777777777778, 'gini = 0.0\\nsamples = 1\\nvalue = [0, 1]'),\n",
              " Text(0.9683794466403162, 0.6388888888888888, 'gini = 0.0\\nsamples = 24\\nvalue = [24, 0]'),\n",
              " Text(0.9841897233201581, 0.75, 'X[9] <= 0.5\\ngini = 0.48\\nsamples = 5\\nvalue = [3, 2]'),\n",
              " Text(0.9762845849802372, 0.6944444444444444, 'gini = 0.0\\nsamples = 3\\nvalue = [3, 0]'),\n",
              " Text(0.9920948616600791, 0.6944444444444444, 'gini = 0.0\\nsamples = 2\\nvalue = [0, 2]')]"
            ]
          },
          "execution_count": 76,
          "metadata": {},
          "output_type": "execute_result"
        },
        {
          "data": {
            "image/png": "[encoded data removed]",
            "text/plain": [
              "<Figure size 432x288 with 1 Axes>"
            ]
          },
          "metadata": {
            "needs_background": "light"
          },
          "output_type": "display_data"
        }
      ],
      "source": [
        "tree.plot_tree(model)"
      ]
    },
    {
      "cell_type": "code",
      "execution_count": null,
      "id": "db3f0018",
      "metadata": {
        "id": "db3f0018"
      },
      "outputs": [],
      "source": []
    }
  ],
  "metadata": {
    "kernelspec": {
      "display_name": "Python 3 (ipykernel)",
      "language": "python",
      "name": "python3"
    },
    "language_info": {
      "codemirror_mode": {
        "name": "ipython",
        "version": 3
      },
      "file_extension": ".py",
      "mimetype": "text/x-python",
      "name": "python",
      "nbconvert_exporter": "python",
      "pygments_lexer": "ipython3",
      "version": "3.9.12"
    },
    "colab": {
      "provenance": [],
      "include_colab_link": true
    }
  },
  "nbformat": 4,
  "nbformat_minor": 5
}