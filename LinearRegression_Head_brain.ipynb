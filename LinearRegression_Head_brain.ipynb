{
  "cells": [
    {
      "cell_type": "markdown",
      "metadata": {
        "id": "view-in-github",
        "colab_type": "text"
      },
      "source": [
        "<a href=\"https://colab.research.google.com/github/anirudh-bukka/DataAnalysis-SupervisedML/blob/main/LinearRegression_Head_brain.ipynb\" target=\"_parent\"><img src=\"https://colab.research.google.com/assets/colab-badge.svg\" alt=\"Open In Colab\"/></a>"
      ]
    },
    {
      "cell_type": "code",
      "execution_count": null,
      "id": "85880a27",
      "metadata": {
        "id": "85880a27"
      },
      "outputs": [],
      "source": [
        "import pandas as pd\n",
        "import matplotlib.pyplot as plt\n",
        "import numpy as np"
      ]
    },
    {
      "cell_type": "code",
      "execution_count": null,
      "id": "d04b54af",
      "metadata": {
        "id": "d04b54af"
      },
      "outputs": [],
      "source": [
        "df = pd.read_csv(r\"C:\\Users\\banirudh\\Desktop\\Material\\headbrain.csv\")"
      ]
    },
    {
      "cell_type": "code",
      "execution_count": null,
      "id": "17728c54",
      "metadata": {
        "scrolled": false,
        "id": "17728c54",
        "outputId": "745508e0-9073-4720-b22e-9be768cde542"
      },
      "outputs": [
        {
          "data": {
            "text/html": [
              "<div>\n",
              "<style scoped>\n",
              "    .dataframe tbody tr th:only-of-type {\n",
              "        vertical-align: middle;\n",
              "    }\n",
              "\n",
              "    .dataframe tbody tr th {\n",
              "        vertical-align: top;\n",
              "    }\n",
              "\n",
              "    .dataframe thead th {\n",
              "        text-align: right;\n",
              "    }\n",
              "</style>\n",
              "<table border=\"1\" class=\"dataframe\">\n",
              "  <thead>\n",
              "    <tr style=\"text-align: right;\">\n",
              "      <th></th>\n",
              "      <th>Gender</th>\n",
              "      <th>Age Range</th>\n",
              "      <th>Head Size(cm^3)</th>\n",
              "      <th>Brain Weight(grams)</th>\n",
              "    </tr>\n",
              "  </thead>\n",
              "  <tbody>\n",
              "    <tr>\n",
              "      <th>0</th>\n",
              "      <td>1</td>\n",
              "      <td>1</td>\n",
              "      <td>4512</td>\n",
              "      <td>1530</td>\n",
              "    </tr>\n",
              "    <tr>\n",
              "      <th>1</th>\n",
              "      <td>1</td>\n",
              "      <td>1</td>\n",
              "      <td>3738</td>\n",
              "      <td>1297</td>\n",
              "    </tr>\n",
              "    <tr>\n",
              "      <th>2</th>\n",
              "      <td>1</td>\n",
              "      <td>1</td>\n",
              "      <td>4261</td>\n",
              "      <td>1335</td>\n",
              "    </tr>\n",
              "    <tr>\n",
              "      <th>3</th>\n",
              "      <td>1</td>\n",
              "      <td>1</td>\n",
              "      <td>3777</td>\n",
              "      <td>1282</td>\n",
              "    </tr>\n",
              "    <tr>\n",
              "      <th>4</th>\n",
              "      <td>1</td>\n",
              "      <td>1</td>\n",
              "      <td>4177</td>\n",
              "      <td>1590</td>\n",
              "    </tr>\n",
              "    <tr>\n",
              "      <th>...</th>\n",
              "      <td>...</td>\n",
              "      <td>...</td>\n",
              "      <td>...</td>\n",
              "      <td>...</td>\n",
              "    </tr>\n",
              "    <tr>\n",
              "      <th>232</th>\n",
              "      <td>2</td>\n",
              "      <td>2</td>\n",
              "      <td>3214</td>\n",
              "      <td>1110</td>\n",
              "    </tr>\n",
              "    <tr>\n",
              "      <th>233</th>\n",
              "      <td>2</td>\n",
              "      <td>2</td>\n",
              "      <td>3394</td>\n",
              "      <td>1215</td>\n",
              "    </tr>\n",
              "    <tr>\n",
              "      <th>234</th>\n",
              "      <td>2</td>\n",
              "      <td>2</td>\n",
              "      <td>3233</td>\n",
              "      <td>1104</td>\n",
              "    </tr>\n",
              "    <tr>\n",
              "      <th>235</th>\n",
              "      <td>2</td>\n",
              "      <td>2</td>\n",
              "      <td>3352</td>\n",
              "      <td>1170</td>\n",
              "    </tr>\n",
              "    <tr>\n",
              "      <th>236</th>\n",
              "      <td>2</td>\n",
              "      <td>2</td>\n",
              "      <td>3391</td>\n",
              "      <td>1120</td>\n",
              "    </tr>\n",
              "  </tbody>\n",
              "</table>\n",
              "<p>237 rows × 4 columns</p>\n",
              "</div>"
            ],
            "text/plain": [
              "     Gender  Age Range  Head Size(cm^3)  Brain Weight(grams)\n",
              "0         1          1             4512                 1530\n",
              "1         1          1             3738                 1297\n",
              "2         1          1             4261                 1335\n",
              "3         1          1             3777                 1282\n",
              "4         1          1             4177                 1590\n",
              "..      ...        ...              ...                  ...\n",
              "232       2          2             3214                 1110\n",
              "233       2          2             3394                 1215\n",
              "234       2          2             3233                 1104\n",
              "235       2          2             3352                 1170\n",
              "236       2          2             3391                 1120\n",
              "\n",
              "[237 rows x 4 columns]"
            ]
          },
          "execution_count": 3,
          "metadata": {},
          "output_type": "execute_result"
        }
      ],
      "source": [
        "df"
      ]
    },
    {
      "cell_type": "markdown",
      "id": "645bf1b0",
      "metadata": {
        "id": "645bf1b0"
      },
      "source": [
        "**X: 1-D Array of Independent variable | \n",
        "Y: 1-D Array of Dependent variable**"
      ]
    },
    {
      "cell_type": "code",
      "execution_count": null,
      "id": "616e5dba",
      "metadata": {
        "id": "616e5dba"
      },
      "outputs": [],
      "source": [
        "X = df['Head Size(cm^3)'].values\n",
        "Y = df['Brain Weight(grams)'].values"
      ]
    },
    {
      "cell_type": "markdown",
      "id": "66f1a4c4",
      "metadata": {
        "id": "66f1a4c4"
      },
      "source": [
        "# Linear Regression"
      ]
    },
    {
      "cell_type": "code",
      "execution_count": null,
      "id": "c749cce2",
      "metadata": {
        "id": "c749cce2",
        "outputId": "a6c7d05c-1ccb-4c85-fb5d-b40cdfd97104"
      },
      "outputs": [
        {
          "name": "stdout",
          "output_type": "stream",
          "text": [
            "[1514.16660083 1310.27229206 1448.04583661 1320.5460363  1425.9177721\n",
            " 1269.96760312 1322.65347102 1263.11844029 1277.34362462 1374.5490509\n",
            " 1232.56063691 1377.44677363 1284.45621679 1434.08408162 1335.03464997\n",
            " 1346.62554091 1246.78582124 1238.61951172 1140.88722677 1490.98481895\n",
            " 1347.15239959 1391.40852862 1327.65862847 1302.89627056 1576.07249561\n",
            " 1490.72138961 1388.77423523 1385.08622448 1235.45835965 1425.39091342\n",
            " 1323.1803297  1325.55119375 1406.42400097 1421.70290266 1420.91261465\n",
            " 1330.29292186 1254.68870143 1312.90658546 1203.84683891 1245.46867455\n",
            " 1369.28046411 1248.89325596 1462.27102095 1327.65862847 1343.2009595\n",
            " 1388.24737655 1460.42701557 1159.32728053 1284.71964613 1285.50993415\n",
            " 1350.576981   1324.76090573 1450.41670067 1395.88682739 1382.45193108\n",
            " 1236.512077   1350.31355166 1423.02004936 1362.16787194 1292.09566764\n",
            " 1343.99124752 1219.38916994 1495.72654706 1445.9384019  1307.37456933\n",
            " 1202.52969221 1225.18461541 1213.85715381 1492.56539499 1479.65735735\n",
            " 1381.39821372 1341.8838128  1411.16572909 1394.30625136 1332.92721526\n",
            " 1219.65259928 1262.85501095 1211.22286041 1360.85072524 1335.82493799\n",
            " 1334.50779129 1341.35695412 1181.45534505 1267.8601684  1361.64101326\n",
            " 1339.77637808 1197.26110542 1222.81375135 1249.1566853  1354.79185043\n",
            " 1421.43947333 1199.63196948 1290.25166226 1352.68441572 1300.26197716\n",
            " 1321.07289498 1240.4635171  1244.94181587 1288.14422754 1241.78066379\n",
            " 1246.25896256 1335.56150865 1346.62554091 1289.98823292 1278.66077132\n",
            " 1286.56365151 1387.72051787 1220.96974597 1357.16271449 1492.56539499\n",
            " 1298.94483046 1253.89841341 1266.27959237 1272.33846717 1216.75487654\n",
            " 1247.31267992 1271.02132048 1352.94784506 1409.32172371 1362.69473062\n",
            " 1220.96974597 1431.9766469  1507.84429668 1277.60705396 1392.72567532\n",
            " 1321.863183   1218.86231126 1148.52667761 1393.252534   1269.1773151\n",
            " 1291.30537962 1256.00584813 1391.40852862 1291.56880896 1078.19104397\n",
            " 1230.71663154 1324.23404705 1195.41710004 1143.25809082 1160.90785657\n",
            " 1266.54302171 1255.47898945 1161.96157393 1231.24349021 1353.73813308\n",
            " 1352.68441572 1221.49660465 1186.19707316 1234.66807163 1139.57008007\n",
            " 1224.65775673 1200.94911617 1294.99339037 1231.50691955 1340.5666661\n",
            " 1156.95641648 1189.35822524 1302.10598254 1380.87135504 1186.72393184\n",
            " 1134.56492262 1321.07289498 1260.22071756 1192.78280665 1246.78582124\n",
            " 1137.46264536 1181.19191571 1210.16914305 1327.39519913 1264.96244567\n",
            " 1154.05869374 1248.36639728 1266.27959237 1306.58428131 1277.8704833\n",
            " 1169.33759543 1276.28990727 1263.64529897 1373.75876288 1256.26927747\n",
            " 1297.36425443 1157.48327516 1380.6079257  1163.54214997 1242.04409313\n",
            " 1284.98307547 1282.34878207 1134.03806394 1219.65259928 1301.05226518\n",
            " 1159.32728053 1209.1154257  1115.86143952 1296.83739575 1262.32815227\n",
            " 1056.06297945 1131.14034121 1206.4811323  1245.73210389 1194.09995335\n",
            " 1210.69600173 1175.92332892 1188.83136656 1340.03980742 1133.51120526\n",
            " 1298.15454244 1221.76003399 1377.97363231 1199.63196948 1042.10122446\n",
            " 1099.26539113 1268.65045642 1099.79224981 1112.96371678 1270.23103246\n",
            " 1156.95641648 1180.66505703 1160.64442723 1186.4605025  1218.33545258\n",
            " 1216.22801786 1080.03504935 1310.79915074 1242.04409313 1286.30022217\n",
            " 1304.47684659 1190.67537193 1433.03036426 1309.48200404 1173.28903553\n",
            " 1296.31053707 1301.31569452 1172.23531817 1219.65259928 1177.24047562\n",
            " 1208.58856702 1218.86231126]\n",
            "0.639311719957\n"
          ]
        }
      ],
      "source": [
        "from sklearn.linear_model import LinearRegression\n",
        "from sklearn.metrics import mean_squared_error\n",
        "\n",
        "# To reshape the array X to 1 column of X rows.\n",
        "X = X.reshape(len(X), 1)\n",
        "\n",
        "# Instantiate the method.\n",
        "reg = LinearRegression()\n",
        "\n",
        "# Fit the data to the method.\n",
        "reg = reg.fit(X, Y)\n",
        "\n",
        "# Predict the value of y for each x\n",
        "Y_pred = reg.predict(X)\n",
        "# Get the accuracy of the overall prediction (R^2)\n",
        "r2_score = reg.score(X, Y)\n",
        "\n",
        "print(Y_pred)\n",
        "print(r2_score)"
      ]
    },
    {
      "cell_type": "code",
      "execution_count": null,
      "id": "753c3ba4",
      "metadata": {
        "scrolled": true,
        "id": "753c3ba4",
        "outputId": "08b0edec-b987-4740-ff57-de3d4c7a1ec5"
      },
      "outputs": [
        {
          "name": "stdout",
          "output_type": "stream",
          "text": [
            "[0.26342934]\n",
            "325.5734210494428\n"
          ]
        }
      ],
      "source": [
        "min_x = np.min(X)\n",
        "max_x = np.max(X)\n",
        "\n",
        "x = np.linspace(min_x, max_x, 100)\n",
        "\n",
        "print(reg.coef_) # Slope (m) of y = mx + c\n",
        "print(reg.intercept_) # c\n",
        "\n",
        "y = (reg.coef_)*x + (reg.intercept_) # equation for the regression line."
      ]
    },
    {
      "cell_type": "markdown",
      "id": "51210886",
      "metadata": {
        "id": "51210886"
      },
      "source": [
        "### Regression line"
      ]
    },
    {
      "cell_type": "code",
      "execution_count": null,
      "id": "e480df0f",
      "metadata": {
        "id": "e480df0f",
        "outputId": "d69a2bbf-1840-4651-c991-984a2a9770d6"
      },
      "outputs": [
        {
          "data": {
            "text/plain": [
              "<matplotlib.collections.PathCollection at 0x22147c10220>"
            ]
          },
          "execution_count": 7,
          "metadata": {},
          "output_type": "execute_result"
        },
        {
          "data": {
            "image/png": "[encoded data removed]",
            "text/plain": [
              "<Figure size 432x288 with 1 Axes>"
            ]
          },
          "metadata": {
            "needs_background": "light"
          },
          "output_type": "display_data"
        }
      ],
      "source": [
        "plt.plot(x, y, color = \"blue\", label = \"Linear Regression\")\n",
        "plt.scatter(X, Y, c = \"red\", label = \"Data points\")"
      ]
    },
    {
      "cell_type": "code",
      "execution_count": null,
      "id": "78c9f48b",
      "metadata": {
        "id": "78c9f48b"
      },
      "outputs": [],
      "source": []
    }
  ],
  "metadata": {
    "kernelspec": {
      "display_name": "Python 3 (ipykernel)",
      "language": "python",
      "name": "python3"
    },
    "language_info": {
      "codemirror_mode": {
        "name": "ipython",
        "version": 3
      },
      "file_extension": ".py",
      "mimetype": "text/x-python",
      "name": "python",
      "nbconvert_exporter": "python",
      "pygments_lexer": "ipython3",
      "version": "3.9.12"
    },
    "colab": {
      "provenance": [],
      "include_colab_link": true
    }
  },
  "nbformat": 4,
  "nbformat_minor": 5
}